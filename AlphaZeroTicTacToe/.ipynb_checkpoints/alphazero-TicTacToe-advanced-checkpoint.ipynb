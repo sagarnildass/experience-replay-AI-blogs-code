{
 "cells": [
  {
   "cell_type": "markdown",
   "id": "9ee6d56e",
   "metadata": {},
   "source": [
    "# Initialize a game"
   ]
  },
  {
   "cell_type": "code",
   "execution_count": 1,
   "id": "9e4615a8",
   "metadata": {},
   "outputs": [],
   "source": [
    "from ConnectN import ConnectN\n",
    "\n",
    "game_setting = {'size':(6,6), 'N':4, 'pie_rule':True}\n",
    "game = ConnectN(**game_setting)\n"
   ]
  },
  {
   "cell_type": "code",
   "execution_count": 2,
   "id": "1c890f17",
   "metadata": {},
   "outputs": [
    {
     "data": {
      "application/javascript": [
       "/* Put everything inside the global mpl namespace */\n",
       "/* global mpl */\n",
       "window.mpl = {};\n",
       "\n",
       "mpl.get_websocket_type = function () {\n",
       "    if (typeof WebSocket !== 'undefined') {\n",
       "        return WebSocket;\n",
       "    } else if (typeof MozWebSocket !== 'undefined') {\n",
       "        return MozWebSocket;\n",
       "    } else {\n",
       "        alert(\n",
       "            'Your browser does not have WebSocket support. ' +\n",
       "                'Please try Chrome, Safari or Firefox ≥ 6. ' +\n",
       "                'Firefox 4 and 5 are also supported but you ' +\n",
       "                'have to enable WebSockets in about:config.'\n",
       "        );\n",
       "    }\n",
       "};\n",
       "\n",
       "mpl.figure = function (figure_id, websocket, ondownload, parent_element) {\n",
       "    this.id = figure_id;\n",
       "\n",
       "    this.ws = websocket;\n",
       "\n",
       "    this.supports_binary = this.ws.binaryType !== undefined;\n",
       "\n",
       "    if (!this.supports_binary) {\n",
       "        var warnings = document.getElementById('mpl-warnings');\n",
       "        if (warnings) {\n",
       "            warnings.style.display = 'block';\n",
       "            warnings.textContent =\n",
       "                'This browser does not support binary websocket messages. ' +\n",
       "                'Performance may be slow.';\n",
       "        }\n",
       "    }\n",
       "\n",
       "    this.imageObj = new Image();\n",
       "\n",
       "    this.context = undefined;\n",
       "    this.message = undefined;\n",
       "    this.canvas = undefined;\n",
       "    this.rubberband_canvas = undefined;\n",
       "    this.rubberband_context = undefined;\n",
       "    this.format_dropdown = undefined;\n",
       "\n",
       "    this.image_mode = 'full';\n",
       "\n",
       "    this.root = document.createElement('div');\n",
       "    this.root.setAttribute('style', 'display: inline-block');\n",
       "    this._root_extra_style(this.root);\n",
       "\n",
       "    parent_element.appendChild(this.root);\n",
       "\n",
       "    this._init_header(this);\n",
       "    this._init_canvas(this);\n",
       "    this._init_toolbar(this);\n",
       "\n",
       "    var fig = this;\n",
       "\n",
       "    this.waiting = false;\n",
       "\n",
       "    this.ws.onopen = function () {\n",
       "        fig.send_message('supports_binary', { value: fig.supports_binary });\n",
       "        fig.send_message('send_image_mode', {});\n",
       "        if (fig.ratio !== 1) {\n",
       "            fig.send_message('set_device_pixel_ratio', {\n",
       "                device_pixel_ratio: fig.ratio,\n",
       "            });\n",
       "        }\n",
       "        fig.send_message('refresh', {});\n",
       "    };\n",
       "\n",
       "    this.imageObj.onload = function () {\n",
       "        if (fig.image_mode === 'full') {\n",
       "            // Full images could contain transparency (where diff images\n",
       "            // almost always do), so we need to clear the canvas so that\n",
       "            // there is no ghosting.\n",
       "            fig.context.clearRect(0, 0, fig.canvas.width, fig.canvas.height);\n",
       "        }\n",
       "        fig.context.drawImage(fig.imageObj, 0, 0);\n",
       "    };\n",
       "\n",
       "    this.imageObj.onunload = function () {\n",
       "        fig.ws.close();\n",
       "    };\n",
       "\n",
       "    this.ws.onmessage = this._make_on_message_function(this);\n",
       "\n",
       "    this.ondownload = ondownload;\n",
       "};\n",
       "\n",
       "mpl.figure.prototype._init_header = function () {\n",
       "    var titlebar = document.createElement('div');\n",
       "    titlebar.classList =\n",
       "        'ui-dialog-titlebar ui-widget-header ui-corner-all ui-helper-clearfix';\n",
       "    var titletext = document.createElement('div');\n",
       "    titletext.classList = 'ui-dialog-title';\n",
       "    titletext.setAttribute(\n",
       "        'style',\n",
       "        'width: 100%; text-align: center; padding: 3px;'\n",
       "    );\n",
       "    titlebar.appendChild(titletext);\n",
       "    this.root.appendChild(titlebar);\n",
       "    this.header = titletext;\n",
       "};\n",
       "\n",
       "mpl.figure.prototype._canvas_extra_style = function (_canvas_div) {};\n",
       "\n",
       "mpl.figure.prototype._root_extra_style = function (_canvas_div) {};\n",
       "\n",
       "mpl.figure.prototype._init_canvas = function () {\n",
       "    var fig = this;\n",
       "\n",
       "    var canvas_div = (this.canvas_div = document.createElement('div'));\n",
       "    canvas_div.setAttribute('tabindex', '0');\n",
       "    canvas_div.setAttribute(\n",
       "        'style',\n",
       "        'border: 1px solid #ddd;' +\n",
       "            'box-sizing: content-box;' +\n",
       "            'clear: both;' +\n",
       "            'min-height: 1px;' +\n",
       "            'min-width: 1px;' +\n",
       "            'outline: 0;' +\n",
       "            'overflow: hidden;' +\n",
       "            'position: relative;' +\n",
       "            'resize: both;' +\n",
       "            'z-index: 2;'\n",
       "    );\n",
       "\n",
       "    function on_keyboard_event_closure(name) {\n",
       "        return function (event) {\n",
       "            return fig.key_event(event, name);\n",
       "        };\n",
       "    }\n",
       "\n",
       "    canvas_div.addEventListener(\n",
       "        'keydown',\n",
       "        on_keyboard_event_closure('key_press')\n",
       "    );\n",
       "    canvas_div.addEventListener(\n",
       "        'keyup',\n",
       "        on_keyboard_event_closure('key_release')\n",
       "    );\n",
       "\n",
       "    this._canvas_extra_style(canvas_div);\n",
       "    this.root.appendChild(canvas_div);\n",
       "\n",
       "    var canvas = (this.canvas = document.createElement('canvas'));\n",
       "    canvas.classList.add('mpl-canvas');\n",
       "    canvas.setAttribute(\n",
       "        'style',\n",
       "        'box-sizing: content-box;' +\n",
       "            'pointer-events: none;' +\n",
       "            'position: relative;' +\n",
       "            'z-index: 0;'\n",
       "    );\n",
       "\n",
       "    this.context = canvas.getContext('2d');\n",
       "\n",
       "    var backingStore =\n",
       "        this.context.backingStorePixelRatio ||\n",
       "        this.context.webkitBackingStorePixelRatio ||\n",
       "        this.context.mozBackingStorePixelRatio ||\n",
       "        this.context.msBackingStorePixelRatio ||\n",
       "        this.context.oBackingStorePixelRatio ||\n",
       "        this.context.backingStorePixelRatio ||\n",
       "        1;\n",
       "\n",
       "    this.ratio = (window.devicePixelRatio || 1) / backingStore;\n",
       "\n",
       "    var rubberband_canvas = (this.rubberband_canvas = document.createElement(\n",
       "        'canvas'\n",
       "    ));\n",
       "    rubberband_canvas.setAttribute(\n",
       "        'style',\n",
       "        'box-sizing: content-box;' +\n",
       "            'left: 0;' +\n",
       "            'pointer-events: none;' +\n",
       "            'position: absolute;' +\n",
       "            'top: 0;' +\n",
       "            'z-index: 1;'\n",
       "    );\n",
       "\n",
       "    // Apply a ponyfill if ResizeObserver is not implemented by browser.\n",
       "    if (this.ResizeObserver === undefined) {\n",
       "        if (window.ResizeObserver !== undefined) {\n",
       "            this.ResizeObserver = window.ResizeObserver;\n",
       "        } else {\n",
       "            var obs = _JSXTOOLS_RESIZE_OBSERVER({});\n",
       "            this.ResizeObserver = obs.ResizeObserver;\n",
       "        }\n",
       "    }\n",
       "\n",
       "    this.resizeObserverInstance = new this.ResizeObserver(function (entries) {\n",
       "        var nentries = entries.length;\n",
       "        for (var i = 0; i < nentries; i++) {\n",
       "            var entry = entries[i];\n",
       "            var width, height;\n",
       "            if (entry.contentBoxSize) {\n",
       "                if (entry.contentBoxSize instanceof Array) {\n",
       "                    // Chrome 84 implements new version of spec.\n",
       "                    width = entry.contentBoxSize[0].inlineSize;\n",
       "                    height = entry.contentBoxSize[0].blockSize;\n",
       "                } else {\n",
       "                    // Firefox implements old version of spec.\n",
       "                    width = entry.contentBoxSize.inlineSize;\n",
       "                    height = entry.contentBoxSize.blockSize;\n",
       "                }\n",
       "            } else {\n",
       "                // Chrome <84 implements even older version of spec.\n",
       "                width = entry.contentRect.width;\n",
       "                height = entry.contentRect.height;\n",
       "            }\n",
       "\n",
       "            // Keep the size of the canvas and rubber band canvas in sync with\n",
       "            // the canvas container.\n",
       "            if (entry.devicePixelContentBoxSize) {\n",
       "                // Chrome 84 implements new version of spec.\n",
       "                canvas.setAttribute(\n",
       "                    'width',\n",
       "                    entry.devicePixelContentBoxSize[0].inlineSize\n",
       "                );\n",
       "                canvas.setAttribute(\n",
       "                    'height',\n",
       "                    entry.devicePixelContentBoxSize[0].blockSize\n",
       "                );\n",
       "            } else {\n",
       "                canvas.setAttribute('width', width * fig.ratio);\n",
       "                canvas.setAttribute('height', height * fig.ratio);\n",
       "            }\n",
       "            /* This rescales the canvas back to display pixels, so that it\n",
       "             * appears correct on HiDPI screens. */\n",
       "            canvas.style.width = width + 'px';\n",
       "            canvas.style.height = height + 'px';\n",
       "\n",
       "            rubberband_canvas.setAttribute('width', width);\n",
       "            rubberband_canvas.setAttribute('height', height);\n",
       "\n",
       "            // And update the size in Python. We ignore the initial 0/0 size\n",
       "            // that occurs as the element is placed into the DOM, which should\n",
       "            // otherwise not happen due to the minimum size styling.\n",
       "            if (fig.ws.readyState == 1 && width != 0 && height != 0) {\n",
       "                fig.request_resize(width, height);\n",
       "            }\n",
       "        }\n",
       "    });\n",
       "    this.resizeObserverInstance.observe(canvas_div);\n",
       "\n",
       "    function on_mouse_event_closure(name) {\n",
       "        /* User Agent sniffing is bad, but WebKit is busted:\n",
       "         * https://bugs.webkit.org/show_bug.cgi?id=144526\n",
       "         * https://bugs.webkit.org/show_bug.cgi?id=181818\n",
       "         * The worst that happens here is that they get an extra browser\n",
       "         * selection when dragging, if this check fails to catch them.\n",
       "         */\n",
       "        var UA = navigator.userAgent;\n",
       "        var isWebKit = /AppleWebKit/.test(UA) && !/Chrome/.test(UA);\n",
       "        if(isWebKit) {\n",
       "            return function (event) {\n",
       "                /* This prevents the web browser from automatically changing to\n",
       "                 * the text insertion cursor when the button is pressed. We\n",
       "                 * want to control all of the cursor setting manually through\n",
       "                 * the 'cursor' event from matplotlib */\n",
       "                event.preventDefault()\n",
       "                return fig.mouse_event(event, name);\n",
       "            };\n",
       "        } else {\n",
       "            return function (event) {\n",
       "                return fig.mouse_event(event, name);\n",
       "            };\n",
       "        }\n",
       "    }\n",
       "\n",
       "    canvas_div.addEventListener(\n",
       "        'mousedown',\n",
       "        on_mouse_event_closure('button_press')\n",
       "    );\n",
       "    canvas_div.addEventListener(\n",
       "        'mouseup',\n",
       "        on_mouse_event_closure('button_release')\n",
       "    );\n",
       "    canvas_div.addEventListener(\n",
       "        'dblclick',\n",
       "        on_mouse_event_closure('dblclick')\n",
       "    );\n",
       "    // Throttle sequential mouse events to 1 every 20ms.\n",
       "    canvas_div.addEventListener(\n",
       "        'mousemove',\n",
       "        on_mouse_event_closure('motion_notify')\n",
       "    );\n",
       "\n",
       "    canvas_div.addEventListener(\n",
       "        'mouseenter',\n",
       "        on_mouse_event_closure('figure_enter')\n",
       "    );\n",
       "    canvas_div.addEventListener(\n",
       "        'mouseleave',\n",
       "        on_mouse_event_closure('figure_leave')\n",
       "    );\n",
       "\n",
       "    canvas_div.addEventListener('wheel', function (event) {\n",
       "        if (event.deltaY < 0) {\n",
       "            event.step = 1;\n",
       "        } else {\n",
       "            event.step = -1;\n",
       "        }\n",
       "        on_mouse_event_closure('scroll')(event);\n",
       "    });\n",
       "\n",
       "    canvas_div.appendChild(canvas);\n",
       "    canvas_div.appendChild(rubberband_canvas);\n",
       "\n",
       "    this.rubberband_context = rubberband_canvas.getContext('2d');\n",
       "    this.rubberband_context.strokeStyle = '#000000';\n",
       "\n",
       "    this._resize_canvas = function (width, height, forward) {\n",
       "        if (forward) {\n",
       "            canvas_div.style.width = width + 'px';\n",
       "            canvas_div.style.height = height + 'px';\n",
       "        }\n",
       "    };\n",
       "\n",
       "    // Disable right mouse context menu.\n",
       "    canvas_div.addEventListener('contextmenu', function (_e) {\n",
       "        event.preventDefault();\n",
       "        return false;\n",
       "    });\n",
       "\n",
       "    function set_focus() {\n",
       "        canvas.focus();\n",
       "        canvas_div.focus();\n",
       "    }\n",
       "\n",
       "    window.setTimeout(set_focus, 100);\n",
       "};\n",
       "\n",
       "mpl.figure.prototype._init_toolbar = function () {\n",
       "    var fig = this;\n",
       "\n",
       "    var toolbar = document.createElement('div');\n",
       "    toolbar.classList = 'mpl-toolbar';\n",
       "    this.root.appendChild(toolbar);\n",
       "\n",
       "    function on_click_closure(name) {\n",
       "        return function (_event) {\n",
       "            return fig.toolbar_button_onclick(name);\n",
       "        };\n",
       "    }\n",
       "\n",
       "    function on_mouseover_closure(tooltip) {\n",
       "        return function (event) {\n",
       "            if (!event.currentTarget.disabled) {\n",
       "                return fig.toolbar_button_onmouseover(tooltip);\n",
       "            }\n",
       "        };\n",
       "    }\n",
       "\n",
       "    fig.buttons = {};\n",
       "    var buttonGroup = document.createElement('div');\n",
       "    buttonGroup.classList = 'mpl-button-group';\n",
       "    for (var toolbar_ind in mpl.toolbar_items) {\n",
       "        var name = mpl.toolbar_items[toolbar_ind][0];\n",
       "        var tooltip = mpl.toolbar_items[toolbar_ind][1];\n",
       "        var image = mpl.toolbar_items[toolbar_ind][2];\n",
       "        var method_name = mpl.toolbar_items[toolbar_ind][3];\n",
       "\n",
       "        if (!name) {\n",
       "            /* Instead of a spacer, we start a new button group. */\n",
       "            if (buttonGroup.hasChildNodes()) {\n",
       "                toolbar.appendChild(buttonGroup);\n",
       "            }\n",
       "            buttonGroup = document.createElement('div');\n",
       "            buttonGroup.classList = 'mpl-button-group';\n",
       "            continue;\n",
       "        }\n",
       "\n",
       "        var button = (fig.buttons[name] = document.createElement('button'));\n",
       "        button.classList = 'mpl-widget';\n",
       "        button.setAttribute('role', 'button');\n",
       "        button.setAttribute('aria-disabled', 'false');\n",
       "        button.addEventListener('click', on_click_closure(method_name));\n",
       "        button.addEventListener('mouseover', on_mouseover_closure(tooltip));\n",
       "\n",
       "        var icon_img = document.createElement('img');\n",
       "        icon_img.src = '_images/' + image + '.png';\n",
       "        icon_img.srcset = '_images/' + image + '_large.png 2x';\n",
       "        icon_img.alt = tooltip;\n",
       "        button.appendChild(icon_img);\n",
       "\n",
       "        buttonGroup.appendChild(button);\n",
       "    }\n",
       "\n",
       "    if (buttonGroup.hasChildNodes()) {\n",
       "        toolbar.appendChild(buttonGroup);\n",
       "    }\n",
       "\n",
       "    var fmt_picker = document.createElement('select');\n",
       "    fmt_picker.classList = 'mpl-widget';\n",
       "    toolbar.appendChild(fmt_picker);\n",
       "    this.format_dropdown = fmt_picker;\n",
       "\n",
       "    for (var ind in mpl.extensions) {\n",
       "        var fmt = mpl.extensions[ind];\n",
       "        var option = document.createElement('option');\n",
       "        option.selected = fmt === mpl.default_extension;\n",
       "        option.innerHTML = fmt;\n",
       "        fmt_picker.appendChild(option);\n",
       "    }\n",
       "\n",
       "    var status_bar = document.createElement('span');\n",
       "    status_bar.classList = 'mpl-message';\n",
       "    toolbar.appendChild(status_bar);\n",
       "    this.message = status_bar;\n",
       "};\n",
       "\n",
       "mpl.figure.prototype.request_resize = function (x_pixels, y_pixels) {\n",
       "    // Request matplotlib to resize the figure. Matplotlib will then trigger a resize in the client,\n",
       "    // which will in turn request a refresh of the image.\n",
       "    this.send_message('resize', { width: x_pixels, height: y_pixels });\n",
       "};\n",
       "\n",
       "mpl.figure.prototype.send_message = function (type, properties) {\n",
       "    properties['type'] = type;\n",
       "    properties['figure_id'] = this.id;\n",
       "    this.ws.send(JSON.stringify(properties));\n",
       "};\n",
       "\n",
       "mpl.figure.prototype.send_draw_message = function () {\n",
       "    if (!this.waiting) {\n",
       "        this.waiting = true;\n",
       "        this.ws.send(JSON.stringify({ type: 'draw', figure_id: this.id }));\n",
       "    }\n",
       "};\n",
       "\n",
       "mpl.figure.prototype.handle_save = function (fig, _msg) {\n",
       "    var format_dropdown = fig.format_dropdown;\n",
       "    var format = format_dropdown.options[format_dropdown.selectedIndex].value;\n",
       "    fig.ondownload(fig, format);\n",
       "};\n",
       "\n",
       "mpl.figure.prototype.handle_resize = function (fig, msg) {\n",
       "    var size = msg['size'];\n",
       "    if (size[0] !== fig.canvas.width || size[1] !== fig.canvas.height) {\n",
       "        fig._resize_canvas(size[0], size[1], msg['forward']);\n",
       "        fig.send_message('refresh', {});\n",
       "    }\n",
       "};\n",
       "\n",
       "mpl.figure.prototype.handle_rubberband = function (fig, msg) {\n",
       "    var x0 = msg['x0'] / fig.ratio;\n",
       "    var y0 = (fig.canvas.height - msg['y0']) / fig.ratio;\n",
       "    var x1 = msg['x1'] / fig.ratio;\n",
       "    var y1 = (fig.canvas.height - msg['y1']) / fig.ratio;\n",
       "    x0 = Math.floor(x0) + 0.5;\n",
       "    y0 = Math.floor(y0) + 0.5;\n",
       "    x1 = Math.floor(x1) + 0.5;\n",
       "    y1 = Math.floor(y1) + 0.5;\n",
       "    var min_x = Math.min(x0, x1);\n",
       "    var min_y = Math.min(y0, y1);\n",
       "    var width = Math.abs(x1 - x0);\n",
       "    var height = Math.abs(y1 - y0);\n",
       "\n",
       "    fig.rubberband_context.clearRect(\n",
       "        0,\n",
       "        0,\n",
       "        fig.canvas.width / fig.ratio,\n",
       "        fig.canvas.height / fig.ratio\n",
       "    );\n",
       "\n",
       "    fig.rubberband_context.strokeRect(min_x, min_y, width, height);\n",
       "};\n",
       "\n",
       "mpl.figure.prototype.handle_figure_label = function (fig, msg) {\n",
       "    // Updates the figure title.\n",
       "    fig.header.textContent = msg['label'];\n",
       "};\n",
       "\n",
       "mpl.figure.prototype.handle_cursor = function (fig, msg) {\n",
       "    fig.canvas_div.style.cursor = msg['cursor'];\n",
       "};\n",
       "\n",
       "mpl.figure.prototype.handle_message = function (fig, msg) {\n",
       "    fig.message.textContent = msg['message'];\n",
       "};\n",
       "\n",
       "mpl.figure.prototype.handle_draw = function (fig, _msg) {\n",
       "    // Request the server to send over a new figure.\n",
       "    fig.send_draw_message();\n",
       "};\n",
       "\n",
       "mpl.figure.prototype.handle_image_mode = function (fig, msg) {\n",
       "    fig.image_mode = msg['mode'];\n",
       "};\n",
       "\n",
       "mpl.figure.prototype.handle_history_buttons = function (fig, msg) {\n",
       "    for (var key in msg) {\n",
       "        if (!(key in fig.buttons)) {\n",
       "            continue;\n",
       "        }\n",
       "        fig.buttons[key].disabled = !msg[key];\n",
       "        fig.buttons[key].setAttribute('aria-disabled', !msg[key]);\n",
       "    }\n",
       "};\n",
       "\n",
       "mpl.figure.prototype.handle_navigate_mode = function (fig, msg) {\n",
       "    if (msg['mode'] === 'PAN') {\n",
       "        fig.buttons['Pan'].classList.add('active');\n",
       "        fig.buttons['Zoom'].classList.remove('active');\n",
       "    } else if (msg['mode'] === 'ZOOM') {\n",
       "        fig.buttons['Pan'].classList.remove('active');\n",
       "        fig.buttons['Zoom'].classList.add('active');\n",
       "    } else {\n",
       "        fig.buttons['Pan'].classList.remove('active');\n",
       "        fig.buttons['Zoom'].classList.remove('active');\n",
       "    }\n",
       "};\n",
       "\n",
       "mpl.figure.prototype.updated_canvas_event = function () {\n",
       "    // Called whenever the canvas gets updated.\n",
       "    this.send_message('ack', {});\n",
       "};\n",
       "\n",
       "// A function to construct a web socket function for onmessage handling.\n",
       "// Called in the figure constructor.\n",
       "mpl.figure.prototype._make_on_message_function = function (fig) {\n",
       "    return function socket_on_message(evt) {\n",
       "        if (evt.data instanceof Blob) {\n",
       "            var img = evt.data;\n",
       "            if (img.type !== 'image/png') {\n",
       "                /* FIXME: We get \"Resource interpreted as Image but\n",
       "                 * transferred with MIME type text/plain:\" errors on\n",
       "                 * Chrome.  But how to set the MIME type?  It doesn't seem\n",
       "                 * to be part of the websocket stream */\n",
       "                img.type = 'image/png';\n",
       "            }\n",
       "\n",
       "            /* Free the memory for the previous frames */\n",
       "            if (fig.imageObj.src) {\n",
       "                (window.URL || window.webkitURL).revokeObjectURL(\n",
       "                    fig.imageObj.src\n",
       "                );\n",
       "            }\n",
       "\n",
       "            fig.imageObj.src = (window.URL || window.webkitURL).createObjectURL(\n",
       "                img\n",
       "            );\n",
       "            fig.updated_canvas_event();\n",
       "            fig.waiting = false;\n",
       "            return;\n",
       "        } else if (\n",
       "            typeof evt.data === 'string' &&\n",
       "            evt.data.slice(0, 21) === 'data:image/png;base64'\n",
       "        ) {\n",
       "            fig.imageObj.src = evt.data;\n",
       "            fig.updated_canvas_event();\n",
       "            fig.waiting = false;\n",
       "            return;\n",
       "        }\n",
       "\n",
       "        var msg = JSON.parse(evt.data);\n",
       "        var msg_type = msg['type'];\n",
       "\n",
       "        // Call the  \"handle_{type}\" callback, which takes\n",
       "        // the figure and JSON message as its only arguments.\n",
       "        try {\n",
       "            var callback = fig['handle_' + msg_type];\n",
       "        } catch (e) {\n",
       "            console.log(\n",
       "                \"No handler for the '\" + msg_type + \"' message type: \",\n",
       "                msg\n",
       "            );\n",
       "            return;\n",
       "        }\n",
       "\n",
       "        if (callback) {\n",
       "            try {\n",
       "                // console.log(\"Handling '\" + msg_type + \"' message: \", msg);\n",
       "                callback(fig, msg);\n",
       "            } catch (e) {\n",
       "                console.log(\n",
       "                    \"Exception inside the 'handler_\" + msg_type + \"' callback:\",\n",
       "                    e,\n",
       "                    e.stack,\n",
       "                    msg\n",
       "                );\n",
       "            }\n",
       "        }\n",
       "    };\n",
       "};\n",
       "\n",
       "\n",
       "/*\n",
       " * return a copy of an object with only non-object keys\n",
       " * we need this to avoid circular references\n",
       " * https://stackoverflow.com/a/24161582/3208463\n",
       " */\n",
       "function simpleKeys(original) {\n",
       "    return Object.keys(original).reduce(function (obj, key) {\n",
       "        if (typeof original[key] !== 'object') {\n",
       "            obj[key] = original[key];\n",
       "        }\n",
       "        return obj;\n",
       "    }, {});\n",
       "}\n",
       "\n",
       "mpl.figure.prototype.mouse_event = function (event, name) {\n",
       "    if (name === 'button_press') {\n",
       "        this.canvas.focus();\n",
       "        this.canvas_div.focus();\n",
       "    }\n",
       "\n",
       "    // from https://stackoverflow.com/q/1114465\n",
       "    var boundingRect = this.canvas.getBoundingClientRect();\n",
       "    var x = (event.clientX - boundingRect.left) * this.ratio;\n",
       "    var y = (event.clientY - boundingRect.top) * this.ratio;\n",
       "\n",
       "    this.send_message(name, {\n",
       "        x: x,\n",
       "        y: y,\n",
       "        button: event.button,\n",
       "        step: event.step,\n",
       "        guiEvent: simpleKeys(event),\n",
       "    });\n",
       "\n",
       "    return false;\n",
       "};\n",
       "\n",
       "mpl.figure.prototype._key_event_extra = function (_event, _name) {\n",
       "    // Handle any extra behaviour associated with a key event\n",
       "};\n",
       "\n",
       "mpl.figure.prototype.key_event = function (event, name) {\n",
       "    // Prevent repeat events\n",
       "    if (name === 'key_press') {\n",
       "        if (event.key === this._key) {\n",
       "            return;\n",
       "        } else {\n",
       "            this._key = event.key;\n",
       "        }\n",
       "    }\n",
       "    if (name === 'key_release') {\n",
       "        this._key = null;\n",
       "    }\n",
       "\n",
       "    var value = '';\n",
       "    if (event.ctrlKey && event.key !== 'Control') {\n",
       "        value += 'ctrl+';\n",
       "    }\n",
       "    else if (event.altKey && event.key !== 'Alt') {\n",
       "        value += 'alt+';\n",
       "    }\n",
       "    else if (event.shiftKey && event.key !== 'Shift') {\n",
       "        value += 'shift+';\n",
       "    }\n",
       "\n",
       "    value += 'k' + event.key;\n",
       "\n",
       "    this._key_event_extra(event, name);\n",
       "\n",
       "    this.send_message(name, { key: value, guiEvent: simpleKeys(event) });\n",
       "    return false;\n",
       "};\n",
       "\n",
       "mpl.figure.prototype.toolbar_button_onclick = function (name) {\n",
       "    if (name === 'download') {\n",
       "        this.handle_save(this, null);\n",
       "    } else {\n",
       "        this.send_message('toolbar_button', { name: name });\n",
       "    }\n",
       "};\n",
       "\n",
       "mpl.figure.prototype.toolbar_button_onmouseover = function (tooltip) {\n",
       "    this.message.textContent = tooltip;\n",
       "};\n",
       "\n",
       "///////////////// REMAINING CONTENT GENERATED BY embed_js.py /////////////////\n",
       "// prettier-ignore\n",
       "var _JSXTOOLS_RESIZE_OBSERVER=function(A){var t,i=new WeakMap,n=new WeakMap,a=new WeakMap,r=new WeakMap,o=new Set;function s(e){if(!(this instanceof s))throw new TypeError(\"Constructor requires 'new' operator\");i.set(this,e)}function h(){throw new TypeError(\"Function is not a constructor\")}function c(e,t,i,n){e=0 in arguments?Number(arguments[0]):0,t=1 in arguments?Number(arguments[1]):0,i=2 in arguments?Number(arguments[2]):0,n=3 in arguments?Number(arguments[3]):0,this.right=(this.x=this.left=e)+(this.width=i),this.bottom=(this.y=this.top=t)+(this.height=n),Object.freeze(this)}function d(){t=requestAnimationFrame(d);var s=new WeakMap,p=new Set;o.forEach((function(t){r.get(t).forEach((function(i){var r=t instanceof window.SVGElement,o=a.get(t),d=r?0:parseFloat(o.paddingTop),f=r?0:parseFloat(o.paddingRight),l=r?0:parseFloat(o.paddingBottom),u=r?0:parseFloat(o.paddingLeft),g=r?0:parseFloat(o.borderTopWidth),m=r?0:parseFloat(o.borderRightWidth),w=r?0:parseFloat(o.borderBottomWidth),b=u+f,F=d+l,v=(r?0:parseFloat(o.borderLeftWidth))+m,W=g+w,y=r?0:t.offsetHeight-W-t.clientHeight,E=r?0:t.offsetWidth-v-t.clientWidth,R=b+v,z=F+W,M=r?t.width:parseFloat(o.width)-R-E,O=r?t.height:parseFloat(o.height)-z-y;if(n.has(t)){var k=n.get(t);if(k[0]===M&&k[1]===O)return}n.set(t,[M,O]);var S=Object.create(h.prototype);S.target=t,S.contentRect=new c(u,d,M,O),s.has(i)||(s.set(i,[]),p.add(i)),s.get(i).push(S)}))})),p.forEach((function(e){i.get(e).call(e,s.get(e),e)}))}return s.prototype.observe=function(i){if(i instanceof window.Element){r.has(i)||(r.set(i,new Set),o.add(i),a.set(i,window.getComputedStyle(i)));var n=r.get(i);n.has(this)||n.add(this),cancelAnimationFrame(t),t=requestAnimationFrame(d)}},s.prototype.unobserve=function(i){if(i instanceof window.Element&&r.has(i)){var n=r.get(i);n.has(this)&&(n.delete(this),n.size||(r.delete(i),o.delete(i))),n.size||r.delete(i),o.size||cancelAnimationFrame(t)}},A.DOMRectReadOnly=c,A.ResizeObserver=s,A.ResizeObserverEntry=h,A}; // eslint-disable-line\n",
       "mpl.toolbar_items = [[\"Home\", \"Reset original view\", \"fa fa-home\", \"home\"], [\"Back\", \"Back to previous view\", \"fa fa-arrow-left\", \"back\"], [\"Forward\", \"Forward to next view\", \"fa fa-arrow-right\", \"forward\"], [\"\", \"\", \"\", \"\"], [\"Pan\", \"Left button pans, Right button zooms\\nx/y fixes axis, CTRL fixes aspect\", \"fa fa-arrows\", \"pan\"], [\"Zoom\", \"Zoom to rectangle\\nx/y fixes axis\", \"fa fa-square-o\", \"zoom\"], [\"\", \"\", \"\", \"\"], [\"Download\", \"Download plot\", \"fa fa-floppy-o\", \"download\"]];\n",
       "\n",
       "mpl.extensions = [\"eps\", \"jpeg\", \"pgf\", \"pdf\", \"png\", \"ps\", \"raw\", \"svg\", \"tif\", \"webp\"];\n",
       "\n",
       "mpl.default_extension = \"png\";/* global mpl */\n",
       "\n",
       "var comm_websocket_adapter = function (comm) {\n",
       "    // Create a \"websocket\"-like object which calls the given IPython comm\n",
       "    // object with the appropriate methods. Currently this is a non binary\n",
       "    // socket, so there is still some room for performance tuning.\n",
       "    var ws = {};\n",
       "\n",
       "    ws.binaryType = comm.kernel.ws.binaryType;\n",
       "    ws.readyState = comm.kernel.ws.readyState;\n",
       "    function updateReadyState(_event) {\n",
       "        if (comm.kernel.ws) {\n",
       "            ws.readyState = comm.kernel.ws.readyState;\n",
       "        } else {\n",
       "            ws.readyState = 3; // Closed state.\n",
       "        }\n",
       "    }\n",
       "    comm.kernel.ws.addEventListener('open', updateReadyState);\n",
       "    comm.kernel.ws.addEventListener('close', updateReadyState);\n",
       "    comm.kernel.ws.addEventListener('error', updateReadyState);\n",
       "\n",
       "    ws.close = function () {\n",
       "        comm.close();\n",
       "    };\n",
       "    ws.send = function (m) {\n",
       "        //console.log('sending', m);\n",
       "        comm.send(m);\n",
       "    };\n",
       "    // Register the callback with on_msg.\n",
       "    comm.on_msg(function (msg) {\n",
       "        //console.log('receiving', msg['content']['data'], msg);\n",
       "        var data = msg['content']['data'];\n",
       "        if (data['blob'] !== undefined) {\n",
       "            data = {\n",
       "                data: new Blob(msg['buffers'], { type: data['blob'] }),\n",
       "            };\n",
       "        }\n",
       "        // Pass the mpl event to the overridden (by mpl) onmessage function.\n",
       "        ws.onmessage(data);\n",
       "    });\n",
       "    return ws;\n",
       "};\n",
       "\n",
       "mpl.mpl_figure_comm = function (comm, msg) {\n",
       "    // This is the function which gets called when the mpl process\n",
       "    // starts-up an IPython Comm through the \"matplotlib\" channel.\n",
       "\n",
       "    var id = msg.content.data.id;\n",
       "    // Get hold of the div created by the display call when the Comm\n",
       "    // socket was opened in Python.\n",
       "    var element = document.getElementById(id);\n",
       "    var ws_proxy = comm_websocket_adapter(comm);\n",
       "\n",
       "    function ondownload(figure, _format) {\n",
       "        window.open(figure.canvas.toDataURL());\n",
       "    }\n",
       "\n",
       "    var fig = new mpl.figure(id, ws_proxy, ondownload, element);\n",
       "\n",
       "    // Call onopen now - mpl needs it, as it is assuming we've passed it a real\n",
       "    // web socket which is closed, not our websocket->open comm proxy.\n",
       "    ws_proxy.onopen();\n",
       "\n",
       "    fig.parent_element = element;\n",
       "    fig.cell_info = mpl.find_output_cell(\"<div id='\" + id + \"'></div>\");\n",
       "    if (!fig.cell_info) {\n",
       "        console.error('Failed to find cell for figure', id, fig);\n",
       "        return;\n",
       "    }\n",
       "    fig.cell_info[0].output_area.element.on(\n",
       "        'cleared',\n",
       "        { fig: fig },\n",
       "        fig._remove_fig_handler\n",
       "    );\n",
       "};\n",
       "\n",
       "mpl.figure.prototype.handle_close = function (fig, msg) {\n",
       "    var width = fig.canvas.width / fig.ratio;\n",
       "    fig.cell_info[0].output_area.element.off(\n",
       "        'cleared',\n",
       "        fig._remove_fig_handler\n",
       "    );\n",
       "    fig.resizeObserverInstance.unobserve(fig.canvas_div);\n",
       "\n",
       "    // Update the output cell to use the data from the current canvas.\n",
       "    fig.push_to_output();\n",
       "    var dataURL = fig.canvas.toDataURL();\n",
       "    // Re-enable the keyboard manager in IPython - without this line, in FF,\n",
       "    // the notebook keyboard shortcuts fail.\n",
       "    IPython.keyboard_manager.enable();\n",
       "    fig.parent_element.innerHTML =\n",
       "        '<img src=\"' + dataURL + '\" width=\"' + width + '\">';\n",
       "    fig.close_ws(fig, msg);\n",
       "};\n",
       "\n",
       "mpl.figure.prototype.close_ws = function (fig, msg) {\n",
       "    fig.send_message('closing', msg);\n",
       "    // fig.ws.close()\n",
       "};\n",
       "\n",
       "mpl.figure.prototype.push_to_output = function (_remove_interactive) {\n",
       "    // Turn the data on the canvas into data in the output cell.\n",
       "    var width = this.canvas.width / this.ratio;\n",
       "    var dataURL = this.canvas.toDataURL();\n",
       "    this.cell_info[1]['text/html'] =\n",
       "        '<img src=\"' + dataURL + '\" width=\"' + width + '\">';\n",
       "};\n",
       "\n",
       "mpl.figure.prototype.updated_canvas_event = function () {\n",
       "    // Tell IPython that the notebook contents must change.\n",
       "    IPython.notebook.set_dirty(true);\n",
       "    this.send_message('ack', {});\n",
       "    var fig = this;\n",
       "    // Wait a second, then push the new image to the DOM so\n",
       "    // that it is saved nicely (might be nice to debounce this).\n",
       "    setTimeout(function () {\n",
       "        fig.push_to_output();\n",
       "    }, 1000);\n",
       "};\n",
       "\n",
       "mpl.figure.prototype._init_toolbar = function () {\n",
       "    var fig = this;\n",
       "\n",
       "    var toolbar = document.createElement('div');\n",
       "    toolbar.classList = 'btn-toolbar';\n",
       "    this.root.appendChild(toolbar);\n",
       "\n",
       "    function on_click_closure(name) {\n",
       "        return function (_event) {\n",
       "            return fig.toolbar_button_onclick(name);\n",
       "        };\n",
       "    }\n",
       "\n",
       "    function on_mouseover_closure(tooltip) {\n",
       "        return function (event) {\n",
       "            if (!event.currentTarget.disabled) {\n",
       "                return fig.toolbar_button_onmouseover(tooltip);\n",
       "            }\n",
       "        };\n",
       "    }\n",
       "\n",
       "    fig.buttons = {};\n",
       "    var buttonGroup = document.createElement('div');\n",
       "    buttonGroup.classList = 'btn-group';\n",
       "    var button;\n",
       "    for (var toolbar_ind in mpl.toolbar_items) {\n",
       "        var name = mpl.toolbar_items[toolbar_ind][0];\n",
       "        var tooltip = mpl.toolbar_items[toolbar_ind][1];\n",
       "        var image = mpl.toolbar_items[toolbar_ind][2];\n",
       "        var method_name = mpl.toolbar_items[toolbar_ind][3];\n",
       "\n",
       "        if (!name) {\n",
       "            /* Instead of a spacer, we start a new button group. */\n",
       "            if (buttonGroup.hasChildNodes()) {\n",
       "                toolbar.appendChild(buttonGroup);\n",
       "            }\n",
       "            buttonGroup = document.createElement('div');\n",
       "            buttonGroup.classList = 'btn-group';\n",
       "            continue;\n",
       "        }\n",
       "\n",
       "        button = fig.buttons[name] = document.createElement('button');\n",
       "        button.classList = 'btn btn-default';\n",
       "        button.href = '#';\n",
       "        button.title = name;\n",
       "        button.innerHTML = '<i class=\"fa ' + image + ' fa-lg\"></i>';\n",
       "        button.addEventListener('click', on_click_closure(method_name));\n",
       "        button.addEventListener('mouseover', on_mouseover_closure(tooltip));\n",
       "        buttonGroup.appendChild(button);\n",
       "    }\n",
       "\n",
       "    if (buttonGroup.hasChildNodes()) {\n",
       "        toolbar.appendChild(buttonGroup);\n",
       "    }\n",
       "\n",
       "    // Add the status bar.\n",
       "    var status_bar = document.createElement('span');\n",
       "    status_bar.classList = 'mpl-message pull-right';\n",
       "    toolbar.appendChild(status_bar);\n",
       "    this.message = status_bar;\n",
       "\n",
       "    // Add the close button to the window.\n",
       "    var buttongrp = document.createElement('div');\n",
       "    buttongrp.classList = 'btn-group inline pull-right';\n",
       "    button = document.createElement('button');\n",
       "    button.classList = 'btn btn-mini btn-primary';\n",
       "    button.href = '#';\n",
       "    button.title = 'Stop Interaction';\n",
       "    button.innerHTML = '<i class=\"fa fa-power-off icon-remove icon-large\"></i>';\n",
       "    button.addEventListener('click', function (_evt) {\n",
       "        fig.handle_close(fig, {});\n",
       "    });\n",
       "    button.addEventListener(\n",
       "        'mouseover',\n",
       "        on_mouseover_closure('Stop Interaction')\n",
       "    );\n",
       "    buttongrp.appendChild(button);\n",
       "    var titlebar = this.root.querySelector('.ui-dialog-titlebar');\n",
       "    titlebar.insertBefore(buttongrp, titlebar.firstChild);\n",
       "};\n",
       "\n",
       "mpl.figure.prototype._remove_fig_handler = function (event) {\n",
       "    var fig = event.data.fig;\n",
       "    if (event.target !== this) {\n",
       "        // Ignore bubbled events from children.\n",
       "        return;\n",
       "    }\n",
       "    fig.close_ws(fig, {});\n",
       "};\n",
       "\n",
       "mpl.figure.prototype._root_extra_style = function (el) {\n",
       "    el.style.boxSizing = 'content-box'; // override notebook setting of border-box.\n",
       "};\n",
       "\n",
       "mpl.figure.prototype._canvas_extra_style = function (el) {\n",
       "    // this is important to make the div 'focusable\n",
       "    el.setAttribute('tabindex', 0);\n",
       "    // reach out to IPython and tell the keyboard manager to turn it's self\n",
       "    // off when our div gets focus\n",
       "\n",
       "    // location in version 3\n",
       "    if (IPython.notebook.keyboard_manager) {\n",
       "        IPython.notebook.keyboard_manager.register_events(el);\n",
       "    } else {\n",
       "        // location in version 2\n",
       "        IPython.keyboard_manager.register_events(el);\n",
       "    }\n",
       "};\n",
       "\n",
       "mpl.figure.prototype._key_event_extra = function (event, _name) {\n",
       "    // Check for shift+enter\n",
       "    if (event.shiftKey && event.which === 13) {\n",
       "        this.canvas_div.blur();\n",
       "        // select the cell after this one\n",
       "        var index = IPython.notebook.find_cell_index(this.cell_info[0]);\n",
       "        IPython.notebook.select(index + 1);\n",
       "    }\n",
       "};\n",
       "\n",
       "mpl.figure.prototype.handle_save = function (fig, _msg) {\n",
       "    fig.ondownload(fig, null);\n",
       "};\n",
       "\n",
       "mpl.find_output_cell = function (html_output) {\n",
       "    // Return the cell and output element which can be found *uniquely* in the notebook.\n",
       "    // Note - this is a bit hacky, but it is done because the \"notebook_saving.Notebook\"\n",
       "    // IPython event is triggered only after the cells have been serialised, which for\n",
       "    // our purposes (turning an active figure into a static one), is too late.\n",
       "    var cells = IPython.notebook.get_cells();\n",
       "    var ncells = cells.length;\n",
       "    for (var i = 0; i < ncells; i++) {\n",
       "        var cell = cells[i];\n",
       "        if (cell.cell_type === 'code') {\n",
       "            for (var j = 0; j < cell.output_area.outputs.length; j++) {\n",
       "                var data = cell.output_area.outputs[j];\n",
       "                if (data.data) {\n",
       "                    // IPython >= 3 moved mimebundle to data attribute of output\n",
       "                    data = data.data;\n",
       "                }\n",
       "                if (data['text/html'] === html_output) {\n",
       "                    return [cell, data, j];\n",
       "                }\n",
       "            }\n",
       "        }\n",
       "    }\n",
       "};\n",
       "\n",
       "// Register the function which deals with the matplotlib target/channel.\n",
       "// The kernel may be null if the page has been refreshed.\n",
       "if (IPython.notebook.kernel !== null) {\n",
       "    IPython.notebook.kernel.comm_manager.register_target(\n",
       "        'matplotlib',\n",
       "        mpl.mpl_figure_comm\n",
       "    );\n",
       "}\n"
      ],
      "text/plain": [
       "<IPython.core.display.Javascript object>"
      ]
     },
     "metadata": {},
     "output_type": "display_data"
    },
    {
     "data": {
      "text/html": [
       "<img src=\"data:image/png;base64,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\" width=\"285\">"
      ],
      "text/plain": [
       "<IPython.core.display.HTML object>"
      ]
     },
     "metadata": {},
     "output_type": "display_data"
    }
   ],
   "source": [
    "%matplotlib notebook\n",
    "\n",
    "from Play import Play\n",
    "\n",
    "\n",
    "gameplay=Play(ConnectN(**game_setting), \n",
    "              player1=None, \n",
    "              player2=None)\n"
   ]
  },
  {
   "cell_type": "markdown",
   "id": "b4383d72",
   "metadata": {},
   "source": [
    "# Define our policy\n",
    "\n",
    "Please go ahead and define your own policy! See if you can train it under 1000 games and with only 1000 steps of exploration in each move."
   ]
  },
  {
   "cell_type": "code",
   "execution_count": 4,
   "id": "c5eab05c",
   "metadata": {},
   "outputs": [],
   "source": [
    "import torch\n",
    "import torch.nn as nn\n",
    "import torch.nn.functional as F\n",
    "from math import *\n",
    "import numpy as np\n",
    "\n",
    "from ConnectN import ConnectN\n",
    "game_setting = {'size':(6,6), 'N':4}\n",
    "game = ConnectN(**game_setting)\n",
    "\n",
    "class Policy(nn.Module):\n",
    "\n",
    "    def __init__(self, game):\n",
    "        super(Policy, self).__init__()\n",
    "\n",
    "        # input = 6x6 board\n",
    "        # convert to 5x5x16\n",
    "        self.conv1 = nn.Conv2d(1, 16, kernel_size=2, stride=1, bias=False)\n",
    "        # 5x5x16 to 3x3x32\n",
    "        self.conv2 = nn.Conv2d(16, 32, kernel_size=3, stride=1, bias=False)\n",
    "\n",
    "        self.size=3*3*32\n",
    "        \n",
    "        # the part for actions\n",
    "        self.fc_action1 = nn.Linear(self.size, self.size//4)\n",
    "        self.fc_action2 = nn.Linear(self.size//4, 36)\n",
    "        \n",
    "        # the part for the value function\n",
    "        self.fc_value1 = nn.Linear(self.size, self.size//6)\n",
    "        self.fc_value2 = nn.Linear(self.size//6, 1)\n",
    "        self.tanh_value = nn.Tanh()\n",
    "        \n",
    "    def forward(self, x):\n",
    "\n",
    "        y = F.leaky_relu(self.conv1(x))\n",
    "        y = F.leaky_relu(self.conv2(y))\n",
    "        y = y.view(-1, self.size)\n",
    "        \n",
    "        # action head\n",
    "        a = self.fc_action2(F.leaky_relu(self.fc_action1(y)))\n",
    "        \n",
    "        avail = (torch.abs(x.squeeze())!=1).type(torch.FloatTensor)\n",
    "        avail = avail.reshape(-1, 36)\n",
    "        maxa = torch.max(a)\n",
    "        exp = avail*torch.exp(a-maxa)\n",
    "        prob = exp/torch.sum(exp)\n",
    "        \n",
    "        # value head\n",
    "        value = self.tanh_value(self.fc_value2(F.leaky_relu( self.fc_value1(y) )))\n",
    "        return prob.view(6,6), value\n",
    "\n",
    "policy = Policy(game)\n"
   ]
  },
  {
   "cell_type": "markdown",
   "id": "c306ee81",
   "metadata": {},
   "source": [
    "# Define a MCTS player for Play"
   ]
  },
  {
   "cell_type": "code",
   "execution_count": 5,
   "id": "1ac672d5",
   "metadata": {},
   "outputs": [],
   "source": [
    "import MCTS\n",
    "\n",
    "from copy import copy\n",
    "\n",
    "def Policy_Player_MCTS(game):\n",
    "    mytree = MCTS.Node(copy(game))\n",
    "    for _ in range(2000):\n",
    "        mytree.explore(policy)\n",
    "       \n",
    "    mytreenext, (v, nn_v, p, nn_p) = mytree.next(temperature=0.1)\n",
    "    \n",
    "    return mytreenext.game.last_move\n",
    "\n",
    "import random\n",
    "\n",
    "def Random_Player(game):\n",
    "    return random.choice(game.available_moves())    \n"
   ]
  },
  {
   "cell_type": "markdown",
   "id": "a473eaec",
   "metadata": {},
   "source": [
    "# Play a game against a random policy\n"
   ]
  },
  {
   "cell_type": "code",
   "execution_count": 6,
   "id": "da8219db",
   "metadata": {},
   "outputs": [
    {
     "data": {
      "application/javascript": [
       "/* Put everything inside the global mpl namespace */\n",
       "/* global mpl */\n",
       "window.mpl = {};\n",
       "\n",
       "mpl.get_websocket_type = function () {\n",
       "    if (typeof WebSocket !== 'undefined') {\n",
       "        return WebSocket;\n",
       "    } else if (typeof MozWebSocket !== 'undefined') {\n",
       "        return MozWebSocket;\n",
       "    } else {\n",
       "        alert(\n",
       "            'Your browser does not have WebSocket support. ' +\n",
       "                'Please try Chrome, Safari or Firefox ≥ 6. ' +\n",
       "                'Firefox 4 and 5 are also supported but you ' +\n",
       "                'have to enable WebSockets in about:config.'\n",
       "        );\n",
       "    }\n",
       "};\n",
       "\n",
       "mpl.figure = function (figure_id, websocket, ondownload, parent_element) {\n",
       "    this.id = figure_id;\n",
       "\n",
       "    this.ws = websocket;\n",
       "\n",
       "    this.supports_binary = this.ws.binaryType !== undefined;\n",
       "\n",
       "    if (!this.supports_binary) {\n",
       "        var warnings = document.getElementById('mpl-warnings');\n",
       "        if (warnings) {\n",
       "            warnings.style.display = 'block';\n",
       "            warnings.textContent =\n",
       "                'This browser does not support binary websocket messages. ' +\n",
       "                'Performance may be slow.';\n",
       "        }\n",
       "    }\n",
       "\n",
       "    this.imageObj = new Image();\n",
       "\n",
       "    this.context = undefined;\n",
       "    this.message = undefined;\n",
       "    this.canvas = undefined;\n",
       "    this.rubberband_canvas = undefined;\n",
       "    this.rubberband_context = undefined;\n",
       "    this.format_dropdown = undefined;\n",
       "\n",
       "    this.image_mode = 'full';\n",
       "\n",
       "    this.root = document.createElement('div');\n",
       "    this.root.setAttribute('style', 'display: inline-block');\n",
       "    this._root_extra_style(this.root);\n",
       "\n",
       "    parent_element.appendChild(this.root);\n",
       "\n",
       "    this._init_header(this);\n",
       "    this._init_canvas(this);\n",
       "    this._init_toolbar(this);\n",
       "\n",
       "    var fig = this;\n",
       "\n",
       "    this.waiting = false;\n",
       "\n",
       "    this.ws.onopen = function () {\n",
       "        fig.send_message('supports_binary', { value: fig.supports_binary });\n",
       "        fig.send_message('send_image_mode', {});\n",
       "        if (fig.ratio !== 1) {\n",
       "            fig.send_message('set_device_pixel_ratio', {\n",
       "                device_pixel_ratio: fig.ratio,\n",
       "            });\n",
       "        }\n",
       "        fig.send_message('refresh', {});\n",
       "    };\n",
       "\n",
       "    this.imageObj.onload = function () {\n",
       "        if (fig.image_mode === 'full') {\n",
       "            // Full images could contain transparency (where diff images\n",
       "            // almost always do), so we need to clear the canvas so that\n",
       "            // there is no ghosting.\n",
       "            fig.context.clearRect(0, 0, fig.canvas.width, fig.canvas.height);\n",
       "        }\n",
       "        fig.context.drawImage(fig.imageObj, 0, 0);\n",
       "    };\n",
       "\n",
       "    this.imageObj.onunload = function () {\n",
       "        fig.ws.close();\n",
       "    };\n",
       "\n",
       "    this.ws.onmessage = this._make_on_message_function(this);\n",
       "\n",
       "    this.ondownload = ondownload;\n",
       "};\n",
       "\n",
       "mpl.figure.prototype._init_header = function () {\n",
       "    var titlebar = document.createElement('div');\n",
       "    titlebar.classList =\n",
       "        'ui-dialog-titlebar ui-widget-header ui-corner-all ui-helper-clearfix';\n",
       "    var titletext = document.createElement('div');\n",
       "    titletext.classList = 'ui-dialog-title';\n",
       "    titletext.setAttribute(\n",
       "        'style',\n",
       "        'width: 100%; text-align: center; padding: 3px;'\n",
       "    );\n",
       "    titlebar.appendChild(titletext);\n",
       "    this.root.appendChild(titlebar);\n",
       "    this.header = titletext;\n",
       "};\n",
       "\n",
       "mpl.figure.prototype._canvas_extra_style = function (_canvas_div) {};\n",
       "\n",
       "mpl.figure.prototype._root_extra_style = function (_canvas_div) {};\n",
       "\n",
       "mpl.figure.prototype._init_canvas = function () {\n",
       "    var fig = this;\n",
       "\n",
       "    var canvas_div = (this.canvas_div = document.createElement('div'));\n",
       "    canvas_div.setAttribute('tabindex', '0');\n",
       "    canvas_div.setAttribute(\n",
       "        'style',\n",
       "        'border: 1px solid #ddd;' +\n",
       "            'box-sizing: content-box;' +\n",
       "            'clear: both;' +\n",
       "            'min-height: 1px;' +\n",
       "            'min-width: 1px;' +\n",
       "            'outline: 0;' +\n",
       "            'overflow: hidden;' +\n",
       "            'position: relative;' +\n",
       "            'resize: both;' +\n",
       "            'z-index: 2;'\n",
       "    );\n",
       "\n",
       "    function on_keyboard_event_closure(name) {\n",
       "        return function (event) {\n",
       "            return fig.key_event(event, name);\n",
       "        };\n",
       "    }\n",
       "\n",
       "    canvas_div.addEventListener(\n",
       "        'keydown',\n",
       "        on_keyboard_event_closure('key_press')\n",
       "    );\n",
       "    canvas_div.addEventListener(\n",
       "        'keyup',\n",
       "        on_keyboard_event_closure('key_release')\n",
       "    );\n",
       "\n",
       "    this._canvas_extra_style(canvas_div);\n",
       "    this.root.appendChild(canvas_div);\n",
       "\n",
       "    var canvas = (this.canvas = document.createElement('canvas'));\n",
       "    canvas.classList.add('mpl-canvas');\n",
       "    canvas.setAttribute(\n",
       "        'style',\n",
       "        'box-sizing: content-box;' +\n",
       "            'pointer-events: none;' +\n",
       "            'position: relative;' +\n",
       "            'z-index: 0;'\n",
       "    );\n",
       "\n",
       "    this.context = canvas.getContext('2d');\n",
       "\n",
       "    var backingStore =\n",
       "        this.context.backingStorePixelRatio ||\n",
       "        this.context.webkitBackingStorePixelRatio ||\n",
       "        this.context.mozBackingStorePixelRatio ||\n",
       "        this.context.msBackingStorePixelRatio ||\n",
       "        this.context.oBackingStorePixelRatio ||\n",
       "        this.context.backingStorePixelRatio ||\n",
       "        1;\n",
       "\n",
       "    this.ratio = (window.devicePixelRatio || 1) / backingStore;\n",
       "\n",
       "    var rubberband_canvas = (this.rubberband_canvas = document.createElement(\n",
       "        'canvas'\n",
       "    ));\n",
       "    rubberband_canvas.setAttribute(\n",
       "        'style',\n",
       "        'box-sizing: content-box;' +\n",
       "            'left: 0;' +\n",
       "            'pointer-events: none;' +\n",
       "            'position: absolute;' +\n",
       "            'top: 0;' +\n",
       "            'z-index: 1;'\n",
       "    );\n",
       "\n",
       "    // Apply a ponyfill if ResizeObserver is not implemented by browser.\n",
       "    if (this.ResizeObserver === undefined) {\n",
       "        if (window.ResizeObserver !== undefined) {\n",
       "            this.ResizeObserver = window.ResizeObserver;\n",
       "        } else {\n",
       "            var obs = _JSXTOOLS_RESIZE_OBSERVER({});\n",
       "            this.ResizeObserver = obs.ResizeObserver;\n",
       "        }\n",
       "    }\n",
       "\n",
       "    this.resizeObserverInstance = new this.ResizeObserver(function (entries) {\n",
       "        var nentries = entries.length;\n",
       "        for (var i = 0; i < nentries; i++) {\n",
       "            var entry = entries[i];\n",
       "            var width, height;\n",
       "            if (entry.contentBoxSize) {\n",
       "                if (entry.contentBoxSize instanceof Array) {\n",
       "                    // Chrome 84 implements new version of spec.\n",
       "                    width = entry.contentBoxSize[0].inlineSize;\n",
       "                    height = entry.contentBoxSize[0].blockSize;\n",
       "                } else {\n",
       "                    // Firefox implements old version of spec.\n",
       "                    width = entry.contentBoxSize.inlineSize;\n",
       "                    height = entry.contentBoxSize.blockSize;\n",
       "                }\n",
       "            } else {\n",
       "                // Chrome <84 implements even older version of spec.\n",
       "                width = entry.contentRect.width;\n",
       "                height = entry.contentRect.height;\n",
       "            }\n",
       "\n",
       "            // Keep the size of the canvas and rubber band canvas in sync with\n",
       "            // the canvas container.\n",
       "            if (entry.devicePixelContentBoxSize) {\n",
       "                // Chrome 84 implements new version of spec.\n",
       "                canvas.setAttribute(\n",
       "                    'width',\n",
       "                    entry.devicePixelContentBoxSize[0].inlineSize\n",
       "                );\n",
       "                canvas.setAttribute(\n",
       "                    'height',\n",
       "                    entry.devicePixelContentBoxSize[0].blockSize\n",
       "                );\n",
       "            } else {\n",
       "                canvas.setAttribute('width', width * fig.ratio);\n",
       "                canvas.setAttribute('height', height * fig.ratio);\n",
       "            }\n",
       "            /* This rescales the canvas back to display pixels, so that it\n",
       "             * appears correct on HiDPI screens. */\n",
       "            canvas.style.width = width + 'px';\n",
       "            canvas.style.height = height + 'px';\n",
       "\n",
       "            rubberband_canvas.setAttribute('width', width);\n",
       "            rubberband_canvas.setAttribute('height', height);\n",
       "\n",
       "            // And update the size in Python. We ignore the initial 0/0 size\n",
       "            // that occurs as the element is placed into the DOM, which should\n",
       "            // otherwise not happen due to the minimum size styling.\n",
       "            if (fig.ws.readyState == 1 && width != 0 && height != 0) {\n",
       "                fig.request_resize(width, height);\n",
       "            }\n",
       "        }\n",
       "    });\n",
       "    this.resizeObserverInstance.observe(canvas_div);\n",
       "\n",
       "    function on_mouse_event_closure(name) {\n",
       "        /* User Agent sniffing is bad, but WebKit is busted:\n",
       "         * https://bugs.webkit.org/show_bug.cgi?id=144526\n",
       "         * https://bugs.webkit.org/show_bug.cgi?id=181818\n",
       "         * The worst that happens here is that they get an extra browser\n",
       "         * selection when dragging, if this check fails to catch them.\n",
       "         */\n",
       "        var UA = navigator.userAgent;\n",
       "        var isWebKit = /AppleWebKit/.test(UA) && !/Chrome/.test(UA);\n",
       "        if(isWebKit) {\n",
       "            return function (event) {\n",
       "                /* This prevents the web browser from automatically changing to\n",
       "                 * the text insertion cursor when the button is pressed. We\n",
       "                 * want to control all of the cursor setting manually through\n",
       "                 * the 'cursor' event from matplotlib */\n",
       "                event.preventDefault()\n",
       "                return fig.mouse_event(event, name);\n",
       "            };\n",
       "        } else {\n",
       "            return function (event) {\n",
       "                return fig.mouse_event(event, name);\n",
       "            };\n",
       "        }\n",
       "    }\n",
       "\n",
       "    canvas_div.addEventListener(\n",
       "        'mousedown',\n",
       "        on_mouse_event_closure('button_press')\n",
       "    );\n",
       "    canvas_div.addEventListener(\n",
       "        'mouseup',\n",
       "        on_mouse_event_closure('button_release')\n",
       "    );\n",
       "    canvas_div.addEventListener(\n",
       "        'dblclick',\n",
       "        on_mouse_event_closure('dblclick')\n",
       "    );\n",
       "    // Throttle sequential mouse events to 1 every 20ms.\n",
       "    canvas_div.addEventListener(\n",
       "        'mousemove',\n",
       "        on_mouse_event_closure('motion_notify')\n",
       "    );\n",
       "\n",
       "    canvas_div.addEventListener(\n",
       "        'mouseenter',\n",
       "        on_mouse_event_closure('figure_enter')\n",
       "    );\n",
       "    canvas_div.addEventListener(\n",
       "        'mouseleave',\n",
       "        on_mouse_event_closure('figure_leave')\n",
       "    );\n",
       "\n",
       "    canvas_div.addEventListener('wheel', function (event) {\n",
       "        if (event.deltaY < 0) {\n",
       "            event.step = 1;\n",
       "        } else {\n",
       "            event.step = -1;\n",
       "        }\n",
       "        on_mouse_event_closure('scroll')(event);\n",
       "    });\n",
       "\n",
       "    canvas_div.appendChild(canvas);\n",
       "    canvas_div.appendChild(rubberband_canvas);\n",
       "\n",
       "    this.rubberband_context = rubberband_canvas.getContext('2d');\n",
       "    this.rubberband_context.strokeStyle = '#000000';\n",
       "\n",
       "    this._resize_canvas = function (width, height, forward) {\n",
       "        if (forward) {\n",
       "            canvas_div.style.width = width + 'px';\n",
       "            canvas_div.style.height = height + 'px';\n",
       "        }\n",
       "    };\n",
       "\n",
       "    // Disable right mouse context menu.\n",
       "    canvas_div.addEventListener('contextmenu', function (_e) {\n",
       "        event.preventDefault();\n",
       "        return false;\n",
       "    });\n",
       "\n",
       "    function set_focus() {\n",
       "        canvas.focus();\n",
       "        canvas_div.focus();\n",
       "    }\n",
       "\n",
       "    window.setTimeout(set_focus, 100);\n",
       "};\n",
       "\n",
       "mpl.figure.prototype._init_toolbar = function () {\n",
       "    var fig = this;\n",
       "\n",
       "    var toolbar = document.createElement('div');\n",
       "    toolbar.classList = 'mpl-toolbar';\n",
       "    this.root.appendChild(toolbar);\n",
       "\n",
       "    function on_click_closure(name) {\n",
       "        return function (_event) {\n",
       "            return fig.toolbar_button_onclick(name);\n",
       "        };\n",
       "    }\n",
       "\n",
       "    function on_mouseover_closure(tooltip) {\n",
       "        return function (event) {\n",
       "            if (!event.currentTarget.disabled) {\n",
       "                return fig.toolbar_button_onmouseover(tooltip);\n",
       "            }\n",
       "        };\n",
       "    }\n",
       "\n",
       "    fig.buttons = {};\n",
       "    var buttonGroup = document.createElement('div');\n",
       "    buttonGroup.classList = 'mpl-button-group';\n",
       "    for (var toolbar_ind in mpl.toolbar_items) {\n",
       "        var name = mpl.toolbar_items[toolbar_ind][0];\n",
       "        var tooltip = mpl.toolbar_items[toolbar_ind][1];\n",
       "        var image = mpl.toolbar_items[toolbar_ind][2];\n",
       "        var method_name = mpl.toolbar_items[toolbar_ind][3];\n",
       "\n",
       "        if (!name) {\n",
       "            /* Instead of a spacer, we start a new button group. */\n",
       "            if (buttonGroup.hasChildNodes()) {\n",
       "                toolbar.appendChild(buttonGroup);\n",
       "            }\n",
       "            buttonGroup = document.createElement('div');\n",
       "            buttonGroup.classList = 'mpl-button-group';\n",
       "            continue;\n",
       "        }\n",
       "\n",
       "        var button = (fig.buttons[name] = document.createElement('button'));\n",
       "        button.classList = 'mpl-widget';\n",
       "        button.setAttribute('role', 'button');\n",
       "        button.setAttribute('aria-disabled', 'false');\n",
       "        button.addEventListener('click', on_click_closure(method_name));\n",
       "        button.addEventListener('mouseover', on_mouseover_closure(tooltip));\n",
       "\n",
       "        var icon_img = document.createElement('img');\n",
       "        icon_img.src = '_images/' + image + '.png';\n",
       "        icon_img.srcset = '_images/' + image + '_large.png 2x';\n",
       "        icon_img.alt = tooltip;\n",
       "        button.appendChild(icon_img);\n",
       "\n",
       "        buttonGroup.appendChild(button);\n",
       "    }\n",
       "\n",
       "    if (buttonGroup.hasChildNodes()) {\n",
       "        toolbar.appendChild(buttonGroup);\n",
       "    }\n",
       "\n",
       "    var fmt_picker = document.createElement('select');\n",
       "    fmt_picker.classList = 'mpl-widget';\n",
       "    toolbar.appendChild(fmt_picker);\n",
       "    this.format_dropdown = fmt_picker;\n",
       "\n",
       "    for (var ind in mpl.extensions) {\n",
       "        var fmt = mpl.extensions[ind];\n",
       "        var option = document.createElement('option');\n",
       "        option.selected = fmt === mpl.default_extension;\n",
       "        option.innerHTML = fmt;\n",
       "        fmt_picker.appendChild(option);\n",
       "    }\n",
       "\n",
       "    var status_bar = document.createElement('span');\n",
       "    status_bar.classList = 'mpl-message';\n",
       "    toolbar.appendChild(status_bar);\n",
       "    this.message = status_bar;\n",
       "};\n",
       "\n",
       "mpl.figure.prototype.request_resize = function (x_pixels, y_pixels) {\n",
       "    // Request matplotlib to resize the figure. Matplotlib will then trigger a resize in the client,\n",
       "    // which will in turn request a refresh of the image.\n",
       "    this.send_message('resize', { width: x_pixels, height: y_pixels });\n",
       "};\n",
       "\n",
       "mpl.figure.prototype.send_message = function (type, properties) {\n",
       "    properties['type'] = type;\n",
       "    properties['figure_id'] = this.id;\n",
       "    this.ws.send(JSON.stringify(properties));\n",
       "};\n",
       "\n",
       "mpl.figure.prototype.send_draw_message = function () {\n",
       "    if (!this.waiting) {\n",
       "        this.waiting = true;\n",
       "        this.ws.send(JSON.stringify({ type: 'draw', figure_id: this.id }));\n",
       "    }\n",
       "};\n",
       "\n",
       "mpl.figure.prototype.handle_save = function (fig, _msg) {\n",
       "    var format_dropdown = fig.format_dropdown;\n",
       "    var format = format_dropdown.options[format_dropdown.selectedIndex].value;\n",
       "    fig.ondownload(fig, format);\n",
       "};\n",
       "\n",
       "mpl.figure.prototype.handle_resize = function (fig, msg) {\n",
       "    var size = msg['size'];\n",
       "    if (size[0] !== fig.canvas.width || size[1] !== fig.canvas.height) {\n",
       "        fig._resize_canvas(size[0], size[1], msg['forward']);\n",
       "        fig.send_message('refresh', {});\n",
       "    }\n",
       "};\n",
       "\n",
       "mpl.figure.prototype.handle_rubberband = function (fig, msg) {\n",
       "    var x0 = msg['x0'] / fig.ratio;\n",
       "    var y0 = (fig.canvas.height - msg['y0']) / fig.ratio;\n",
       "    var x1 = msg['x1'] / fig.ratio;\n",
       "    var y1 = (fig.canvas.height - msg['y1']) / fig.ratio;\n",
       "    x0 = Math.floor(x0) + 0.5;\n",
       "    y0 = Math.floor(y0) + 0.5;\n",
       "    x1 = Math.floor(x1) + 0.5;\n",
       "    y1 = Math.floor(y1) + 0.5;\n",
       "    var min_x = Math.min(x0, x1);\n",
       "    var min_y = Math.min(y0, y1);\n",
       "    var width = Math.abs(x1 - x0);\n",
       "    var height = Math.abs(y1 - y0);\n",
       "\n",
       "    fig.rubberband_context.clearRect(\n",
       "        0,\n",
       "        0,\n",
       "        fig.canvas.width / fig.ratio,\n",
       "        fig.canvas.height / fig.ratio\n",
       "    );\n",
       "\n",
       "    fig.rubberband_context.strokeRect(min_x, min_y, width, height);\n",
       "};\n",
       "\n",
       "mpl.figure.prototype.handle_figure_label = function (fig, msg) {\n",
       "    // Updates the figure title.\n",
       "    fig.header.textContent = msg['label'];\n",
       "};\n",
       "\n",
       "mpl.figure.prototype.handle_cursor = function (fig, msg) {\n",
       "    fig.canvas_div.style.cursor = msg['cursor'];\n",
       "};\n",
       "\n",
       "mpl.figure.prototype.handle_message = function (fig, msg) {\n",
       "    fig.message.textContent = msg['message'];\n",
       "};\n",
       "\n",
       "mpl.figure.prototype.handle_draw = function (fig, _msg) {\n",
       "    // Request the server to send over a new figure.\n",
       "    fig.send_draw_message();\n",
       "};\n",
       "\n",
       "mpl.figure.prototype.handle_image_mode = function (fig, msg) {\n",
       "    fig.image_mode = msg['mode'];\n",
       "};\n",
       "\n",
       "mpl.figure.prototype.handle_history_buttons = function (fig, msg) {\n",
       "    for (var key in msg) {\n",
       "        if (!(key in fig.buttons)) {\n",
       "            continue;\n",
       "        }\n",
       "        fig.buttons[key].disabled = !msg[key];\n",
       "        fig.buttons[key].setAttribute('aria-disabled', !msg[key]);\n",
       "    }\n",
       "};\n",
       "\n",
       "mpl.figure.prototype.handle_navigate_mode = function (fig, msg) {\n",
       "    if (msg['mode'] === 'PAN') {\n",
       "        fig.buttons['Pan'].classList.add('active');\n",
       "        fig.buttons['Zoom'].classList.remove('active');\n",
       "    } else if (msg['mode'] === 'ZOOM') {\n",
       "        fig.buttons['Pan'].classList.remove('active');\n",
       "        fig.buttons['Zoom'].classList.add('active');\n",
       "    } else {\n",
       "        fig.buttons['Pan'].classList.remove('active');\n",
       "        fig.buttons['Zoom'].classList.remove('active');\n",
       "    }\n",
       "};\n",
       "\n",
       "mpl.figure.prototype.updated_canvas_event = function () {\n",
       "    // Called whenever the canvas gets updated.\n",
       "    this.send_message('ack', {});\n",
       "};\n",
       "\n",
       "// A function to construct a web socket function for onmessage handling.\n",
       "// Called in the figure constructor.\n",
       "mpl.figure.prototype._make_on_message_function = function (fig) {\n",
       "    return function socket_on_message(evt) {\n",
       "        if (evt.data instanceof Blob) {\n",
       "            var img = evt.data;\n",
       "            if (img.type !== 'image/png') {\n",
       "                /* FIXME: We get \"Resource interpreted as Image but\n",
       "                 * transferred with MIME type text/plain:\" errors on\n",
       "                 * Chrome.  But how to set the MIME type?  It doesn't seem\n",
       "                 * to be part of the websocket stream */\n",
       "                img.type = 'image/png';\n",
       "            }\n",
       "\n",
       "            /* Free the memory for the previous frames */\n",
       "            if (fig.imageObj.src) {\n",
       "                (window.URL || window.webkitURL).revokeObjectURL(\n",
       "                    fig.imageObj.src\n",
       "                );\n",
       "            }\n",
       "\n",
       "            fig.imageObj.src = (window.URL || window.webkitURL).createObjectURL(\n",
       "                img\n",
       "            );\n",
       "            fig.updated_canvas_event();\n",
       "            fig.waiting = false;\n",
       "            return;\n",
       "        } else if (\n",
       "            typeof evt.data === 'string' &&\n",
       "            evt.data.slice(0, 21) === 'data:image/png;base64'\n",
       "        ) {\n",
       "            fig.imageObj.src = evt.data;\n",
       "            fig.updated_canvas_event();\n",
       "            fig.waiting = false;\n",
       "            return;\n",
       "        }\n",
       "\n",
       "        var msg = JSON.parse(evt.data);\n",
       "        var msg_type = msg['type'];\n",
       "\n",
       "        // Call the  \"handle_{type}\" callback, which takes\n",
       "        // the figure and JSON message as its only arguments.\n",
       "        try {\n",
       "            var callback = fig['handle_' + msg_type];\n",
       "        } catch (e) {\n",
       "            console.log(\n",
       "                \"No handler for the '\" + msg_type + \"' message type: \",\n",
       "                msg\n",
       "            );\n",
       "            return;\n",
       "        }\n",
       "\n",
       "        if (callback) {\n",
       "            try {\n",
       "                // console.log(\"Handling '\" + msg_type + \"' message: \", msg);\n",
       "                callback(fig, msg);\n",
       "            } catch (e) {\n",
       "                console.log(\n",
       "                    \"Exception inside the 'handler_\" + msg_type + \"' callback:\",\n",
       "                    e,\n",
       "                    e.stack,\n",
       "                    msg\n",
       "                );\n",
       "            }\n",
       "        }\n",
       "    };\n",
       "};\n",
       "\n",
       "\n",
       "/*\n",
       " * return a copy of an object with only non-object keys\n",
       " * we need this to avoid circular references\n",
       " * https://stackoverflow.com/a/24161582/3208463\n",
       " */\n",
       "function simpleKeys(original) {\n",
       "    return Object.keys(original).reduce(function (obj, key) {\n",
       "        if (typeof original[key] !== 'object') {\n",
       "            obj[key] = original[key];\n",
       "        }\n",
       "        return obj;\n",
       "    }, {});\n",
       "}\n",
       "\n",
       "mpl.figure.prototype.mouse_event = function (event, name) {\n",
       "    if (name === 'button_press') {\n",
       "        this.canvas.focus();\n",
       "        this.canvas_div.focus();\n",
       "    }\n",
       "\n",
       "    // from https://stackoverflow.com/q/1114465\n",
       "    var boundingRect = this.canvas.getBoundingClientRect();\n",
       "    var x = (event.clientX - boundingRect.left) * this.ratio;\n",
       "    var y = (event.clientY - boundingRect.top) * this.ratio;\n",
       "\n",
       "    this.send_message(name, {\n",
       "        x: x,\n",
       "        y: y,\n",
       "        button: event.button,\n",
       "        step: event.step,\n",
       "        guiEvent: simpleKeys(event),\n",
       "    });\n",
       "\n",
       "    return false;\n",
       "};\n",
       "\n",
       "mpl.figure.prototype._key_event_extra = function (_event, _name) {\n",
       "    // Handle any extra behaviour associated with a key event\n",
       "};\n",
       "\n",
       "mpl.figure.prototype.key_event = function (event, name) {\n",
       "    // Prevent repeat events\n",
       "    if (name === 'key_press') {\n",
       "        if (event.key === this._key) {\n",
       "            return;\n",
       "        } else {\n",
       "            this._key = event.key;\n",
       "        }\n",
       "    }\n",
       "    if (name === 'key_release') {\n",
       "        this._key = null;\n",
       "    }\n",
       "\n",
       "    var value = '';\n",
       "    if (event.ctrlKey && event.key !== 'Control') {\n",
       "        value += 'ctrl+';\n",
       "    }\n",
       "    else if (event.altKey && event.key !== 'Alt') {\n",
       "        value += 'alt+';\n",
       "    }\n",
       "    else if (event.shiftKey && event.key !== 'Shift') {\n",
       "        value += 'shift+';\n",
       "    }\n",
       "\n",
       "    value += 'k' + event.key;\n",
       "\n",
       "    this._key_event_extra(event, name);\n",
       "\n",
       "    this.send_message(name, { key: value, guiEvent: simpleKeys(event) });\n",
       "    return false;\n",
       "};\n",
       "\n",
       "mpl.figure.prototype.toolbar_button_onclick = function (name) {\n",
       "    if (name === 'download') {\n",
       "        this.handle_save(this, null);\n",
       "    } else {\n",
       "        this.send_message('toolbar_button', { name: name });\n",
       "    }\n",
       "};\n",
       "\n",
       "mpl.figure.prototype.toolbar_button_onmouseover = function (tooltip) {\n",
       "    this.message.textContent = tooltip;\n",
       "};\n",
       "\n",
       "///////////////// REMAINING CONTENT GENERATED BY embed_js.py /////////////////\n",
       "// prettier-ignore\n",
       "var _JSXTOOLS_RESIZE_OBSERVER=function(A){var t,i=new WeakMap,n=new WeakMap,a=new WeakMap,r=new WeakMap,o=new Set;function s(e){if(!(this instanceof s))throw new TypeError(\"Constructor requires 'new' operator\");i.set(this,e)}function h(){throw new TypeError(\"Function is not a constructor\")}function c(e,t,i,n){e=0 in arguments?Number(arguments[0]):0,t=1 in arguments?Number(arguments[1]):0,i=2 in arguments?Number(arguments[2]):0,n=3 in arguments?Number(arguments[3]):0,this.right=(this.x=this.left=e)+(this.width=i),this.bottom=(this.y=this.top=t)+(this.height=n),Object.freeze(this)}function d(){t=requestAnimationFrame(d);var s=new WeakMap,p=new Set;o.forEach((function(t){r.get(t).forEach((function(i){var r=t instanceof window.SVGElement,o=a.get(t),d=r?0:parseFloat(o.paddingTop),f=r?0:parseFloat(o.paddingRight),l=r?0:parseFloat(o.paddingBottom),u=r?0:parseFloat(o.paddingLeft),g=r?0:parseFloat(o.borderTopWidth),m=r?0:parseFloat(o.borderRightWidth),w=r?0:parseFloat(o.borderBottomWidth),b=u+f,F=d+l,v=(r?0:parseFloat(o.borderLeftWidth))+m,W=g+w,y=r?0:t.offsetHeight-W-t.clientHeight,E=r?0:t.offsetWidth-v-t.clientWidth,R=b+v,z=F+W,M=r?t.width:parseFloat(o.width)-R-E,O=r?t.height:parseFloat(o.height)-z-y;if(n.has(t)){var k=n.get(t);if(k[0]===M&&k[1]===O)return}n.set(t,[M,O]);var S=Object.create(h.prototype);S.target=t,S.contentRect=new c(u,d,M,O),s.has(i)||(s.set(i,[]),p.add(i)),s.get(i).push(S)}))})),p.forEach((function(e){i.get(e).call(e,s.get(e),e)}))}return s.prototype.observe=function(i){if(i instanceof window.Element){r.has(i)||(r.set(i,new Set),o.add(i),a.set(i,window.getComputedStyle(i)));var n=r.get(i);n.has(this)||n.add(this),cancelAnimationFrame(t),t=requestAnimationFrame(d)}},s.prototype.unobserve=function(i){if(i instanceof window.Element&&r.has(i)){var n=r.get(i);n.has(this)&&(n.delete(this),n.size||(r.delete(i),o.delete(i))),n.size||r.delete(i),o.size||cancelAnimationFrame(t)}},A.DOMRectReadOnly=c,A.ResizeObserver=s,A.ResizeObserverEntry=h,A}; // eslint-disable-line\n",
       "mpl.toolbar_items = [[\"Home\", \"Reset original view\", \"fa fa-home\", \"home\"], [\"Back\", \"Back to previous view\", \"fa fa-arrow-left\", \"back\"], [\"Forward\", \"Forward to next view\", \"fa fa-arrow-right\", \"forward\"], [\"\", \"\", \"\", \"\"], [\"Pan\", \"Left button pans, Right button zooms\\nx/y fixes axis, CTRL fixes aspect\", \"fa fa-arrows\", \"pan\"], [\"Zoom\", \"Zoom to rectangle\\nx/y fixes axis\", \"fa fa-square-o\", \"zoom\"], [\"\", \"\", \"\", \"\"], [\"Download\", \"Download plot\", \"fa fa-floppy-o\", \"download\"]];\n",
       "\n",
       "mpl.extensions = [\"eps\", \"jpeg\", \"pgf\", \"pdf\", \"png\", \"ps\", \"raw\", \"svg\", \"tif\", \"webp\"];\n",
       "\n",
       "mpl.default_extension = \"png\";/* global mpl */\n",
       "\n",
       "var comm_websocket_adapter = function (comm) {\n",
       "    // Create a \"websocket\"-like object which calls the given IPython comm\n",
       "    // object with the appropriate methods. Currently this is a non binary\n",
       "    // socket, so there is still some room for performance tuning.\n",
       "    var ws = {};\n",
       "\n",
       "    ws.binaryType = comm.kernel.ws.binaryType;\n",
       "    ws.readyState = comm.kernel.ws.readyState;\n",
       "    function updateReadyState(_event) {\n",
       "        if (comm.kernel.ws) {\n",
       "            ws.readyState = comm.kernel.ws.readyState;\n",
       "        } else {\n",
       "            ws.readyState = 3; // Closed state.\n",
       "        }\n",
       "    }\n",
       "    comm.kernel.ws.addEventListener('open', updateReadyState);\n",
       "    comm.kernel.ws.addEventListener('close', updateReadyState);\n",
       "    comm.kernel.ws.addEventListener('error', updateReadyState);\n",
       "\n",
       "    ws.close = function () {\n",
       "        comm.close();\n",
       "    };\n",
       "    ws.send = function (m) {\n",
       "        //console.log('sending', m);\n",
       "        comm.send(m);\n",
       "    };\n",
       "    // Register the callback with on_msg.\n",
       "    comm.on_msg(function (msg) {\n",
       "        //console.log('receiving', msg['content']['data'], msg);\n",
       "        var data = msg['content']['data'];\n",
       "        if (data['blob'] !== undefined) {\n",
       "            data = {\n",
       "                data: new Blob(msg['buffers'], { type: data['blob'] }),\n",
       "            };\n",
       "        }\n",
       "        // Pass the mpl event to the overridden (by mpl) onmessage function.\n",
       "        ws.onmessage(data);\n",
       "    });\n",
       "    return ws;\n",
       "};\n",
       "\n",
       "mpl.mpl_figure_comm = function (comm, msg) {\n",
       "    // This is the function which gets called when the mpl process\n",
       "    // starts-up an IPython Comm through the \"matplotlib\" channel.\n",
       "\n",
       "    var id = msg.content.data.id;\n",
       "    // Get hold of the div created by the display call when the Comm\n",
       "    // socket was opened in Python.\n",
       "    var element = document.getElementById(id);\n",
       "    var ws_proxy = comm_websocket_adapter(comm);\n",
       "\n",
       "    function ondownload(figure, _format) {\n",
       "        window.open(figure.canvas.toDataURL());\n",
       "    }\n",
       "\n",
       "    var fig = new mpl.figure(id, ws_proxy, ondownload, element);\n",
       "\n",
       "    // Call onopen now - mpl needs it, as it is assuming we've passed it a real\n",
       "    // web socket which is closed, not our websocket->open comm proxy.\n",
       "    ws_proxy.onopen();\n",
       "\n",
       "    fig.parent_element = element;\n",
       "    fig.cell_info = mpl.find_output_cell(\"<div id='\" + id + \"'></div>\");\n",
       "    if (!fig.cell_info) {\n",
       "        console.error('Failed to find cell for figure', id, fig);\n",
       "        return;\n",
       "    }\n",
       "    fig.cell_info[0].output_area.element.on(\n",
       "        'cleared',\n",
       "        { fig: fig },\n",
       "        fig._remove_fig_handler\n",
       "    );\n",
       "};\n",
       "\n",
       "mpl.figure.prototype.handle_close = function (fig, msg) {\n",
       "    var width = fig.canvas.width / fig.ratio;\n",
       "    fig.cell_info[0].output_area.element.off(\n",
       "        'cleared',\n",
       "        fig._remove_fig_handler\n",
       "    );\n",
       "    fig.resizeObserverInstance.unobserve(fig.canvas_div);\n",
       "\n",
       "    // Update the output cell to use the data from the current canvas.\n",
       "    fig.push_to_output();\n",
       "    var dataURL = fig.canvas.toDataURL();\n",
       "    // Re-enable the keyboard manager in IPython - without this line, in FF,\n",
       "    // the notebook keyboard shortcuts fail.\n",
       "    IPython.keyboard_manager.enable();\n",
       "    fig.parent_element.innerHTML =\n",
       "        '<img src=\"' + dataURL + '\" width=\"' + width + '\">';\n",
       "    fig.close_ws(fig, msg);\n",
       "};\n",
       "\n",
       "mpl.figure.prototype.close_ws = function (fig, msg) {\n",
       "    fig.send_message('closing', msg);\n",
       "    // fig.ws.close()\n",
       "};\n",
       "\n",
       "mpl.figure.prototype.push_to_output = function (_remove_interactive) {\n",
       "    // Turn the data on the canvas into data in the output cell.\n",
       "    var width = this.canvas.width / this.ratio;\n",
       "    var dataURL = this.canvas.toDataURL();\n",
       "    this.cell_info[1]['text/html'] =\n",
       "        '<img src=\"' + dataURL + '\" width=\"' + width + '\">';\n",
       "};\n",
       "\n",
       "mpl.figure.prototype.updated_canvas_event = function () {\n",
       "    // Tell IPython that the notebook contents must change.\n",
       "    IPython.notebook.set_dirty(true);\n",
       "    this.send_message('ack', {});\n",
       "    var fig = this;\n",
       "    // Wait a second, then push the new image to the DOM so\n",
       "    // that it is saved nicely (might be nice to debounce this).\n",
       "    setTimeout(function () {\n",
       "        fig.push_to_output();\n",
       "    }, 1000);\n",
       "};\n",
       "\n",
       "mpl.figure.prototype._init_toolbar = function () {\n",
       "    var fig = this;\n",
       "\n",
       "    var toolbar = document.createElement('div');\n",
       "    toolbar.classList = 'btn-toolbar';\n",
       "    this.root.appendChild(toolbar);\n",
       "\n",
       "    function on_click_closure(name) {\n",
       "        return function (_event) {\n",
       "            return fig.toolbar_button_onclick(name);\n",
       "        };\n",
       "    }\n",
       "\n",
       "    function on_mouseover_closure(tooltip) {\n",
       "        return function (event) {\n",
       "            if (!event.currentTarget.disabled) {\n",
       "                return fig.toolbar_button_onmouseover(tooltip);\n",
       "            }\n",
       "        };\n",
       "    }\n",
       "\n",
       "    fig.buttons = {};\n",
       "    var buttonGroup = document.createElement('div');\n",
       "    buttonGroup.classList = 'btn-group';\n",
       "    var button;\n",
       "    for (var toolbar_ind in mpl.toolbar_items) {\n",
       "        var name = mpl.toolbar_items[toolbar_ind][0];\n",
       "        var tooltip = mpl.toolbar_items[toolbar_ind][1];\n",
       "        var image = mpl.toolbar_items[toolbar_ind][2];\n",
       "        var method_name = mpl.toolbar_items[toolbar_ind][3];\n",
       "\n",
       "        if (!name) {\n",
       "            /* Instead of a spacer, we start a new button group. */\n",
       "            if (buttonGroup.hasChildNodes()) {\n",
       "                toolbar.appendChild(buttonGroup);\n",
       "            }\n",
       "            buttonGroup = document.createElement('div');\n",
       "            buttonGroup.classList = 'btn-group';\n",
       "            continue;\n",
       "        }\n",
       "\n",
       "        button = fig.buttons[name] = document.createElement('button');\n",
       "        button.classList = 'btn btn-default';\n",
       "        button.href = '#';\n",
       "        button.title = name;\n",
       "        button.innerHTML = '<i class=\"fa ' + image + ' fa-lg\"></i>';\n",
       "        button.addEventListener('click', on_click_closure(method_name));\n",
       "        button.addEventListener('mouseover', on_mouseover_closure(tooltip));\n",
       "        buttonGroup.appendChild(button);\n",
       "    }\n",
       "\n",
       "    if (buttonGroup.hasChildNodes()) {\n",
       "        toolbar.appendChild(buttonGroup);\n",
       "    }\n",
       "\n",
       "    // Add the status bar.\n",
       "    var status_bar = document.createElement('span');\n",
       "    status_bar.classList = 'mpl-message pull-right';\n",
       "    toolbar.appendChild(status_bar);\n",
       "    this.message = status_bar;\n",
       "\n",
       "    // Add the close button to the window.\n",
       "    var buttongrp = document.createElement('div');\n",
       "    buttongrp.classList = 'btn-group inline pull-right';\n",
       "    button = document.createElement('button');\n",
       "    button.classList = 'btn btn-mini btn-primary';\n",
       "    button.href = '#';\n",
       "    button.title = 'Stop Interaction';\n",
       "    button.innerHTML = '<i class=\"fa fa-power-off icon-remove icon-large\"></i>';\n",
       "    button.addEventListener('click', function (_evt) {\n",
       "        fig.handle_close(fig, {});\n",
       "    });\n",
       "    button.addEventListener(\n",
       "        'mouseover',\n",
       "        on_mouseover_closure('Stop Interaction')\n",
       "    );\n",
       "    buttongrp.appendChild(button);\n",
       "    var titlebar = this.root.querySelector('.ui-dialog-titlebar');\n",
       "    titlebar.insertBefore(buttongrp, titlebar.firstChild);\n",
       "};\n",
       "\n",
       "mpl.figure.prototype._remove_fig_handler = function (event) {\n",
       "    var fig = event.data.fig;\n",
       "    if (event.target !== this) {\n",
       "        // Ignore bubbled events from children.\n",
       "        return;\n",
       "    }\n",
       "    fig.close_ws(fig, {});\n",
       "};\n",
       "\n",
       "mpl.figure.prototype._root_extra_style = function (el) {\n",
       "    el.style.boxSizing = 'content-box'; // override notebook setting of border-box.\n",
       "};\n",
       "\n",
       "mpl.figure.prototype._canvas_extra_style = function (el) {\n",
       "    // this is important to make the div 'focusable\n",
       "    el.setAttribute('tabindex', 0);\n",
       "    // reach out to IPython and tell the keyboard manager to turn it's self\n",
       "    // off when our div gets focus\n",
       "\n",
       "    // location in version 3\n",
       "    if (IPython.notebook.keyboard_manager) {\n",
       "        IPython.notebook.keyboard_manager.register_events(el);\n",
       "    } else {\n",
       "        // location in version 2\n",
       "        IPython.keyboard_manager.register_events(el);\n",
       "    }\n",
       "};\n",
       "\n",
       "mpl.figure.prototype._key_event_extra = function (event, _name) {\n",
       "    // Check for shift+enter\n",
       "    if (event.shiftKey && event.which === 13) {\n",
       "        this.canvas_div.blur();\n",
       "        // select the cell after this one\n",
       "        var index = IPython.notebook.find_cell_index(this.cell_info[0]);\n",
       "        IPython.notebook.select(index + 1);\n",
       "    }\n",
       "};\n",
       "\n",
       "mpl.figure.prototype.handle_save = function (fig, _msg) {\n",
       "    fig.ondownload(fig, null);\n",
       "};\n",
       "\n",
       "mpl.find_output_cell = function (html_output) {\n",
       "    // Return the cell and output element which can be found *uniquely* in the notebook.\n",
       "    // Note - this is a bit hacky, but it is done because the \"notebook_saving.Notebook\"\n",
       "    // IPython event is triggered only after the cells have been serialised, which for\n",
       "    // our purposes (turning an active figure into a static one), is too late.\n",
       "    var cells = IPython.notebook.get_cells();\n",
       "    var ncells = cells.length;\n",
       "    for (var i = 0; i < ncells; i++) {\n",
       "        var cell = cells[i];\n",
       "        if (cell.cell_type === 'code') {\n",
       "            for (var j = 0; j < cell.output_area.outputs.length; j++) {\n",
       "                var data = cell.output_area.outputs[j];\n",
       "                if (data.data) {\n",
       "                    // IPython >= 3 moved mimebundle to data attribute of output\n",
       "                    data = data.data;\n",
       "                }\n",
       "                if (data['text/html'] === html_output) {\n",
       "                    return [cell, data, j];\n",
       "                }\n",
       "            }\n",
       "        }\n",
       "    }\n",
       "};\n",
       "\n",
       "// Register the function which deals with the matplotlib target/channel.\n",
       "// The kernel may be null if the page has been refreshed.\n",
       "if (IPython.notebook.kernel !== null) {\n",
       "    IPython.notebook.kernel.comm_manager.register_target(\n",
       "        'matplotlib',\n",
       "        mpl.mpl_figure_comm\n",
       "    );\n",
       "}\n"
      ],
      "text/plain": [
       "<IPython.core.display.Javascript object>"
      ]
     },
     "metadata": {},
     "output_type": "display_data"
    },
    {
     "data": {
      "text/html": [
       "<img src=\"data:image/png;base64,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\" width=\"285\">"
      ],
      "text/plain": [
       "<IPython.core.display.HTML object>"
      ]
     },
     "metadata": {},
     "output_type": "display_data"
    },
    {
     "name": "stderr",
     "output_type": "stream",
     "text": [
      "/home/sagarnildass/python_notebooks/Udacity-Deep-Reinforcement-Learning/my_codes/AlphaZeroTicTacToe/MCTS.py:70: UserWarning: indexing with dtype torch.uint8 is now deprecated, please use a dtype torch.bool instead. (Triggered internally at ../aten/src/ATen/native/IndexingUtils.h:27.)\n",
      "  return game.available_moves(), tinv(prob)[mask].view(-1), v.squeeze().squeeze()\n"
     ]
    }
   ],
   "source": [
    "%matplotlib notebook\n",
    "\n",
    "from Play import Play\n",
    "\n",
    "\n",
    "gameplay=Play(ConnectN(**game_setting), \n",
    "              player1=Policy_Player_MCTS, \n",
    "              player2=None)\n"
   ]
  },
  {
   "cell_type": "markdown",
   "id": "e3aca044",
   "metadata": {},
   "source": [
    "# Training\n"
   ]
  },
  {
   "cell_type": "code",
   "execution_count": 7,
   "id": "1b12ee62",
   "metadata": {},
   "outputs": [],
   "source": [
    "# initialize our alphazero agent and optimizer\n",
    "import torch.optim as optim\n",
    "\n",
    "\n",
    "game=ConnectN(**game_setting)\n",
    "policy = Policy(game)\n",
    "optimizer = optim.Adam(policy.parameters(), lr=.005, weight_decay=1.e-5)\n"
   ]
  },
  {
   "cell_type": "code",
   "execution_count": 8,
   "id": "6aec0185",
   "metadata": {},
   "outputs": [
    {
     "name": "stderr",
     "output_type": "stream",
     "text": [
      "/home/sagarnildass/anaconda3/envs/mlagents_unity/lib/python3.9/site-packages/torch/autograd/__init__.py:197: UserWarning: indexing with dtype torch.uint8 is now deprecated, please use a dtype torch.bool instead. (Triggered internally at ../aten/src/ATen/native/IndexingUtils.h:27.)\n",
      "  Variable._execution_engine.run_backward(  # Calls into the C++ engine to run the backward pass\n",
      "training loop:   0% |                                   | ETA:  8 days, 13:21:54\r"
     ]
    },
    {
     "name": "stdout",
     "output_type": "stream",
     "text": [
      "game:  101 , mean loss: 11.08 , recent outcomes:  [1, 1, -1, 1, 1, -1, 1, 1, 1, 1]\n"
     ]
    },
    {
     "name": "stderr",
     "output_type": "stream",
     "text": [
      "training loop:   0% |                                    | ETA:  6 days, 8:26:19\r"
     ]
    },
    {
     "name": "stdout",
     "output_type": "stream",
     "text": [
      "game:  201 , mean loss: 3.58 , recent outcomes:  [1, 1, 1, 1, 1, 1, 1, 1, 1, 1]\n"
     ]
    },
    {
     "name": "stderr",
     "output_type": "stream",
     "text": [
      "training loop:   0% |                                   | ETA:  5 days, 19:06:08\r"
     ]
    },
    {
     "name": "stdout",
     "output_type": "stream",
     "text": [
      "game:  301 , mean loss: 4.33 , recent outcomes:  [1, 1, 1, 1, 1, 1, 1, 1, -1, 1]\n"
     ]
    },
    {
     "name": "stderr",
     "output_type": "stream",
     "text": [
      "training loop:   0% |                                    | ETA:  5 days, 6:34:44\r"
     ]
    },
    {
     "name": "stdout",
     "output_type": "stream",
     "text": [
      "game:  401 , mean loss: 1.64 , recent outcomes:  [1, 1, 1, 1, 1, 1, 1, 1, 1, 1]\n"
     ]
    },
    {
     "name": "stderr",
     "output_type": "stream",
     "text": [
      "training loop:   1% |                                   | ETA:  4 days, 22:48:14\r"
     ]
    },
    {
     "name": "stdout",
     "output_type": "stream",
     "text": [
      "game:  501 , mean loss: 0.60 , recent outcomes:  [1, 1, 1, 1, 1, 1, 1, 1, 1, 1]\n"
     ]
    },
    {
     "name": "stderr",
     "output_type": "stream",
     "text": [
      "training loop:   1% |                                   | ETA:  4 days, 15:46:26\r"
     ]
    },
    {
     "name": "stdout",
     "output_type": "stream",
     "text": [
      "game:  601 , mean loss: 0.38 , recent outcomes:  [1, 1, 1, 1, 1, 1, 1, 1, 1, 1]\n"
     ]
    },
    {
     "name": "stderr",
     "output_type": "stream",
     "text": [
      "training loop:   1% |                                   | ETA:  4 days, 11:05:59\r"
     ]
    },
    {
     "name": "stdout",
     "output_type": "stream",
     "text": [
      "game:  701 , mean loss: 0.33 , recent outcomes:  [1, 1, 1, 1, 1, 1, 1, 1, 1, 1]\n"
     ]
    },
    {
     "name": "stderr",
     "output_type": "stream",
     "text": [
      "training loop:   1% |                                    | ETA:  4 days, 7:53:37\r"
     ]
    },
    {
     "name": "stdout",
     "output_type": "stream",
     "text": [
      "game:  801 , mean loss: 3.21 , recent outcomes:  [1, 1, 1, 1, 1, 1, 1, 1, 1, 1]\n"
     ]
    },
    {
     "name": "stderr",
     "output_type": "stream",
     "text": [
      "training loop:   1% |                                    | ETA:  4 days, 5:56:53\r"
     ]
    },
    {
     "name": "stdout",
     "output_type": "stream",
     "text": [
      "game:  901 , mean loss: 3.46 , recent outcomes:  [1, 1, 1, 1, 1, 1, 1, 1, 1, 1]\n"
     ]
    },
    {
     "name": "stderr",
     "output_type": "stream",
     "text": [
      "training loop:   2% |                                   | ETA:  4 days, 13:57:01\r"
     ]
    },
    {
     "name": "stdout",
     "output_type": "stream",
     "text": [
      "game:  1001 , mean loss: 4.91 , recent outcomes:  [1, 1, 1, 1, 1, 1, 1, 1, 1, 1]\n"
     ]
    },
    {
     "name": "stderr",
     "output_type": "stream",
     "text": [
      "training loop:   2% |                                    | ETA:  4 days, 9:32:16\r"
     ]
    },
    {
     "name": "stdout",
     "output_type": "stream",
     "text": [
      "game:  1101 , mean loss: 1.89 , recent outcomes:  [1, 1, 1, 1, 1, 1, 1, 1, 1, 1]\n"
     ]
    },
    {
     "name": "stderr",
     "output_type": "stream",
     "text": [
      "training loop:   2% |                                    | ETA:  4 days, 6:45:18\r"
     ]
    },
    {
     "name": "stdout",
     "output_type": "stream",
     "text": [
      "game:  1201 , mean loss: 0.43 , recent outcomes:  [1, 1, 1, 1, 1, 1, 1, 1, 1, 1]\n"
     ]
    },
    {
     "name": "stderr",
     "output_type": "stream",
     "text": [
      "training loop:   2% |                                    | ETA:  4 days, 3:21:38\r"
     ]
    },
    {
     "name": "stdout",
     "output_type": "stream",
     "text": [
      "game:  1301 , mean loss: 1.55 , recent outcomes:  [1, 1, 1, 1, 1, 1, 1, 1, 1, 1]\n"
     ]
    },
    {
     "name": "stderr",
     "output_type": "stream",
     "text": [
      "training loop:   2% |#                                   | ETA:  4 days, 0:23:04\r"
     ]
    },
    {
     "name": "stdout",
     "output_type": "stream",
     "text": [
      "game:  1401 , mean loss: 0.24 , recent outcomes:  [1, 1, 1, 1, 1, 1, 1, 1, 1, 1]\n"
     ]
    },
    {
     "name": "stderr",
     "output_type": "stream",
     "text": [
      "training loop:   3% |#                                  | ETA:  3 days, 21:44:48\r"
     ]
    },
    {
     "name": "stdout",
     "output_type": "stream",
     "text": [
      "game:  1501 , mean loss: 0.21 , recent outcomes:  [1, 1, 1, 1, 1, 1, 1, 1, 1, 1]\n"
     ]
    },
    {
     "name": "stderr",
     "output_type": "stream",
     "text": [
      "training loop:   3% |#                                  | ETA:  3 days, 19:46:17\r"
     ]
    },
    {
     "name": "stdout",
     "output_type": "stream",
     "text": [
      "game:  1601 , mean loss: 0.17 , recent outcomes:  [1, 1, 1, 1, 1, 1, 1, 1, 1, 1]\n"
     ]
    },
    {
     "name": "stderr",
     "output_type": "stream",
     "text": [
      "training loop:   3% |#                                  | ETA:  3 days, 18:01:00\r"
     ]
    },
    {
     "name": "stdout",
     "output_type": "stream",
     "text": [
      "game:  1701 , mean loss: 0.14 , recent outcomes:  [1, 1, 1, 1, 1, 1, 1, 1, 1, 1]\n"
     ]
    },
    {
     "name": "stderr",
     "output_type": "stream",
     "text": [
      "training loop:   3% |#                                  | ETA:  3 days, 17:49:49\r"
     ]
    },
    {
     "name": "stdout",
     "output_type": "stream",
     "text": [
      "game:  1801 , mean loss: 1.49 , recent outcomes:  [1, 1, 1, 1, 1, 1, 1, 1, 1, 1]\n"
     ]
    },
    {
     "name": "stderr",
     "output_type": "stream",
     "text": [
      "training loop:   3% |#                                  | ETA:  3 days, 16:56:30\r"
     ]
    },
    {
     "name": "stdout",
     "output_type": "stream",
     "text": [
      "game:  1901 , mean loss: 0.31 , recent outcomes:  [1, 1, 1, 1, 1, 1, 1, 1, 1, 1]\n"
     ]
    },
    {
     "name": "stderr",
     "output_type": "stream",
     "text": [
      "training loop:   4% |#                                  | ETA:  3 days, 16:20:38\r"
     ]
    },
    {
     "name": "stdout",
     "output_type": "stream",
     "text": [
      "game:  2001 , mean loss: 6.00 , recent outcomes:  [1, 1, 1, 1, 1, 1, 1, 1, 1, 1]\n"
     ]
    },
    {
     "name": "stderr",
     "output_type": "stream",
     "text": [
      "training loop:   4% |#                                  | ETA:  3 days, 23:10:54\r"
     ]
    },
    {
     "name": "stdout",
     "output_type": "stream",
     "text": [
      "game:  2101 , mean loss: 22.35 , recent outcomes:  [1, -1, -1, -1, -1, -1, -1, 1, 1, -1]\n"
     ]
    },
    {
     "name": "stderr",
     "output_type": "stream",
     "text": [
      "training loop:   4% |#                                   | ETA:  4 days, 7:39:47\r"
     ]
    },
    {
     "name": "stdout",
     "output_type": "stream",
     "text": [
      "game:  2201 , mean loss: 19.19 , recent outcomes:  [1, 1, 1, 1, 1, 1, -1, 1, 1, 0]\n"
     ]
    },
    {
     "name": "stderr",
     "output_type": "stream",
     "text": [
      "training loop:   4% |#                                  | ETA:  4 days, 15:06:26\r"
     ]
    },
    {
     "name": "stdout",
     "output_type": "stream",
     "text": [
      "game:  2301 , mean loss: 22.40 , recent outcomes:  [1, 1, 1, 1, -1, 1, 1, -1, 1, 1]\n"
     ]
    },
    {
     "name": "stderr",
     "output_type": "stream",
     "text": [
      "training loop:   4% |#                                  | ETA:  4 days, 21:16:41\r"
     ]
    },
    {
     "name": "stdout",
     "output_type": "stream",
     "text": [
      "game:  2401 , mean loss: 27.82 , recent outcomes:  [1, 1, 0, 0, -1, 1, 0, 1, 0, -1]\n"
     ]
    },
    {
     "name": "stderr",
     "output_type": "stream",
     "text": [
      "training loop:   5% |#                                  | ETA:  4 days, 23:45:50\r"
     ]
    },
    {
     "name": "stdout",
     "output_type": "stream",
     "text": [
      "game:  2501 , mean loss: 10.05 , recent outcomes:  [1, 1, 1, 1, 0, 1, 1, 1, 1, 1]\n"
     ]
    },
    {
     "name": "stderr",
     "output_type": "stream",
     "text": [
      "training loop:   5% |#                                  | ETA:  4 days, 23:25:27\r"
     ]
    },
    {
     "name": "stdout",
     "output_type": "stream",
     "text": [
      "game:  2601 , mean loss: 5.45 , recent outcomes:  [1, 1, 1, 1, 1, 1, 1, 1, 1, 1]\n"
     ]
    },
    {
     "name": "stderr",
     "output_type": "stream",
     "text": [
      "training loop:   5% |#                                  | ETA:  4 days, 23:40:01\r"
     ]
    },
    {
     "name": "stdout",
     "output_type": "stream",
     "text": [
      "game:  2701 , mean loss: 2.35 , recent outcomes:  [1, 1, 1, 1, 1, 1, 1, 1, 1, 1]\n"
     ]
    },
    {
     "name": "stderr",
     "output_type": "stream",
     "text": [
      "training loop:   5% |#                                  | ETA:  4 days, 23:35:26\r"
     ]
    },
    {
     "name": "stdout",
     "output_type": "stream",
     "text": [
      "game:  2801 , mean loss: 1.60 , recent outcomes:  [1, 1, 1, 1, 1, 1, 1, 1, 1, 1]\n"
     ]
    },
    {
     "name": "stderr",
     "output_type": "stream",
     "text": [
      "training loop:   5% |##                                 | ETA:  4 days, 23:51:55\r"
     ]
    },
    {
     "name": "stdout",
     "output_type": "stream",
     "text": [
      "game:  2901 , mean loss: 6.69 , recent outcomes:  [1, 1, 1, 1, 1, -1, 1, 1, 1, 1]\n"
     ]
    },
    {
     "name": "stderr",
     "output_type": "stream",
     "text": [
      "training loop:   6% |##                                  | ETA:  5 days, 0:14:26\r"
     ]
    },
    {
     "name": "stdout",
     "output_type": "stream",
     "text": [
      "game:  3001 , mean loss: 1.23 , recent outcomes:  [1, 1, 1, 1, 1, 1, 1, 1, 1, 1]\n"
     ]
    },
    {
     "name": "stderr",
     "output_type": "stream",
     "text": [
      "training loop:   6% |##                                 | ETA:  4 days, 23:59:41\r"
     ]
    },
    {
     "name": "stdout",
     "output_type": "stream",
     "text": [
      "game:  3101 , mean loss: 7.14 , recent outcomes:  [1, 1, 1, 1, -1, 1, 1, 1, 1, 1]\n"
     ]
    },
    {
     "name": "stderr",
     "output_type": "stream",
     "text": [
      "training loop:   6% |##                                 | ETA:  4 days, 22:46:37\r"
     ]
    },
    {
     "name": "stdout",
     "output_type": "stream",
     "text": [
      "game:  3201 , mean loss: 1.06 , recent outcomes:  [1, 1, 1, 1, 1, 1, 1, 1, 1, 1]\n"
     ]
    },
    {
     "name": "stderr",
     "output_type": "stream",
     "text": [
      "training loop:   6% |##                                 | ETA:  4 days, 21:09:30\r"
     ]
    },
    {
     "name": "stdout",
     "output_type": "stream",
     "text": [
      "game:  3301 , mean loss: 3.06 , recent outcomes:  [1, 1, 1, 1, 1, 1, 1, 1, 1, 1]\n"
     ]
    },
    {
     "name": "stderr",
     "output_type": "stream",
     "text": [
      "training loop:   6% |##                                 | ETA:  4 days, 19:55:22\r"
     ]
    },
    {
     "name": "stdout",
     "output_type": "stream",
     "text": [
      "game:  3401 , mean loss: 2.86 , recent outcomes:  [1, 1, 1, -1, 1, 1, 1, 1, 1, 1]\n"
     ]
    },
    {
     "name": "stderr",
     "output_type": "stream",
     "text": [
      "training loop:   7% |##                                 | ETA:  4 days, 18:37:11\r"
     ]
    },
    {
     "name": "stdout",
     "output_type": "stream",
     "text": [
      "game:  3501 , mean loss: 3.52 , recent outcomes:  [1, 1, 1, 1, 1, 1, 1, 1, 1, 1]\n"
     ]
    },
    {
     "name": "stderr",
     "output_type": "stream",
     "text": [
      "training loop:   7% |##                                 | ETA:  4 days, 17:32:49\r"
     ]
    },
    {
     "name": "stdout",
     "output_type": "stream",
     "text": [
      "game:  3601 , mean loss: 1.23 , recent outcomes:  [1, 1, 1, 1, 1, 1, 1, 1, 1, 1]\n"
     ]
    },
    {
     "name": "stderr",
     "output_type": "stream",
     "text": [
      "training loop:   7% |##                                 | ETA:  4 days, 16:08:41\r"
     ]
    },
    {
     "name": "stdout",
     "output_type": "stream",
     "text": [
      "game:  3701 , mean loss: 5.78 , recent outcomes:  [1, 1, 1, 1, 1, -1, 1, 1, 1, 1]\n"
     ]
    },
    {
     "name": "stderr",
     "output_type": "stream",
     "text": [
      "training loop:   7% |##                                 | ETA:  4 days, 15:12:54\r"
     ]
    },
    {
     "name": "stdout",
     "output_type": "stream",
     "text": [
      "game:  3801 , mean loss: 0.80 , recent outcomes:  [1, 1, 1, 1, 1, 1, 1, 1, 1, 1]\n"
     ]
    },
    {
     "name": "stderr",
     "output_type": "stream",
     "text": [
      "training loop:   7% |##                                 | ETA:  4 days, 14:14:46\r"
     ]
    },
    {
     "name": "stdout",
     "output_type": "stream",
     "text": [
      "game:  3901 , mean loss: 1.71 , recent outcomes:  [1, 1, 1, 1, 1, 1, 1, 1, 1, 1]\n"
     ]
    },
    {
     "name": "stderr",
     "output_type": "stream",
     "text": [
      "training loop:   8% |##                                 | ETA:  4 days, 13:29:24\r"
     ]
    },
    {
     "name": "stdout",
     "output_type": "stream",
     "text": [
      "game:  4001 , mean loss: 2.85 , recent outcomes:  [1, 1, 1, 1, 1, 1, 1, 1, 1, 1]\n"
     ]
    },
    {
     "name": "stderr",
     "output_type": "stream",
     "text": [
      "training loop:   8% |##                                 | ETA:  4 days, 12:46:14\r"
     ]
    },
    {
     "name": "stdout",
     "output_type": "stream",
     "text": [
      "game:  4101 , mean loss: 2.78 , recent outcomes:  [1, 1, 1, 1, 1, 1, 1, 1, 1, 1]\n"
     ]
    },
    {
     "name": "stderr",
     "output_type": "stream",
     "text": [
      "training loop:   8% |##                                 | ETA:  4 days, 12:02:09\r"
     ]
    },
    {
     "name": "stdout",
     "output_type": "stream",
     "text": [
      "game:  4201 , mean loss: 1.99 , recent outcomes:  [1, 1, 1, 1, 1, 1, 1, 1, 1, 1]\n"
     ]
    },
    {
     "name": "stderr",
     "output_type": "stream",
     "text": [
      "training loop:   8% |###                                | ETA:  4 days, 11:39:12\r"
     ]
    },
    {
     "name": "stdout",
     "output_type": "stream",
     "text": [
      "game:  4301 , mean loss: 3.73 , recent outcomes:  [1, 1, 1, 1, 1, 1, 1, 1, 1, 0]\n"
     ]
    },
    {
     "name": "stderr",
     "output_type": "stream",
     "text": [
      "training loop:   8% |###                                | ETA:  4 days, 10:40:17\r"
     ]
    },
    {
     "name": "stdout",
     "output_type": "stream",
     "text": [
      "game:  4401 , mean loss: 0.45 , recent outcomes:  [1, 1, 1, 1, 1, 1, 1, 1, 1, 1]\n"
     ]
    },
    {
     "name": "stderr",
     "output_type": "stream",
     "text": [
      "training loop:   9% |###                                 | ETA:  4 days, 9:56:15\r"
     ]
    },
    {
     "name": "stdout",
     "output_type": "stream",
     "text": [
      "game:  4501 , mean loss: 0.62 , recent outcomes:  [1, 1, 1, 1, 1, 1, 1, 1, 1, 1]\n"
     ]
    },
    {
     "name": "stderr",
     "output_type": "stream",
     "text": [
      "training loop:   9% |###                                 | ETA:  4 days, 9:13:10\r"
     ]
    },
    {
     "name": "stdout",
     "output_type": "stream",
     "text": [
      "game:  4601 , mean loss: 3.04 , recent outcomes:  [1, 1, 1, 1, 1, 1, 1, 1, 1, 1]\n"
     ]
    },
    {
     "name": "stderr",
     "output_type": "stream",
     "text": [
      "training loop:   9% |###                                 | ETA:  4 days, 8:23:27\r"
     ]
    },
    {
     "name": "stdout",
     "output_type": "stream",
     "text": [
      "game:  4701 , mean loss: 2.88 , recent outcomes:  [1, 1, 1, 1, 1, 1, 1, 0, 1, 1]\n"
     ]
    },
    {
     "name": "stderr",
     "output_type": "stream",
     "text": [
      "training loop:   9% |###                                 | ETA:  4 days, 7:32:47\r"
     ]
    },
    {
     "name": "stdout",
     "output_type": "stream",
     "text": [
      "game:  4801 , mean loss: 0.39 , recent outcomes:  [1, 1, 1, 1, 1, 1, 1, 1, 1, 1]\n"
     ]
    },
    {
     "name": "stderr",
     "output_type": "stream",
     "text": [
      "training loop:   9% |###                                 | ETA:  4 days, 6:50:40\r"
     ]
    },
    {
     "name": "stdout",
     "output_type": "stream",
     "text": [
      "game:  4901 , mean loss: 0.32 , recent outcomes:  [1, 1, 1, 1, 1, 1, 1, 1, 1, 1]\n"
     ]
    },
    {
     "name": "stderr",
     "output_type": "stream",
     "text": [
      "training loop:  10% |###                                 | ETA:  4 days, 6:23:43\r"
     ]
    },
    {
     "name": "stdout",
     "output_type": "stream",
     "text": [
      "game:  5001 , mean loss: 2.15 , recent outcomes:  [1, 1, 1, 1, 1, 0, 1, 1, 1, 1]\n"
     ]
    },
    {
     "name": "stderr",
     "output_type": "stream",
     "text": [
      "training loop:  10% |###                                 | ETA:  4 days, 5:42:16\r"
     ]
    },
    {
     "name": "stdout",
     "output_type": "stream",
     "text": [
      "game:  5101 , mean loss: 0.58 , recent outcomes:  [1, 1, 1, 1, 1, 1, 1, 1, 1, 1]\n"
     ]
    },
    {
     "name": "stderr",
     "output_type": "stream",
     "text": [
      "training loop:  10% |###                                 | ETA:  4 days, 5:05:44\r"
     ]
    },
    {
     "name": "stdout",
     "output_type": "stream",
     "text": [
      "game:  5201 , mean loss: 0.36 , recent outcomes:  [1, 1, 1, 1, 1, 1, 1, 1, 1, 1]\n"
     ]
    },
    {
     "name": "stderr",
     "output_type": "stream",
     "text": [
      "training loop:  10% |###                                 | ETA:  4 days, 4:35:16\r"
     ]
    },
    {
     "name": "stdout",
     "output_type": "stream",
     "text": [
      "game:  5301 , mean loss: 3.65 , recent outcomes:  [1, 1, 1, 1, 0, 1, 1, 1, 1, 1]\n"
     ]
    },
    {
     "name": "stderr",
     "output_type": "stream",
     "text": [
      "training loop:  10% |###                                 | ETA:  4 days, 4:11:43\r"
     ]
    },
    {
     "name": "stdout",
     "output_type": "stream",
     "text": [
      "game:  5401 , mean loss: 4.35 , recent outcomes:  [1, 1, 1, 1, 0, 1, 1, -1, 1, 1]\n"
     ]
    },
    {
     "name": "stderr",
     "output_type": "stream",
     "text": [
      "training loop:  11% |###                                 | ETA:  4 days, 3:39:42\r"
     ]
    },
    {
     "name": "stdout",
     "output_type": "stream",
     "text": [
      "game:  5501 , mean loss: 2.56 , recent outcomes:  [1, 1, 1, 1, 1, 1, 1, 1, -1, 1]\n"
     ]
    },
    {
     "name": "stderr",
     "output_type": "stream",
     "text": [
      "training loop:  11% |####                                | ETA:  4 days, 3:09:36\r"
     ]
    },
    {
     "name": "stdout",
     "output_type": "stream",
     "text": [
      "game:  5601 , mean loss: 1.40 , recent outcomes:  [1, 1, 1, 1, 1, 1, 1, 1, 1, 1]\n"
     ]
    },
    {
     "name": "stderr",
     "output_type": "stream",
     "text": [
      "training loop:  11% |####                                | ETA:  4 days, 2:36:45\r"
     ]
    },
    {
     "name": "stdout",
     "output_type": "stream",
     "text": [
      "game:  5701 , mean loss: 0.44 , recent outcomes:  [1, 1, 1, 1, 1, 1, 1, 1, 1, 1]\n"
     ]
    },
    {
     "name": "stderr",
     "output_type": "stream",
     "text": [
      "training loop:  11% |####                                | ETA:  4 days, 2:00:19\r"
     ]
    },
    {
     "name": "stdout",
     "output_type": "stream",
     "text": [
      "game:  5801 , mean loss: 0.85 , recent outcomes:  [1, 1, 1, 1, 1, 1, 1, 1, 1, 1]\n"
     ]
    },
    {
     "name": "stderr",
     "output_type": "stream",
     "text": [
      "training loop:  11% |####                                | ETA:  4 days, 1:25:34\r"
     ]
    },
    {
     "name": "stdout",
     "output_type": "stream",
     "text": [
      "game:  5901 , mean loss: 0.92 , recent outcomes:  [1, 1, 1, 1, 1, 1, 1, 1, 1, 1]\n"
     ]
    },
    {
     "name": "stderr",
     "output_type": "stream",
     "text": [
      "training loop:  12% |####                                | ETA:  4 days, 0:39:33\r"
     ]
    },
    {
     "name": "stdout",
     "output_type": "stream",
     "text": [
      "game:  6001 , mean loss: 2.60 , recent outcomes:  [1, 1, 1, 1, 1, 1, 1, 1, 1, 1]\n"
     ]
    },
    {
     "name": "stderr",
     "output_type": "stream",
     "text": [
      "training loop:  12% |####                                | ETA:  4 days, 0:02:24\r"
     ]
    },
    {
     "name": "stdout",
     "output_type": "stream",
     "text": [
      "game:  6101 , mean loss: 3.99 , recent outcomes:  [-1, 1, 1, 1, 1, 1, 1, 1, 1, 1]\n"
     ]
    },
    {
     "name": "stderr",
     "output_type": "stream",
     "text": [
      "training loop:  12% |####                               | ETA:  3 days, 23:35:35\r"
     ]
    },
    {
     "name": "stdout",
     "output_type": "stream",
     "text": [
      "game:  6201 , mean loss: 1.04 , recent outcomes:  [1, 1, 1, 1, 1, 1, 1, 1, 1, 1]\n"
     ]
    },
    {
     "name": "stderr",
     "output_type": "stream",
     "text": [
      "training loop:  12% |####                                | ETA:  4 days, 1:57:47\r"
     ]
    },
    {
     "name": "stdout",
     "output_type": "stream",
     "text": [
      "game:  6301 , mean loss: 0.28 , recent outcomes:  [1, 1, 1, 1, 1, 1, 1, 1, 1, 1]\n"
     ]
    },
    {
     "name": "stderr",
     "output_type": "stream",
     "text": [
      "training loop:  12% |####                               | ETA:  4 days, 14:24:57\r"
     ]
    },
    {
     "name": "stdout",
     "output_type": "stream",
     "text": [
      "game:  6401 , mean loss: 0.57 , recent outcomes:  [1, 1, 1, 1, 1, 1, 1, 1, 1, 1]\n"
     ]
    },
    {
     "name": "stderr",
     "output_type": "stream",
     "text": [
      "training loop:  13% |####                                | ETA:  5 days, 2:46:35\r"
     ]
    },
    {
     "name": "stdout",
     "output_type": "stream",
     "text": [
      "game:  6501 , mean loss: 2.23 , recent outcomes:  [1, 1, 1, 1, 1, 1, 1, 1, 1, 1]\n"
     ]
    },
    {
     "name": "stderr",
     "output_type": "stream",
     "text": [
      "training loop:  13% |####                               | ETA:  5 days, 13:56:35\r"
     ]
    },
    {
     "name": "stdout",
     "output_type": "stream",
     "text": [
      "game:  6601 , mean loss: 0.52 , recent outcomes:  [1, 1, 1, 1, 1, 1, 1, 1, 1, 1]\n"
     ]
    },
    {
     "name": "stderr",
     "output_type": "stream",
     "text": [
      "training loop:  13% |####                                | ETA:  6 days, 0:14:39\r"
     ]
    },
    {
     "name": "stdout",
     "output_type": "stream",
     "text": [
      "game:  6701 , mean loss: 0.52 , recent outcomes:  [1, 1, 1, 1, 1, 1, 1, 1, 1, 1]\n"
     ]
    },
    {
     "name": "stderr",
     "output_type": "stream",
     "text": [
      "training loop:  13% |####                               | ETA:  5 days, 23:38:48\r"
     ]
    },
    {
     "name": "stdout",
     "output_type": "stream",
     "text": [
      "game:  6801 , mean loss: 0.31 , recent outcomes:  [1, 1, 1, 1, 1, 1, 1, 1, 1, 1]\n"
     ]
    },
    {
     "name": "stderr",
     "output_type": "stream",
     "text": [
      "training loop:  13% |####                               | ETA:  5 days, 22:15:52\r"
     ]
    },
    {
     "name": "stdout",
     "output_type": "stream",
     "text": [
      "game:  6901 , mean loss: 0.33 , recent outcomes:  [1, 1, 1, 1, 1, 1, 1, 1, 1, 1]\n"
     ]
    },
    {
     "name": "stderr",
     "output_type": "stream",
     "text": [
      "training loop:  14% |####                               | ETA:  5 days, 20:52:33\r"
     ]
    },
    {
     "name": "stdout",
     "output_type": "stream",
     "text": [
      "game:  7001 , mean loss: 0.19 , recent outcomes:  [1, 1, 1, 1, 1, 1, 1, 1, 1, 1]\n"
     ]
    },
    {
     "name": "stderr",
     "output_type": "stream",
     "text": [
      "training loop:  14% |####                               | ETA:  5 days, 19:34:15\r"
     ]
    },
    {
     "name": "stdout",
     "output_type": "stream",
     "text": [
      "game:  7101 , mean loss: 2.26 , recent outcomes:  [1, 1, 1, 1, 1, 1, 1, -1, 1, 1]\n"
     ]
    },
    {
     "name": "stderr",
     "output_type": "stream",
     "text": [
      "training loop:  14% |#####                              | ETA:  5 days, 18:11:02\r"
     ]
    },
    {
     "name": "stdout",
     "output_type": "stream",
     "text": [
      "game:  7201 , mean loss: 0.21 , recent outcomes:  [1, 1, 1, 1, 1, 1, 1, 1, 1, 1]\n"
     ]
    },
    {
     "name": "stderr",
     "output_type": "stream",
     "text": [
      "training loop:  14% |#####                              | ETA:  5 days, 16:52:28\r"
     ]
    },
    {
     "name": "stdout",
     "output_type": "stream",
     "text": [
      "game:  7301 , mean loss: 0.18 , recent outcomes:  [1, 1, 1, 1, 1, 1, 1, 1, 1, 1]\n"
     ]
    },
    {
     "name": "stderr",
     "output_type": "stream",
     "text": [
      "training loop:  14% |#####                              | ETA:  5 days, 15:39:21\r"
     ]
    },
    {
     "name": "stdout",
     "output_type": "stream",
     "text": [
      "game:  7401 , mean loss: 0.34 , recent outcomes:  [1, 1, 1, 1, 1, 1, 1, 1, 1, 1]\n"
     ]
    },
    {
     "name": "stderr",
     "output_type": "stream",
     "text": [
      "training loop:  15% |#####                              | ETA:  5 days, 14:34:18\r"
     ]
    },
    {
     "name": "stdout",
     "output_type": "stream",
     "text": [
      "game:  7501 , mean loss: 0.40 , recent outcomes:  [1, 1, 1, 1, 1, 1, 1, 1, 1, 1]\n"
     ]
    },
    {
     "name": "stderr",
     "output_type": "stream",
     "text": [
      "training loop:  15% |#####                              | ETA:  5 days, 13:21:26\r"
     ]
    },
    {
     "name": "stdout",
     "output_type": "stream",
     "text": [
      "game:  7601 , mean loss: 3.52 , recent outcomes:  [1, 1, 1, 1, 1, 1, 1, 1, 1, 1]\n"
     ]
    },
    {
     "name": "stderr",
     "output_type": "stream",
     "text": [
      "training loop:  15% |#####                              | ETA:  5 days, 12:10:06\r"
     ]
    },
    {
     "name": "stdout",
     "output_type": "stream",
     "text": [
      "game:  7701 , mean loss: 2.31 , recent outcomes:  [-1, 1, 1, 1, 1, 1, 1, 1, 1, 1]\n"
     ]
    },
    {
     "name": "stderr",
     "output_type": "stream",
     "text": [
      "training loop:  15% |#####                              | ETA:  5 days, 11:04:40\r"
     ]
    },
    {
     "name": "stdout",
     "output_type": "stream",
     "text": [
      "game:  7801 , mean loss: 4.11 , recent outcomes:  [1, 1, 1, 1, 1, 1, 1, 1, 1, 1]\n"
     ]
    },
    {
     "name": "stderr",
     "output_type": "stream",
     "text": [
      "training loop:  15% |#####                               | ETA:  5 days, 9:53:15\r"
     ]
    },
    {
     "name": "stdout",
     "output_type": "stream",
     "text": [
      "game:  7901 , mean loss: 8.13 , recent outcomes:  [1, 1, 1, 1, 1, 1, 1, 1, -1, 1]\n"
     ]
    },
    {
     "name": "stderr",
     "output_type": "stream",
     "text": [
      "training loop:  16% |#####                               | ETA:  5 days, 8:42:18\r"
     ]
    },
    {
     "name": "stdout",
     "output_type": "stream",
     "text": [
      "game:  8001 , mean loss: 0.52 , recent outcomes:  [1, 1, 1, 1, 1, 1, 1, 1, 1, 1]\n"
     ]
    },
    {
     "name": "stderr",
     "output_type": "stream",
     "text": [
      "training loop:  16% |#####                               | ETA:  5 days, 7:38:37\r"
     ]
    },
    {
     "name": "stdout",
     "output_type": "stream",
     "text": [
      "game:  8101 , mean loss: 0.31 , recent outcomes:  [1, 1, 1, 1, 1, 1, 1, 1, 1, 1]\n"
     ]
    },
    {
     "name": "stderr",
     "output_type": "stream",
     "text": [
      "training loop:  16% |#####                               | ETA:  5 days, 6:38:11\r"
     ]
    },
    {
     "name": "stdout",
     "output_type": "stream",
     "text": [
      "game:  8201 , mean loss: 0.31 , recent outcomes:  [1, 1, 1, 1, 1, 1, 1, 1, 1, 1]\n"
     ]
    },
    {
     "name": "stderr",
     "output_type": "stream",
     "text": [
      "training loop:  16% |#####                               | ETA:  5 days, 5:39:38\r"
     ]
    },
    {
     "name": "stdout",
     "output_type": "stream",
     "text": [
      "game:  8301 , mean loss: 0.50 , recent outcomes:  [1, 1, 1, 1, 1, 1, 1, 1, 1, 1]\n"
     ]
    },
    {
     "name": "stderr",
     "output_type": "stream",
     "text": [
      "training loop:  16% |######                              | ETA:  5 days, 4:37:16\r"
     ]
    },
    {
     "name": "stdout",
     "output_type": "stream",
     "text": [
      "game:  8401 , mean loss: 0.28 , recent outcomes:  [1, 1, 1, 1, 1, 1, 1, 1, 1, 1]\n"
     ]
    },
    {
     "name": "stderr",
     "output_type": "stream",
     "text": [
      "training loop:  17% |######                              | ETA:  5 days, 3:40:37\r"
     ]
    },
    {
     "name": "stdout",
     "output_type": "stream",
     "text": [
      "game:  8501 , mean loss: 1.51 , recent outcomes:  [1, 1, 1, 1, 1, 1, 1, 1, 1, 1]\n"
     ]
    },
    {
     "name": "stderr",
     "output_type": "stream",
     "text": [
      "training loop:  17% |######                              | ETA:  5 days, 2:39:36\r"
     ]
    },
    {
     "name": "stdout",
     "output_type": "stream",
     "text": [
      "game:  8601 , mean loss: 4.29 , recent outcomes:  [1, 1, 1, 1, 1, 1, 1, 1, 1, 1]\n"
     ]
    },
    {
     "name": "stderr",
     "output_type": "stream",
     "text": [
      "training loop:  17% |######                              | ETA:  5 days, 1:38:26\r"
     ]
    },
    {
     "name": "stdout",
     "output_type": "stream",
     "text": [
      "game:  8701 , mean loss: 1.44 , recent outcomes:  [1, 1, 1, 1, 1, 1, 1, 1, 1, 1]\n"
     ]
    },
    {
     "name": "stderr",
     "output_type": "stream",
     "text": [
      "training loop:  17% |######                              | ETA:  5 days, 0:55:06\r"
     ]
    },
    {
     "name": "stdout",
     "output_type": "stream",
     "text": [
      "game:  8801 , mean loss: 0.83 , recent outcomes:  [1, 1, 1, 1, 1, 1, 1, 1, 1, 1]\n"
     ]
    },
    {
     "name": "stderr",
     "output_type": "stream",
     "text": [
      "training loop:  17% |######                              | ETA:  5 days, 0:03:34\r"
     ]
    },
    {
     "name": "stdout",
     "output_type": "stream",
     "text": [
      "game:  8901 , mean loss: 0.48 , recent outcomes:  [1, 1, 1, 1, 1, 1, 1, 1, 1, 1]\n"
     ]
    },
    {
     "name": "stderr",
     "output_type": "stream",
     "text": [
      "training loop:  18% |######                             | ETA:  4 days, 23:31:09\r"
     ]
    },
    {
     "name": "stdout",
     "output_type": "stream",
     "text": [
      "game:  9001 , mean loss: 0.64 , recent outcomes:  [1, 1, 1, 1, 1, 1, 1, 1, 1, 1]\n"
     ]
    },
    {
     "name": "stderr",
     "output_type": "stream",
     "text": [
      "training loop:  18% |######                             | ETA:  4 days, 22:52:24\r"
     ]
    },
    {
     "name": "stdout",
     "output_type": "stream",
     "text": [
      "game:  9101 , mean loss: 0.45 , recent outcomes:  [1, 1, 1, 1, 1, 1, 1, 1, 1, 1]\n"
     ]
    },
    {
     "name": "stderr",
     "output_type": "stream",
     "text": [
      "training loop:  18% |######                             | ETA:  4 days, 22:03:39\r"
     ]
    },
    {
     "name": "stdout",
     "output_type": "stream",
     "text": [
      "game:  9201 , mean loss: 0.84 , recent outcomes:  [1, 1, 1, 1, 1, 1, 1, 1, 1, 1]\n"
     ]
    },
    {
     "name": "stderr",
     "output_type": "stream",
     "text": [
      "training loop:  18% |######                             | ETA:  4 days, 21:27:06\r"
     ]
    },
    {
     "name": "stdout",
     "output_type": "stream",
     "text": [
      "game:  9301 , mean loss: 2.77 , recent outcomes:  [1, 1, 1, 1, 1, 1, 1, 1, 1, 1]\n"
     ]
    },
    {
     "name": "stderr",
     "output_type": "stream",
     "text": [
      "training loop:  18% |######                             | ETA:  4 days, 20:56:44\r"
     ]
    },
    {
     "name": "stdout",
     "output_type": "stream",
     "text": [
      "game:  9401 , mean loss: 0.44 , recent outcomes:  [1, 1, 1, 1, 1, 1, 1, 1, 1, 1]\n"
     ]
    },
    {
     "name": "stderr",
     "output_type": "stream",
     "text": [
      "training loop:  19% |######                             | ETA:  4 days, 20:32:07\r"
     ]
    },
    {
     "name": "stdout",
     "output_type": "stream",
     "text": [
      "game:  9501 , mean loss: 0.30 , recent outcomes:  [1, 1, 1, 1, 1, 1, 1, 1, 1, 1]\n"
     ]
    },
    {
     "name": "stderr",
     "output_type": "stream",
     "text": [
      "training loop:  19% |######                             | ETA:  4 days, 19:45:55\r"
     ]
    },
    {
     "name": "stdout",
     "output_type": "stream",
     "text": [
      "game:  9601 , mean loss: 8.59 , recent outcomes:  [1, -1, 1, 1, 1, 1, 1, 1, 1, 1]\n"
     ]
    },
    {
     "name": "stderr",
     "output_type": "stream",
     "text": [
      "training loop:  19% |######                             | ETA:  4 days, 19:02:40\r"
     ]
    },
    {
     "name": "stdout",
     "output_type": "stream",
     "text": [
      "game:  9701 , mean loss: 2.54 , recent outcomes:  [1, 1, 1, 1, 1, 1, 1, 1, 1, 1]\n"
     ]
    },
    {
     "name": "stderr",
     "output_type": "stream",
     "text": [
      "training loop:  19% |######                             | ETA:  4 days, 18:18:12\r"
     ]
    },
    {
     "name": "stdout",
     "output_type": "stream",
     "text": [
      "game:  9801 , mean loss: 0.26 , recent outcomes:  [1, 1, 1, 1, 1, 1, 1, 1, 1, 1]\n"
     ]
    },
    {
     "name": "stderr",
     "output_type": "stream",
     "text": [
      "training loop:  19% |######                             | ETA:  4 days, 17:30:08\r"
     ]
    },
    {
     "name": "stdout",
     "output_type": "stream",
     "text": [
      "game:  9901 , mean loss: 0.18 , recent outcomes:  [1, 1, 1, 1, 1, 1, 1, 1, 1, 1]\n"
     ]
    },
    {
     "name": "stderr",
     "output_type": "stream",
     "text": [
      "training loop:  20% |#######                            | ETA:  4 days, 16:43:49\r"
     ]
    },
    {
     "name": "stdout",
     "output_type": "stream",
     "text": [
      "game:  10001 , mean loss: 0.21 , recent outcomes:  [1, 1, 1, 1, 1, 1, 1, 1, 1, 1]\n"
     ]
    },
    {
     "name": "stderr",
     "output_type": "stream",
     "text": [
      "training loop:  20% |#######                            | ETA:  4 days, 15:57:32\r"
     ]
    },
    {
     "name": "stdout",
     "output_type": "stream",
     "text": [
      "game:  10101 , mean loss: 0.31 , recent outcomes:  [1, 1, 1, 1, 1, 1, 1, 1, 1, 1]\n"
     ]
    },
    {
     "name": "stderr",
     "output_type": "stream",
     "text": [
      "training loop:  20% |#######                            | ETA:  4 days, 15:11:59\r"
     ]
    },
    {
     "name": "stdout",
     "output_type": "stream",
     "text": [
      "game:  10201 , mean loss: 0.47 , recent outcomes:  [1, 1, 1, 1, 1, 1, 1, 1, 1, 1]\n"
     ]
    },
    {
     "name": "stderr",
     "output_type": "stream",
     "text": [
      "training loop:  20% |#######                            | ETA:  4 days, 14:23:46\r"
     ]
    },
    {
     "name": "stdout",
     "output_type": "stream",
     "text": [
      "game:  10301 , mean loss: 0.82 , recent outcomes:  [1, 1, 1, 1, 1, 1, 1, 1, 1, 1]\n"
     ]
    },
    {
     "name": "stderr",
     "output_type": "stream",
     "text": [
      "training loop:  20% |#######                            | ETA:  4 days, 13:39:59\r"
     ]
    },
    {
     "name": "stdout",
     "output_type": "stream",
     "text": [
      "game:  10401 , mean loss: 0.61 , recent outcomes:  [1, 1, 1, 1, 1, 1, 1, 1, 1, 1]\n"
     ]
    },
    {
     "name": "stderr",
     "output_type": "stream",
     "text": [
      "training loop:  21% |#######                            | ETA:  4 days, 12:54:45\r"
     ]
    },
    {
     "name": "stdout",
     "output_type": "stream",
     "text": [
      "game:  10501 , mean loss: 0.43 , recent outcomes:  [1, 1, 1, 1, 1, 1, 1, 1, 1, 1]\n"
     ]
    },
    {
     "name": "stderr",
     "output_type": "stream",
     "text": [
      "training loop:  21% |#######                            | ETA:  4 days, 12:08:52\r"
     ]
    },
    {
     "name": "stdout",
     "output_type": "stream",
     "text": [
      "game:  10601 , mean loss: 0.52 , recent outcomes:  [1, 1, 1, 1, 1, 1, 1, 1, 1, 1]\n"
     ]
    },
    {
     "name": "stderr",
     "output_type": "stream",
     "text": [
      "training loop:  21% |#######                            | ETA:  4 days, 11:26:01\r"
     ]
    },
    {
     "name": "stdout",
     "output_type": "stream",
     "text": [
      "game:  10701 , mean loss: 1.90 , recent outcomes:  [1, 1, 1, 1, 1, 1, 1, 1, 1, 1]\n"
     ]
    },
    {
     "name": "stderr",
     "output_type": "stream",
     "text": [
      "training loop:  21% |#######                            | ETA:  4 days, 10:43:19\r"
     ]
    },
    {
     "name": "stdout",
     "output_type": "stream",
     "text": [
      "game:  10801 , mean loss: 4.68 , recent outcomes:  [1, 1, 1, 1, 1, 1, 1, 1, 1, -1]\n"
     ]
    },
    {
     "name": "stderr",
     "output_type": "stream",
     "text": [
      "training loop:  21% |#######                             | ETA:  4 days, 9:59:12\r"
     ]
    },
    {
     "name": "stdout",
     "output_type": "stream",
     "text": [
      "game:  10901 , mean loss: 0.65 , recent outcomes:  [1, 1, 1, 1, 1, 1, 1, 1, 1, 1]\n"
     ]
    },
    {
     "name": "stderr",
     "output_type": "stream",
     "text": [
      "training loop:  22% |#######                             | ETA:  4 days, 9:20:24\r"
     ]
    },
    {
     "name": "stdout",
     "output_type": "stream",
     "text": [
      "game:  11001 , mean loss: 0.81 , recent outcomes:  [1, 1, 1, 1, 1, 1, 1, 1, 1, 1]\n"
     ]
    },
    {
     "name": "stderr",
     "output_type": "stream",
     "text": [
      "training loop:  22% |#######                             | ETA:  4 days, 8:42:38\r"
     ]
    },
    {
     "name": "stdout",
     "output_type": "stream",
     "text": [
      "game:  11101 , mean loss: 3.74 , recent outcomes:  [1, 1, 1, 1, 1, 1, 1, 1, 1, 1]\n"
     ]
    },
    {
     "name": "stderr",
     "output_type": "stream",
     "text": [
      "training loop:  22% |########                            | ETA:  4 days, 8:17:27\r"
     ]
    },
    {
     "name": "stdout",
     "output_type": "stream",
     "text": [
      "game:  11201 , mean loss: 0.48 , recent outcomes:  [1, 1, 1, 1, 1, 1, 1, 1, 1, 1]\n"
     ]
    },
    {
     "name": "stderr",
     "output_type": "stream",
     "text": [
      "training loop:  22% |########                            | ETA:  4 days, 7:39:46\r"
     ]
    },
    {
     "name": "stdout",
     "output_type": "stream",
     "text": [
      "game:  11301 , mean loss: 0.31 , recent outcomes:  [1, 1, 1, 1, 1, 1, 1, 1, 1, 1]\n"
     ]
    },
    {
     "name": "stderr",
     "output_type": "stream",
     "text": [
      "training loop:  22% |########                            | ETA:  4 days, 7:03:34\r"
     ]
    },
    {
     "name": "stdout",
     "output_type": "stream",
     "text": [
      "game:  11401 , mean loss: 0.42 , recent outcomes:  [1, 1, 1, 1, 1, 1, 1, 1, 1, 1]\n"
     ]
    },
    {
     "name": "stderr",
     "output_type": "stream",
     "text": [
      "training loop:  23% |########                            | ETA:  4 days, 6:28:14\r"
     ]
    },
    {
     "name": "stdout",
     "output_type": "stream",
     "text": [
      "game:  11501 , mean loss: 0.46 , recent outcomes:  [1, 1, 1, 1, 1, 1, 1, 1, 1, 1]\n"
     ]
    },
    {
     "name": "stderr",
     "output_type": "stream",
     "text": [
      "training loop:  23% |########                            | ETA:  4 days, 5:51:29\r"
     ]
    },
    {
     "name": "stdout",
     "output_type": "stream",
     "text": [
      "game:  11601 , mean loss: 0.42 , recent outcomes:  [1, 1, 1, 1, 1, 1, 1, 1, 1, 1]\n"
     ]
    },
    {
     "name": "stderr",
     "output_type": "stream",
     "text": [
      "training loop:  23% |########                            | ETA:  4 days, 5:09:21\r"
     ]
    },
    {
     "name": "stdout",
     "output_type": "stream",
     "text": [
      "game:  11701 , mean loss: 0.68 , recent outcomes:  [1, 1, 1, 1, 1, 1, 1, 1, 1, 1]\n"
     ]
    },
    {
     "name": "stderr",
     "output_type": "stream",
     "text": [
      "training loop:  23% |########                            | ETA:  4 days, 4:38:32\r"
     ]
    },
    {
     "name": "stdout",
     "output_type": "stream",
     "text": [
      "game:  11801 , mean loss: 5.69 , recent outcomes:  [-1, 1, 1, 1, 1, 1, 1, 1, 1, 1]\n"
     ]
    },
    {
     "name": "stderr",
     "output_type": "stream",
     "text": [
      "training loop:  23% |########                            | ETA:  4 days, 4:06:14\r"
     ]
    },
    {
     "name": "stdout",
     "output_type": "stream",
     "text": [
      "game:  11901 , mean loss: 0.76 , recent outcomes:  [1, 1, 1, 1, 1, 1, 1, 1, 1, 1]\n"
     ]
    },
    {
     "name": "stderr",
     "output_type": "stream",
     "text": [
      "training loop:  24% |########                            | ETA:  4 days, 3:35:48\r"
     ]
    },
    {
     "name": "stdout",
     "output_type": "stream",
     "text": [
      "game:  12001 , mean loss: 3.49 , recent outcomes:  [1, 1, 1, 1, 1, 1, 1, 1, 1, 1]\n"
     ]
    },
    {
     "name": "stderr",
     "output_type": "stream",
     "text": [
      "training loop:  24% |########                            | ETA:  4 days, 2:59:48\r"
     ]
    },
    {
     "name": "stdout",
     "output_type": "stream",
     "text": [
      "game:  12101 , mean loss: 0.47 , recent outcomes:  [1, 1, 1, 1, 1, 1, 1, 1, 1, 1]\n"
     ]
    },
    {
     "name": "stderr",
     "output_type": "stream",
     "text": [
      "training loop:  24% |########                            | ETA:  4 days, 2:24:30\r"
     ]
    },
    {
     "name": "stdout",
     "output_type": "stream",
     "text": [
      "game:  12201 , mean loss: 0.30 , recent outcomes:  [1, 1, 1, 1, 1, 1, 1, 1, 1, 1]\n"
     ]
    },
    {
     "name": "stderr",
     "output_type": "stream",
     "text": [
      "training loop:  24% |########                            | ETA:  4 days, 1:50:12\r"
     ]
    },
    {
     "name": "stdout",
     "output_type": "stream",
     "text": [
      "game:  12301 , mean loss: 5.91 , recent outcomes:  [1, 1, 1, 1, 1, 1, -1, 1, 1, 1]\n"
     ]
    },
    {
     "name": "stderr",
     "output_type": "stream",
     "text": [
      "training loop:  24% |########                            | ETA:  4 days, 1:20:03\r"
     ]
    },
    {
     "name": "stdout",
     "output_type": "stream",
     "text": [
      "game:  12401 , mean loss: 0.49 , recent outcomes:  [1, 1, 1, 1, 1, 1, 1, 1, 1, 1]\n"
     ]
    },
    {
     "name": "stderr",
     "output_type": "stream",
     "text": [
      "training loop:  25% |#########                           | ETA:  4 days, 0:48:57\r"
     ]
    },
    {
     "name": "stdout",
     "output_type": "stream",
     "text": [
      "game:  12501 , mean loss: 0.43 , recent outcomes:  [1, 1, 1, 1, 1, 1, 1, 1, 1, 1]\n"
     ]
    },
    {
     "name": "stderr",
     "output_type": "stream",
     "text": [
      "training loop:  25% |#########                           | ETA:  4 days, 0:16:18\r"
     ]
    },
    {
     "name": "stdout",
     "output_type": "stream",
     "text": [
      "game:  12601 , mean loss: 0.43 , recent outcomes:  [1, 1, 1, 1, 1, 1, 1, 1, 1, 1]\n"
     ]
    },
    {
     "name": "stderr",
     "output_type": "stream",
     "text": [
      "training loop:  25% |########                           | ETA:  3 days, 23:42:41\r"
     ]
    },
    {
     "name": "stdout",
     "output_type": "stream",
     "text": [
      "game:  12701 , mean loss: 0.22 , recent outcomes:  [1, 1, 1, 1, 1, 1, 1, 1, 1, 1]\n"
     ]
    },
    {
     "name": "stderr",
     "output_type": "stream",
     "text": [
      "training loop:  25% |########                           | ETA:  3 days, 23:11:40\r"
     ]
    },
    {
     "name": "stdout",
     "output_type": "stream",
     "text": [
      "game:  12801 , mean loss: 0.20 , recent outcomes:  [1, 1, 1, 1, 1, 1, 1, 1, 1, 1]\n"
     ]
    },
    {
     "name": "stderr",
     "output_type": "stream",
     "text": [
      "training loop:  25% |#########                          | ETA:  3 days, 22:42:15\r"
     ]
    },
    {
     "name": "stdout",
     "output_type": "stream",
     "text": [
      "game:  12901 , mean loss: 2.40 , recent outcomes:  [1, 1, 1, 1, 1, 1, 1, 1, 1, 1]\n"
     ]
    },
    {
     "name": "stderr",
     "output_type": "stream",
     "text": [
      "training loop:  26% |#########                          | ETA:  3 days, 22:13:46\r"
     ]
    },
    {
     "name": "stdout",
     "output_type": "stream",
     "text": [
      "game:  13001 , mean loss: 4.68 , recent outcomes:  [1, 1, 1, 1, 1, 1, 1, 1, 1, 1]\n"
     ]
    },
    {
     "name": "stderr",
     "output_type": "stream",
     "text": [
      "training loop:  26% |#########                          | ETA:  3 days, 21:44:02\r"
     ]
    },
    {
     "name": "stdout",
     "output_type": "stream",
     "text": [
      "game:  13101 , mean loss: 0.52 , recent outcomes:  [1, 1, 1, 1, 1, 1, 1, 1, 1, 1]\n"
     ]
    },
    {
     "name": "stderr",
     "output_type": "stream",
     "text": [
      "training loop:  26% |#########                          | ETA:  3 days, 21:15:41\r"
     ]
    },
    {
     "name": "stdout",
     "output_type": "stream",
     "text": [
      "game:  13201 , mean loss: 1.41 , recent outcomes:  [1, 1, 1, 1, 1, 1, 1, 1, 1, 1]\n"
     ]
    },
    {
     "name": "stderr",
     "output_type": "stream",
     "text": [
      "training loop:  26% |#########                          | ETA:  3 days, 20:44:16\r"
     ]
    },
    {
     "name": "stdout",
     "output_type": "stream",
     "text": [
      "game:  13301 , mean loss: 1.02 , recent outcomes:  [1, 1, 1, 1, 1, 1, 1, 1, 1, 1]\n"
     ]
    },
    {
     "name": "stderr",
     "output_type": "stream",
     "text": [
      "training loop:  26% |#########                          | ETA:  3 days, 20:14:01\r"
     ]
    },
    {
     "name": "stdout",
     "output_type": "stream",
     "text": [
      "game:  13401 , mean loss: 1.22 , recent outcomes:  [1, 1, 1, 1, 1, 1, 1, 1, 1, 1]\n"
     ]
    },
    {
     "name": "stderr",
     "output_type": "stream",
     "text": [
      "training loop:  27% |#########                          | ETA:  3 days, 19:47:15\r"
     ]
    },
    {
     "name": "stdout",
     "output_type": "stream",
     "text": [
      "game:  13501 , mean loss: 0.31 , recent outcomes:  [1, 1, 1, 1, 1, 1, 1, 1, 1, 1]\n"
     ]
    },
    {
     "name": "stderr",
     "output_type": "stream",
     "text": [
      "training loop:  27% |#########                          | ETA:  3 days, 19:21:25\r"
     ]
    },
    {
     "name": "stdout",
     "output_type": "stream",
     "text": [
      "game:  13601 , mean loss: 2.49 , recent outcomes:  [1, 1, 1, 1, 1, 1, 1, 1, 1, 1]\n"
     ]
    },
    {
     "name": "stderr",
     "output_type": "stream",
     "text": [
      "training loop:  27% |#########                          | ETA:  3 days, 18:56:08\r"
     ]
    },
    {
     "name": "stdout",
     "output_type": "stream",
     "text": [
      "game:  13701 , mean loss: 0.25 , recent outcomes:  [1, 1, 1, 1, 1, 1, 1, 1, 1, 1]\n"
     ]
    },
    {
     "name": "stderr",
     "output_type": "stream",
     "text": [
      "training loop:  27% |#########                          | ETA:  3 days, 18:30:04\r"
     ]
    },
    {
     "name": "stdout",
     "output_type": "stream",
     "text": [
      "game:  13801 , mean loss: 1.07 , recent outcomes:  [1, 1, 1, 1, 1, 1, 1, 1, 1, 1]\n"
     ]
    },
    {
     "name": "stderr",
     "output_type": "stream",
     "text": [
      "training loop:  27% |#########                          | ETA:  3 days, 18:03:37\r"
     ]
    },
    {
     "name": "stdout",
     "output_type": "stream",
     "text": [
      "game:  13901 , mean loss: 1.98 , recent outcomes:  [1, 1, 1, 1, 1, 1, 1, -1, 1, 1]\n"
     ]
    },
    {
     "name": "stderr",
     "output_type": "stream",
     "text": [
      "training loop:  28% |#########                          | ETA:  3 days, 17:35:45\r"
     ]
    },
    {
     "name": "stdout",
     "output_type": "stream",
     "text": [
      "game:  14001 , mean loss: 0.23 , recent outcomes:  [1, 1, 1, 1, 1, 1, 1, 1, 1, 1]\n"
     ]
    },
    {
     "name": "stderr",
     "output_type": "stream",
     "text": [
      "training loop:  28% |#########                          | ETA:  3 days, 17:08:32\r"
     ]
    },
    {
     "name": "stdout",
     "output_type": "stream",
     "text": [
      "game:  14101 , mean loss: 0.54 , recent outcomes:  [1, 1, 1, 1, 1, 1, 1, 1, 1, 1]\n"
     ]
    },
    {
     "name": "stderr",
     "output_type": "stream",
     "text": [
      "training loop:  28% |#########                          | ETA:  3 days, 16:39:22\r"
     ]
    },
    {
     "name": "stdout",
     "output_type": "stream",
     "text": [
      "game:  14201 , mean loss: 0.15 , recent outcomes:  [1, 1, 1, 1, 1, 1, 1, 1, 1, 1]\n"
     ]
    },
    {
     "name": "stderr",
     "output_type": "stream",
     "text": [
      "training loop:  28% |##########                         | ETA:  3 days, 16:10:37\r"
     ]
    },
    {
     "name": "stdout",
     "output_type": "stream",
     "text": [
      "game:  14301 , mean loss: 0.24 , recent outcomes:  [1, 1, 1, 1, 1, 1, 1, 1, 1, 1]\n"
     ]
    },
    {
     "name": "stderr",
     "output_type": "stream",
     "text": [
      "training loop:  28% |##########                         | ETA:  3 days, 15:42:38\r"
     ]
    },
    {
     "name": "stdout",
     "output_type": "stream",
     "text": [
      "game:  14401 , mean loss: 1.63 , recent outcomes:  [1, 1, 1, 1, 1, 1, 1, 1, -1, 1]\n"
     ]
    },
    {
     "name": "stderr",
     "output_type": "stream",
     "text": [
      "training loop:  29% |##########                         | ETA:  3 days, 15:16:14\r"
     ]
    },
    {
     "name": "stdout",
     "output_type": "stream",
     "text": [
      "game:  14501 , mean loss: 3.19 , recent outcomes:  [1, 1, 1, 1, 1, 1, 1, 1, 1, 1]\n"
     ]
    },
    {
     "name": "stderr",
     "output_type": "stream",
     "text": [
      "training loop:  29% |##########                         | ETA:  3 days, 14:46:59\r"
     ]
    },
    {
     "name": "stdout",
     "output_type": "stream",
     "text": [
      "game:  14601 , mean loss: 0.79 , recent outcomes:  [1, 1, 1, 1, 1, 1, 1, 1, 1, 1]\n"
     ]
    },
    {
     "name": "stderr",
     "output_type": "stream",
     "text": [
      "training loop:  29% |##########                         | ETA:  3 days, 14:18:20\r"
     ]
    },
    {
     "name": "stdout",
     "output_type": "stream",
     "text": [
      "game:  14701 , mean loss: 0.20 , recent outcomes:  [1, 1, 1, 1, 1, 1, 1, 1, 1, 1]\n"
     ]
    },
    {
     "name": "stderr",
     "output_type": "stream",
     "text": [
      "training loop:  29% |##########                         | ETA:  3 days, 13:50:15\r"
     ]
    },
    {
     "name": "stdout",
     "output_type": "stream",
     "text": [
      "game:  14801 , mean loss: 2.24 , recent outcomes:  [1, 1, 1, 1, 1, 1, 1, 1, 1, 1]\n"
     ]
    },
    {
     "name": "stderr",
     "output_type": "stream",
     "text": [
      "training loop:  29% |##########                         | ETA:  3 days, 13:24:13\r"
     ]
    },
    {
     "name": "stdout",
     "output_type": "stream",
     "text": [
      "game:  14901 , mean loss: 0.20 , recent outcomes:  [1, 1, 1, 1, 1, 1, 1, 1, 1, 1]\n"
     ]
    },
    {
     "name": "stderr",
     "output_type": "stream",
     "text": [
      "training loop:  30% |##########                         | ETA:  3 days, 12:59:09\r"
     ]
    },
    {
     "name": "stdout",
     "output_type": "stream",
     "text": [
      "game:  15001 , mean loss: 0.24 , recent outcomes:  [1, 1, 1, 1, 1, 1, 1, 1, 1, 1]\n"
     ]
    },
    {
     "name": "stderr",
     "output_type": "stream",
     "text": [
      "training loop:  30% |##########                         | ETA:  3 days, 12:33:02\r"
     ]
    },
    {
     "name": "stdout",
     "output_type": "stream",
     "text": [
      "game:  15101 , mean loss: 0.19 , recent outcomes:  [1, 1, 1, 1, 1, 1, 1, 1, 1, 1]\n"
     ]
    },
    {
     "name": "stderr",
     "output_type": "stream",
     "text": [
      "training loop:  30% |##########                         | ETA:  3 days, 12:05:30\r"
     ]
    },
    {
     "name": "stdout",
     "output_type": "stream",
     "text": [
      "game:  15201 , mean loss: 1.65 , recent outcomes:  [1, 1, 1, 1, 1, 1, 1, 1, 1, 1]\n"
     ]
    },
    {
     "name": "stderr",
     "output_type": "stream",
     "text": [
      "training loop:  30% |##########                         | ETA:  3 days, 11:34:27\r"
     ]
    },
    {
     "name": "stdout",
     "output_type": "stream",
     "text": [
      "game:  15301 , mean loss: 1.53 , recent outcomes:  [1, 1, 1, 1, 1, 1, 1, 1, 1, 1]\n"
     ]
    },
    {
     "name": "stderr",
     "output_type": "stream",
     "text": [
      "training loop:  30% |##########                         | ETA:  3 days, 11:06:53\r"
     ]
    },
    {
     "name": "stdout",
     "output_type": "stream",
     "text": [
      "game:  15401 , mean loss: 0.43 , recent outcomes:  [1, 1, 1, 1, 1, 1, 1, 1, 1, 1]\n"
     ]
    },
    {
     "name": "stderr",
     "output_type": "stream",
     "text": [
      "training loop:  31% |##########                         | ETA:  3 days, 10:40:14\r"
     ]
    },
    {
     "name": "stdout",
     "output_type": "stream",
     "text": [
      "game:  15501 , mean loss: 0.30 , recent outcomes:  [1, 1, 1, 1, 1, 1, 1, 1, 1, 1]\n"
     ]
    },
    {
     "name": "stderr",
     "output_type": "stream",
     "text": [
      "training loop:  31% |##########                         | ETA:  3 days, 10:14:30\r"
     ]
    },
    {
     "name": "stdout",
     "output_type": "stream",
     "text": [
      "game:  15601 , mean loss: 0.46 , recent outcomes:  [1, 1, 1, 1, 1, 1, 1, 1, 1, 1]\n"
     ]
    },
    {
     "name": "stderr",
     "output_type": "stream",
     "text": [
      "training loop:  31% |###########                         | ETA:  3 days, 9:49:32\r"
     ]
    },
    {
     "name": "stdout",
     "output_type": "stream",
     "text": [
      "game:  15701 , mean loss: 0.44 , recent outcomes:  [1, 1, 1, 1, 1, 1, 1, 1, 1, 1]\n"
     ]
    },
    {
     "name": "stderr",
     "output_type": "stream",
     "text": [
      "training loop:  31% |###########                         | ETA:  3 days, 9:24:21\r"
     ]
    },
    {
     "name": "stdout",
     "output_type": "stream",
     "text": [
      "game:  15801 , mean loss: 0.40 , recent outcomes:  [1, 1, 1, 1, 1, 1, 1, 1, 1, 1]\n"
     ]
    },
    {
     "name": "stderr",
     "output_type": "stream",
     "text": [
      "training loop:  31% |###########                         | ETA:  3 days, 9:01:12\r"
     ]
    },
    {
     "name": "stdout",
     "output_type": "stream",
     "text": [
      "game:  15901 , mean loss: 0.52 , recent outcomes:  [1, 1, 1, 1, 1, 1, 1, 1, 1, 1]\n"
     ]
    },
    {
     "name": "stderr",
     "output_type": "stream",
     "text": [
      "training loop:  32% |###########                         | ETA:  3 days, 8:33:53\r"
     ]
    },
    {
     "name": "stdout",
     "output_type": "stream",
     "text": [
      "game:  16001 , mean loss: 0.32 , recent outcomes:  [1, 1, 1, 1, 1, 1, 1, 1, 1, 1]\n"
     ]
    },
    {
     "name": "stderr",
     "output_type": "stream",
     "text": [
      "training loop:  32% |###########                         | ETA:  3 days, 8:05:40\r"
     ]
    },
    {
     "name": "stdout",
     "output_type": "stream",
     "text": [
      "game:  16101 , mean loss: 0.23 , recent outcomes:  [1, 1, 1, 1, 1, 1, 1, 1, 1, 1]\n"
     ]
    },
    {
     "name": "stderr",
     "output_type": "stream",
     "text": [
      "training loop:  32% |###########                         | ETA:  3 days, 7:39:09\r"
     ]
    },
    {
     "name": "stdout",
     "output_type": "stream",
     "text": [
      "game:  16201 , mean loss: 0.21 , recent outcomes:  [1, 1, 1, 1, 1, 1, 1, 1, 1, 1]\n"
     ]
    },
    {
     "name": "stderr",
     "output_type": "stream",
     "text": [
      "training loop:  32% |###########                         | ETA:  3 days, 7:12:54\r"
     ]
    },
    {
     "name": "stdout",
     "output_type": "stream",
     "text": [
      "game:  16301 , mean loss: 0.30 , recent outcomes:  [1, 1, 1, 1, 1, 1, 1, 1, 1, 1]\n"
     ]
    },
    {
     "name": "stderr",
     "output_type": "stream",
     "text": [
      "training loop:  32% |###########                         | ETA:  3 days, 6:45:42\r"
     ]
    },
    {
     "name": "stdout",
     "output_type": "stream",
     "text": [
      "game:  16401 , mean loss: 1.10 , recent outcomes:  [1, 1, 1, 1, 1, 1, 1, 1, 1, 1]\n"
     ]
    },
    {
     "name": "stderr",
     "output_type": "stream",
     "text": [
      "training loop:  33% |###########                         | ETA:  3 days, 6:17:17\r"
     ]
    },
    {
     "name": "stdout",
     "output_type": "stream",
     "text": [
      "game:  16501 , mean loss: 0.29 , recent outcomes:  [1, 1, 1, 1, 1, 1, 1, 1, 1, 1]\n"
     ]
    },
    {
     "name": "stderr",
     "output_type": "stream",
     "text": [
      "training loop:  33% |###########                         | ETA:  3 days, 5:52:10\r"
     ]
    },
    {
     "name": "stdout",
     "output_type": "stream",
     "text": [
      "game:  16601 , mean loss: 0.66 , recent outcomes:  [1, 1, 1, 1, 1, 1, 1, 1, 1, 1]\n"
     ]
    },
    {
     "name": "stderr",
     "output_type": "stream",
     "text": [
      "training loop:  33% |############                        | ETA:  3 days, 5:26:17\r"
     ]
    },
    {
     "name": "stdout",
     "output_type": "stream",
     "text": [
      "game:  16701 , mean loss: 0.36 , recent outcomes:  [1, 1, 1, 1, 1, 1, 1, 1, 1, 1]\n"
     ]
    },
    {
     "name": "stderr",
     "output_type": "stream",
     "text": [
      "training loop:  33% |############                        | ETA:  3 days, 5:01:45\r"
     ]
    },
    {
     "name": "stdout",
     "output_type": "stream",
     "text": [
      "game:  16801 , mean loss: 0.24 , recent outcomes:  [1, 1, 1, 1, 1, 1, 1, 1, 1, 1]\n"
     ]
    },
    {
     "name": "stderr",
     "output_type": "stream",
     "text": [
      "training loop:  33% |############                        | ETA:  3 days, 4:37:37\r"
     ]
    },
    {
     "name": "stdout",
     "output_type": "stream",
     "text": [
      "game:  16901 , mean loss: 0.23 , recent outcomes:  [1, 1, 1, 1, 1, 1, 1, 1, 1, 1]\n"
     ]
    },
    {
     "name": "stderr",
     "output_type": "stream",
     "text": [
      "training loop:  34% |############                        | ETA:  3 days, 4:14:51\r"
     ]
    },
    {
     "name": "stdout",
     "output_type": "stream",
     "text": [
      "game:  17001 , mean loss: 4.28 , recent outcomes:  [1, 1, 1, 1, 1, 1, 1, 1, 1, 1]\n"
     ]
    },
    {
     "name": "stderr",
     "output_type": "stream",
     "text": [
      "training loop:  34% |############                        | ETA:  3 days, 3:52:52\r"
     ]
    },
    {
     "name": "stdout",
     "output_type": "stream",
     "text": [
      "game:  17101 , mean loss: 0.50 , recent outcomes:  [1, 1, 1, 1, 1, 1, 1, 1, 1, 1]\n"
     ]
    },
    {
     "name": "stderr",
     "output_type": "stream",
     "text": [
      "training loop:  34% |############                        | ETA:  3 days, 3:30:22\r"
     ]
    },
    {
     "name": "stdout",
     "output_type": "stream",
     "text": [
      "game:  17201 , mean loss: 1.68 , recent outcomes:  [1, 1, 1, 1, 1, 1, 1, 1, 1, 1]\n"
     ]
    },
    {
     "name": "stderr",
     "output_type": "stream",
     "text": [
      "training loop:  34% |############                        | ETA:  3 days, 3:07:55\r"
     ]
    },
    {
     "name": "stdout",
     "output_type": "stream",
     "text": [
      "game:  17301 , mean loss: 3.26 , recent outcomes:  [1, 1, 1, 1, 1, 1, 1, 1, 1, 1]\n"
     ]
    },
    {
     "name": "stderr",
     "output_type": "stream",
     "text": [
      "training loop:  34% |############                        | ETA:  3 days, 2:44:11\r"
     ]
    },
    {
     "name": "stdout",
     "output_type": "stream",
     "text": [
      "game:  17401 , mean loss: 2.12 , recent outcomes:  [1, 1, 1, 1, 1, 1, 1, 1, 1, 1]\n"
     ]
    },
    {
     "name": "stderr",
     "output_type": "stream",
     "text": [
      "training loop:  35% |############                        | ETA:  3 days, 2:22:20\r"
     ]
    },
    {
     "name": "stdout",
     "output_type": "stream",
     "text": [
      "game:  17501 , mean loss: 0.31 , recent outcomes:  [1, 1, 1, 1, 1, 1, 1, 1, 1, 1]\n"
     ]
    },
    {
     "name": "stderr",
     "output_type": "stream",
     "text": [
      "training loop:  35% |############                        | ETA:  3 days, 2:02:46\r"
     ]
    },
    {
     "name": "stdout",
     "output_type": "stream",
     "text": [
      "game:  17601 , mean loss: 3.22 , recent outcomes:  [1, 1, 1, -1, 1, 1, 1, 1, 1, 1]\n"
     ]
    },
    {
     "name": "stderr",
     "output_type": "stream",
     "text": [
      "training loop:  35% |############                        | ETA:  3 days, 1:41:51\r"
     ]
    },
    {
     "name": "stdout",
     "output_type": "stream",
     "text": [
      "game:  17701 , mean loss: 0.45 , recent outcomes:  [1, 1, 1, 1, 1, 1, 1, 1, 1, 1]\n"
     ]
    },
    {
     "name": "stderr",
     "output_type": "stream",
     "text": [
      "training loop:  35% |############                        | ETA:  3 days, 1:19:31\r"
     ]
    },
    {
     "name": "stdout",
     "output_type": "stream",
     "text": [
      "game:  17801 , mean loss: 0.25 , recent outcomes:  [1, 1, 1, 1, 1, 1, 1, 1, 1, 1]\n"
     ]
    },
    {
     "name": "stderr",
     "output_type": "stream",
     "text": [
      "training loop:  35% |############                        | ETA:  3 days, 0:58:52\r"
     ]
    },
    {
     "name": "stdout",
     "output_type": "stream",
     "text": [
      "game:  17901 , mean loss: 0.25 , recent outcomes:  [1, 1, 1, 1, 1, 1, 1, 1, 1, 1]\n"
     ]
    },
    {
     "name": "stderr",
     "output_type": "stream",
     "text": [
      "training loop:  36% |############                        | ETA:  3 days, 0:37:17\r"
     ]
    },
    {
     "name": "stdout",
     "output_type": "stream",
     "text": [
      "game:  18001 , mean loss: 0.20 , recent outcomes:  [1, 1, 1, 1, 1, 1, 1, 1, 1, 1]\n"
     ]
    },
    {
     "name": "stderr",
     "output_type": "stream",
     "text": [
      "training loop:  36% |#############                       | ETA:  3 days, 0:15:18\r"
     ]
    },
    {
     "name": "stdout",
     "output_type": "stream",
     "text": [
      "game:  18101 , mean loss: 0.26 , recent outcomes:  [1, 1, 1, 1, 1, 1, 1, 1, 1, 1]\n"
     ]
    },
    {
     "name": "stderr",
     "output_type": "stream",
     "text": [
      "training loop:  36% |############                       | ETA:  2 days, 23:52:53\r"
     ]
    },
    {
     "name": "stdout",
     "output_type": "stream",
     "text": [
      "game:  18201 , mean loss: 0.16 , recent outcomes:  [1, 1, 1, 1, 1, 1, 1, 1, 1, 1]\n"
     ]
    },
    {
     "name": "stderr",
     "output_type": "stream",
     "text": [
      "training loop:  36% |############                       | ETA:  2 days, 23:31:26\r"
     ]
    },
    {
     "name": "stdout",
     "output_type": "stream",
     "text": [
      "game:  18301 , mean loss: 0.21 , recent outcomes:  [1, 1, 1, 1, 1, 1, 1, 1, 1, 1]\n"
     ]
    },
    {
     "name": "stderr",
     "output_type": "stream",
     "text": [
      "training loop:  36% |############                       | ETA:  2 days, 23:11:45\r"
     ]
    },
    {
     "name": "stdout",
     "output_type": "stream",
     "text": [
      "game:  18401 , mean loss: 6.35 , recent outcomes:  [0, 1, 1, 1, 1, 1, 1, 1, 1, 1]\n"
     ]
    },
    {
     "name": "stderr",
     "output_type": "stream",
     "text": [
      "training loop:  37% |############                       | ETA:  2 days, 22:51:03\r"
     ]
    },
    {
     "name": "stdout",
     "output_type": "stream",
     "text": [
      "game:  18501 , mean loss: 0.26 , recent outcomes:  [1, 1, 1, 1, 1, 1, 1, 1, 1, 1]\n"
     ]
    },
    {
     "name": "stderr",
     "output_type": "stream",
     "text": [
      "training loop:  37% |#############                      | ETA:  2 days, 22:28:51\r"
     ]
    },
    {
     "name": "stdout",
     "output_type": "stream",
     "text": [
      "game:  18601 , mean loss: 0.31 , recent outcomes:  [1, 1, 1, 1, 1, 1, 1, 1, 1, 1]\n"
     ]
    },
    {
     "name": "stderr",
     "output_type": "stream",
     "text": [
      "training loop:  37% |#############                      | ETA:  2 days, 22:08:08\r"
     ]
    },
    {
     "name": "stdout",
     "output_type": "stream",
     "text": [
      "game:  18701 , mean loss: 0.77 , recent outcomes:  [1, 1, 1, 1, 1, 1, 1, 1, 1, 1]\n"
     ]
    },
    {
     "name": "stderr",
     "output_type": "stream",
     "text": [
      "training loop:  37% |#############                      | ETA:  2 days, 21:46:00\r"
     ]
    },
    {
     "name": "stdout",
     "output_type": "stream",
     "text": [
      "game:  18801 , mean loss: 0.33 , recent outcomes:  [1, 1, 1, 1, 1, 1, 1, 1, 1, 1]\n"
     ]
    },
    {
     "name": "stderr",
     "output_type": "stream",
     "text": [
      "training loop:  37% |#############                      | ETA:  2 days, 21:25:26\r"
     ]
    },
    {
     "name": "stdout",
     "output_type": "stream",
     "text": [
      "game:  18901 , mean loss: 0.29 , recent outcomes:  [1, 1, 1, 1, 1, 1, 1, 1, 1, 1]\n"
     ]
    },
    {
     "name": "stderr",
     "output_type": "stream",
     "text": [
      "training loop:  38% |#############                      | ETA:  2 days, 21:05:16\r"
     ]
    },
    {
     "name": "stdout",
     "output_type": "stream",
     "text": [
      "game:  19001 , mean loss: 0.22 , recent outcomes:  [1, 1, 1, 1, 1, 1, 1, 1, 1, 1]\n"
     ]
    },
    {
     "name": "stderr",
     "output_type": "stream",
     "text": [
      "training loop:  38% |#############                      | ETA:  2 days, 20:46:02\r"
     ]
    },
    {
     "name": "stdout",
     "output_type": "stream",
     "text": [
      "game:  19101 , mean loss: 2.71 , recent outcomes:  [1, 1, 1, 1, 1, 1, 1, 1, 1, 1]\n"
     ]
    },
    {
     "name": "stderr",
     "output_type": "stream",
     "text": [
      "training loop:  38% |#############                      | ETA:  2 days, 20:27:14\r"
     ]
    },
    {
     "name": "stdout",
     "output_type": "stream",
     "text": [
      "game:  19201 , mean loss: 0.30 , recent outcomes:  [1, 1, 1, 1, 1, 1, 1, 1, 1, 1]\n"
     ]
    },
    {
     "name": "stderr",
     "output_type": "stream",
     "text": [
      "training loop:  38% |#############                      | ETA:  2 days, 20:07:35\r"
     ]
    },
    {
     "name": "stdout",
     "output_type": "stream",
     "text": [
      "game:  19301 , mean loss: 0.39 , recent outcomes:  [1, 1, 1, 1, 1, 1, 1, 1, 1, 1]\n"
     ]
    },
    {
     "name": "stderr",
     "output_type": "stream",
     "text": [
      "training loop:  38% |#############                      | ETA:  2 days, 19:47:33\r"
     ]
    },
    {
     "name": "stdout",
     "output_type": "stream",
     "text": [
      "game:  19401 , mean loss: 0.25 , recent outcomes:  [1, 1, 1, 1, 1, 1, 1, 1, 1, 1]\n"
     ]
    },
    {
     "name": "stderr",
     "output_type": "stream",
     "text": [
      "training loop:  39% |#############                      | ETA:  2 days, 19:26:48\r"
     ]
    },
    {
     "name": "stdout",
     "output_type": "stream",
     "text": [
      "game:  19501 , mean loss: 0.21 , recent outcomes:  [1, 1, 1, 1, 1, 1, 1, 1, 1, 1]\n"
     ]
    },
    {
     "name": "stderr",
     "output_type": "stream",
     "text": [
      "training loop:  39% |#############                      | ETA:  2 days, 19:05:19\r"
     ]
    },
    {
     "name": "stdout",
     "output_type": "stream",
     "text": [
      "game:  19601 , mean loss: 0.20 , recent outcomes:  [1, 1, 1, 1, 1, 1, 1, 1, 1, 1]\n"
     ]
    },
    {
     "name": "stderr",
     "output_type": "stream",
     "text": [
      "training loop:  39% |#############                      | ETA:  2 days, 18:44:48\r"
     ]
    },
    {
     "name": "stdout",
     "output_type": "stream",
     "text": [
      "game:  19701 , mean loss: 0.73 , recent outcomes:  [1, 1, 1, 1, 1, 1, 1, 1, 1, 1]\n"
     ]
    },
    {
     "name": "stderr",
     "output_type": "stream",
     "text": [
      "training loop:  39% |#############                      | ETA:  2 days, 18:23:52\r"
     ]
    },
    {
     "name": "stdout",
     "output_type": "stream",
     "text": [
      "game:  19801 , mean loss: 0.43 , recent outcomes:  [1, 1, 1, 1, 1, 1, 1, 1, 1, 1]\n"
     ]
    },
    {
     "name": "stderr",
     "output_type": "stream",
     "text": [
      "training loop:  39% |#############                      | ETA:  2 days, 18:02:45\r"
     ]
    },
    {
     "name": "stdout",
     "output_type": "stream",
     "text": [
      "game:  19901 , mean loss: 5.80 , recent outcomes:  [1, -1, 1, 1, 1, 1, 1, 1, 1, 1]\n"
     ]
    },
    {
     "name": "stderr",
     "output_type": "stream",
     "text": [
      "training loop:  40% |##############                     | ETA:  2 days, 17:42:20\r"
     ]
    },
    {
     "name": "stdout",
     "output_type": "stream",
     "text": [
      "game:  20001 , mean loss: 0.28 , recent outcomes:  [1, 1, 1, 1, 1, 1, 1, 1, 1, 1]\n"
     ]
    },
    {
     "name": "stderr",
     "output_type": "stream",
     "text": [
      "training loop:  40% |##############                     | ETA:  2 days, 17:22:53\r"
     ]
    },
    {
     "name": "stdout",
     "output_type": "stream",
     "text": [
      "game:  20101 , mean loss: 0.23 , recent outcomes:  [1, 1, 1, 1, 1, 1, 1, 1, 1, 1]\n"
     ]
    },
    {
     "name": "stderr",
     "output_type": "stream",
     "text": [
      "training loop:  40% |##############                     | ETA:  2 days, 17:03:31\r"
     ]
    },
    {
     "name": "stdout",
     "output_type": "stream",
     "text": [
      "game:  20201 , mean loss: 1.54 , recent outcomes:  [1, 1, 1, 1, 1, 1, 1, 1, 1, 1]\n"
     ]
    },
    {
     "name": "stderr",
     "output_type": "stream",
     "text": [
      "training loop:  40% |##############                     | ETA:  2 days, 16:44:56\r"
     ]
    },
    {
     "name": "stdout",
     "output_type": "stream",
     "text": [
      "game:  20301 , mean loss: 2.96 , recent outcomes:  [1, 1, 1, 1, 1, 1, 1, 1, 1, 1]\n"
     ]
    },
    {
     "name": "stderr",
     "output_type": "stream",
     "text": [
      "training loop:  40% |##############                     | ETA:  2 days, 16:27:12\r"
     ]
    },
    {
     "name": "stdout",
     "output_type": "stream",
     "text": [
      "game:  20401 , mean loss: 0.67 , recent outcomes:  [1, 1, 1, 1, 1, 1, 1, 1, 1, 1]\n"
     ]
    },
    {
     "name": "stderr",
     "output_type": "stream",
     "text": [
      "training loop:  41% |##############                     | ETA:  2 days, 16:10:14\r"
     ]
    },
    {
     "name": "stdout",
     "output_type": "stream",
     "text": [
      "game:  20501 , mean loss: 0.43 , recent outcomes:  [1, 1, 1, 1, 1, 1, 1, 1, 1, 1]\n"
     ]
    },
    {
     "name": "stderr",
     "output_type": "stream",
     "text": [
      "training loop:  41% |##############                     | ETA:  2 days, 15:51:55\r"
     ]
    },
    {
     "name": "stdout",
     "output_type": "stream",
     "text": [
      "game:  20601 , mean loss: 0.34 , recent outcomes:  [1, 1, 1, 1, 1, 1, 1, 1, 1, 1]\n"
     ]
    },
    {
     "name": "stderr",
     "output_type": "stream",
     "text": [
      "training loop:  41% |##############                     | ETA:  2 days, 15:32:44\r"
     ]
    },
    {
     "name": "stdout",
     "output_type": "stream",
     "text": [
      "game:  20701 , mean loss: 0.37 , recent outcomes:  [1, 1, 1, 1, 1, 1, 1, 1, 1, 1]\n"
     ]
    },
    {
     "name": "stderr",
     "output_type": "stream",
     "text": [
      "training loop:  41% |##############                     | ETA:  2 days, 15:15:11\r"
     ]
    },
    {
     "name": "stdout",
     "output_type": "stream",
     "text": [
      "game:  20801 , mean loss: 5.56 , recent outcomes:  [1, 1, 1, 1, 0, 1, 1, 1, 1, 1]\n"
     ]
    },
    {
     "name": "stderr",
     "output_type": "stream",
     "text": [
      "training loop:  41% |##############                     | ETA:  2 days, 14:55:18\r"
     ]
    },
    {
     "name": "stdout",
     "output_type": "stream",
     "text": [
      "game:  20901 , mean loss: 0.35 , recent outcomes:  [1, 1, 1, 1, 1, 1, 1, 1, 1, 1]\n"
     ]
    },
    {
     "name": "stderr",
     "output_type": "stream",
     "text": [
      "training loop:  42% |##############                     | ETA:  2 days, 14:36:20\r"
     ]
    },
    {
     "name": "stdout",
     "output_type": "stream",
     "text": [
      "game:  21001 , mean loss: 3.12 , recent outcomes:  [1, 1, 1, 1, 1, 1, 1, 1, 1, 1]\n"
     ]
    },
    {
     "name": "stderr",
     "output_type": "stream",
     "text": [
      "training loop:  42% |##############                     | ETA:  2 days, 14:18:32\r"
     ]
    },
    {
     "name": "stdout",
     "output_type": "stream",
     "text": [
      "game:  21101 , mean loss: 0.55 , recent outcomes:  [1, 1, 1, 1, 1, 1, 1, 1, 1, 1]\n"
     ]
    },
    {
     "name": "stderr",
     "output_type": "stream",
     "text": [
      "training loop:  42% |##############                     | ETA:  2 days, 14:01:38\r"
     ]
    },
    {
     "name": "stdout",
     "output_type": "stream",
     "text": [
      "game:  21201 , mean loss: 2.02 , recent outcomes:  [1, 1, 1, 1, 1, 1, 1, 1, 1, 1]\n"
     ]
    },
    {
     "name": "stderr",
     "output_type": "stream",
     "text": [
      "training loop:  42% |##############                     | ETA:  2 days, 13:44:01\r"
     ]
    },
    {
     "name": "stdout",
     "output_type": "stream",
     "text": [
      "game:  21301 , mean loss: 0.94 , recent outcomes:  [1, 1, 1, 1, 1, 1, 1, 1, 1, 1]\n"
     ]
    },
    {
     "name": "stderr",
     "output_type": "stream",
     "text": [
      "training loop:  42% |##############                     | ETA:  2 days, 13:29:59\r"
     ]
    },
    {
     "name": "stdout",
     "output_type": "stream",
     "text": [
      "game:  21401 , mean loss: 3.90 , recent outcomes:  [1, -1, 1, 1, 1, 1, 1, 1, 1, 1]\n"
     ]
    },
    {
     "name": "stderr",
     "output_type": "stream",
     "text": [
      "training loop:  43% |###############                    | ETA:  2 days, 13:13:09\r"
     ]
    },
    {
     "name": "stdout",
     "output_type": "stream",
     "text": [
      "game:  21501 , mean loss: 0.51 , recent outcomes:  [1, 1, 1, 1, 1, 1, 1, 1, 1, 1]\n"
     ]
    },
    {
     "name": "stderr",
     "output_type": "stream",
     "text": [
      "training loop:  43% |###############                    | ETA:  2 days, 12:56:34\r"
     ]
    },
    {
     "name": "stdout",
     "output_type": "stream",
     "text": [
      "game:  21601 , mean loss: 2.87 , recent outcomes:  [1, 1, 1, 1, 1, 1, 1, 1, 1, 1]\n"
     ]
    },
    {
     "name": "stderr",
     "output_type": "stream",
     "text": [
      "training loop:  43% |###############                    | ETA:  2 days, 12:38:25\r"
     ]
    },
    {
     "name": "stdout",
     "output_type": "stream",
     "text": [
      "game:  21701 , mean loss: 0.46 , recent outcomes:  [1, 1, 1, 1, 1, 1, 1, 1, 1, 1]\n"
     ]
    },
    {
     "name": "stderr",
     "output_type": "stream",
     "text": [
      "training loop:  43% |###############                    | ETA:  2 days, 12:20:34\r"
     ]
    },
    {
     "name": "stdout",
     "output_type": "stream",
     "text": [
      "game:  21801 , mean loss: 0.49 , recent outcomes:  [1, 1, 1, 1, 1, 1, 1, 1, 1, 1]\n"
     ]
    },
    {
     "name": "stderr",
     "output_type": "stream",
     "text": [
      "training loop:  43% |###############                    | ETA:  2 days, 12:02:33\r"
     ]
    },
    {
     "name": "stdout",
     "output_type": "stream",
     "text": [
      "game:  21901 , mean loss: 0.21 , recent outcomes:  [1, 1, 1, 1, 1, 1, 1, 1, 1, 1]\n"
     ]
    },
    {
     "name": "stderr",
     "output_type": "stream",
     "text": [
      "training loop:  44% |###############                    | ETA:  2 days, 11:44:27\r"
     ]
    },
    {
     "name": "stdout",
     "output_type": "stream",
     "text": [
      "game:  22001 , mean loss: 0.23 , recent outcomes:  [1, 1, 1, 1, 1, 1, 1, 1, 1, 1]\n"
     ]
    },
    {
     "name": "stderr",
     "output_type": "stream",
     "text": [
      "training loop:  44% |###############                    | ETA:  2 days, 11:26:43\r"
     ]
    },
    {
     "name": "stdout",
     "output_type": "stream",
     "text": [
      "game:  22101 , mean loss: 0.21 , recent outcomes:  [1, 1, 1, 1, 1, 1, 1, 1, 1, 1]\n"
     ]
    },
    {
     "name": "stderr",
     "output_type": "stream",
     "text": [
      "training loop:  44% |###############                    | ETA:  2 days, 11:08:40\r"
     ]
    },
    {
     "name": "stdout",
     "output_type": "stream",
     "text": [
      "game:  22201 , mean loss: 0.57 , recent outcomes:  [1, 1, 1, 1, 1, 1, 1, 1, 1, 1]\n"
     ]
    },
    {
     "name": "stderr",
     "output_type": "stream",
     "text": [
      "training loop:  44% |###############                    | ETA:  2 days, 10:51:07\r"
     ]
    },
    {
     "name": "stdout",
     "output_type": "stream",
     "text": [
      "game:  22301 , mean loss: 0.42 , recent outcomes:  [1, 1, 1, 1, 1, 1, 1, 1, 1, 1]\n"
     ]
    },
    {
     "name": "stderr",
     "output_type": "stream",
     "text": [
      "training loop:  44% |###############                    | ETA:  2 days, 10:34:41\r"
     ]
    },
    {
     "name": "stdout",
     "output_type": "stream",
     "text": [
      "game:  22401 , mean loss: 4.16 , recent outcomes:  [1, 1, 1, 1, 1, 1, 1, 1, 1, 1]\n"
     ]
    },
    {
     "name": "stderr",
     "output_type": "stream",
     "text": [
      "training loop:  45% |###############                    | ETA:  2 days, 10:17:23\r"
     ]
    },
    {
     "name": "stdout",
     "output_type": "stream",
     "text": [
      "game:  22501 , mean loss: 5.83 , recent outcomes:  [-1, 1, 1, 1, 1, 1, 1, 1, 1, 1]\n"
     ]
    },
    {
     "name": "stderr",
     "output_type": "stream",
     "text": [
      "training loop:  45% |###############                    | ETA:  2 days, 10:01:35\r"
     ]
    },
    {
     "name": "stdout",
     "output_type": "stream",
     "text": [
      "game:  22601 , mean loss: 4.31 , recent outcomes:  [1, 1, 1, 1, 1, 1, 1, 1, 1, 1]\n"
     ]
    },
    {
     "name": "stderr",
     "output_type": "stream",
     "text": [
      "training loop:  45% |################                    | ETA:  2 days, 9:44:06\r"
     ]
    },
    {
     "name": "stdout",
     "output_type": "stream",
     "text": [
      "game:  22701 , mean loss: 0.92 , recent outcomes:  [1, 1, 1, 1, 1, 1, 1, 1, 1, 1]\n"
     ]
    },
    {
     "name": "stderr",
     "output_type": "stream",
     "text": [
      "training loop:  45% |################                    | ETA:  2 days, 9:27:39\r"
     ]
    },
    {
     "name": "stdout",
     "output_type": "stream",
     "text": [
      "game:  22801 , mean loss: 3.01 , recent outcomes:  [1, 1, 1, 1, 1, 1, 1, 1, 1, -1]\n"
     ]
    },
    {
     "name": "stderr",
     "output_type": "stream",
     "text": [
      "training loop:  45% |################                    | ETA:  2 days, 9:10:48\r"
     ]
    },
    {
     "name": "stdout",
     "output_type": "stream",
     "text": [
      "game:  22901 , mean loss: 0.82 , recent outcomes:  [1, 1, 1, 1, 1, 1, 1, 1, 1, 1]\n"
     ]
    },
    {
     "name": "stderr",
     "output_type": "stream",
     "text": [
      "training loop:  46% |################                    | ETA:  2 days, 8:55:17\r"
     ]
    },
    {
     "name": "stdout",
     "output_type": "stream",
     "text": [
      "game:  23001 , mean loss: 1.05 , recent outcomes:  [1, 1, 1, 1, 1, 1, 1, 1, 1, 1]\n"
     ]
    },
    {
     "name": "stderr",
     "output_type": "stream",
     "text": [
      "training loop:  46% |################                    | ETA:  2 days, 8:38:19\r"
     ]
    },
    {
     "name": "stdout",
     "output_type": "stream",
     "text": [
      "game:  23101 , mean loss: 0.58 , recent outcomes:  [1, 1, 1, 1, 1, 1, 1, 1, 1, 1]\n"
     ]
    },
    {
     "name": "stderr",
     "output_type": "stream",
     "text": [
      "training loop:  46% |################                    | ETA:  2 days, 8:22:24\r"
     ]
    },
    {
     "name": "stdout",
     "output_type": "stream",
     "text": [
      "game:  23201 , mean loss: 7.28 , recent outcomes:  [1, -1, -1, 1, 1, 1, 1, 1, 1, 1]\n"
     ]
    },
    {
     "name": "stderr",
     "output_type": "stream",
     "text": [
      "training loop:  46% |################                    | ETA:  2 days, 8:06:39\r"
     ]
    },
    {
     "name": "stdout",
     "output_type": "stream",
     "text": [
      "game:  23301 , mean loss: 0.55 , recent outcomes:  [1, 1, 1, 1, 1, 1, 1, 1, 1, 1]\n"
     ]
    },
    {
     "name": "stderr",
     "output_type": "stream",
     "text": [
      "training loop:  46% |################                    | ETA:  2 days, 7:49:20\r"
     ]
    },
    {
     "name": "stdout",
     "output_type": "stream",
     "text": [
      "game:  23401 , mean loss: 0.30 , recent outcomes:  [1, 1, 1, 1, 1, 1, 1, 1, 1, 1]\n"
     ]
    },
    {
     "name": "stderr",
     "output_type": "stream",
     "text": [
      "training loop:  47% |################                    | ETA:  2 days, 7:32:36\r"
     ]
    },
    {
     "name": "stdout",
     "output_type": "stream",
     "text": [
      "game:  23501 , mean loss: 0.21 , recent outcomes:  [1, 1, 1, 1, 1, 1, 1, 1, 1, 1]\n"
     ]
    },
    {
     "name": "stderr",
     "output_type": "stream",
     "text": [
      "training loop:  47% |################                    | ETA:  2 days, 7:17:52\r"
     ]
    },
    {
     "name": "stdout",
     "output_type": "stream",
     "text": [
      "game:  23601 , mean loss: 0.32 , recent outcomes:  [1, 1, 1, 1, 1, 1, 1, 1, 1, 1]\n"
     ]
    },
    {
     "name": "stderr",
     "output_type": "stream",
     "text": [
      "training loop:  47% |#################                   | ETA:  2 days, 7:02:56\r"
     ]
    },
    {
     "name": "stdout",
     "output_type": "stream",
     "text": [
      "game:  23701 , mean loss: 0.30 , recent outcomes:  [1, 1, 1, 1, 1, 1, 1, 1, 1, 1]\n"
     ]
    },
    {
     "name": "stderr",
     "output_type": "stream",
     "text": [
      "training loop:  47% |#################                   | ETA:  2 days, 6:47:52\r"
     ]
    },
    {
     "name": "stdout",
     "output_type": "stream",
     "text": [
      "game:  23801 , mean loss: 0.44 , recent outcomes:  [1, 1, 1, 1, 1, 1, 1, 1, 1, 1]\n"
     ]
    },
    {
     "name": "stderr",
     "output_type": "stream",
     "text": [
      "training loop:  47% |#################                   | ETA:  2 days, 6:32:39\r"
     ]
    },
    {
     "name": "stdout",
     "output_type": "stream",
     "text": [
      "game:  23901 , mean loss: 0.25 , recent outcomes:  [1, 1, 1, 1, 1, 1, 1, 1, 1, 1]\n"
     ]
    },
    {
     "name": "stderr",
     "output_type": "stream",
     "text": [
      "training loop:  48% |#################                   | ETA:  2 days, 6:17:47\r"
     ]
    },
    {
     "name": "stdout",
     "output_type": "stream",
     "text": [
      "game:  24001 , mean loss: 1.92 , recent outcomes:  [1, 1, 1, 1, 1, 1, 1, 1, 1, 1]\n"
     ]
    },
    {
     "name": "stderr",
     "output_type": "stream",
     "text": [
      "training loop:  48% |#################                   | ETA:  2 days, 6:02:25\r"
     ]
    },
    {
     "name": "stdout",
     "output_type": "stream",
     "text": [
      "game:  24101 , mean loss: 2.19 , recent outcomes:  [1, 1, 1, 1, 1, 1, 1, 1, 1, 1]\n"
     ]
    },
    {
     "name": "stderr",
     "output_type": "stream",
     "text": [
      "training loop:  48% |#################                   | ETA:  2 days, 5:45:02\r"
     ]
    },
    {
     "name": "stdout",
     "output_type": "stream",
     "text": [
      "game:  24201 , mean loss: 2.10 , recent outcomes:  [1, 1, 1, 1, 1, 1, 1, -1, 1, 1]\n"
     ]
    },
    {
     "name": "stderr",
     "output_type": "stream",
     "text": [
      "training loop:  48% |#################                   | ETA:  2 days, 5:27:06\r"
     ]
    },
    {
     "name": "stdout",
     "output_type": "stream",
     "text": [
      "game:  24301 , mean loss: 0.77 , recent outcomes:  [1, 1, 1, 1, 1, 1, 1, 1, 1, 1]\n"
     ]
    },
    {
     "name": "stderr",
     "output_type": "stream",
     "text": [
      "training loop:  48% |#################                   | ETA:  2 days, 5:10:07\r"
     ]
    },
    {
     "name": "stdout",
     "output_type": "stream",
     "text": [
      "game:  24401 , mean loss: 1.53 , recent outcomes:  [1, 1, 1, 1, 1, 1, 1, 1, 1, 1]\n"
     ]
    },
    {
     "name": "stderr",
     "output_type": "stream",
     "text": [
      "training loop:  49% |#################                   | ETA:  2 days, 4:52:50\r"
     ]
    },
    {
     "name": "stdout",
     "output_type": "stream",
     "text": [
      "game:  24501 , mean loss: 3.78 , recent outcomes:  [1, 1, 1, 1, 1, 1, 1, 1, 1, 1]\n"
     ]
    },
    {
     "name": "stderr",
     "output_type": "stream",
     "text": [
      "training loop:  49% |#################                   | ETA:  2 days, 4:36:26\r"
     ]
    },
    {
     "name": "stdout",
     "output_type": "stream",
     "text": [
      "game:  24601 , mean loss: 0.57 , recent outcomes:  [1, 1, 1, 1, 1, 1, 1, 1, 1, 1]\n"
     ]
    },
    {
     "name": "stderr",
     "output_type": "stream",
     "text": [
      "training loop:  49% |#################                   | ETA:  2 days, 4:19:01\r"
     ]
    },
    {
     "name": "stdout",
     "output_type": "stream",
     "text": [
      "game:  24701 , mean loss: 0.80 , recent outcomes:  [1, 1, 1, 1, 1, 1, 1, 1, 1, 1]\n"
     ]
    },
    {
     "name": "stderr",
     "output_type": "stream",
     "text": [
      "training loop:  49% |#################                   | ETA:  2 days, 4:02:08\r"
     ]
    },
    {
     "name": "stdout",
     "output_type": "stream",
     "text": [
      "game:  24801 , mean loss: 2.91 , recent outcomes:  [1, 1, 1, 1, 1, 1, 1, -1, 1, 1]\n"
     ]
    },
    {
     "name": "stderr",
     "output_type": "stream",
     "text": [
      "training loop:  49% |#################                   | ETA:  2 days, 3:45:58\r"
     ]
    },
    {
     "name": "stdout",
     "output_type": "stream",
     "text": [
      "game:  24901 , mean loss: 0.33 , recent outcomes:  [1, 1, 1, 1, 1, 1, 1, 1, 1, 1]\n"
     ]
    },
    {
     "name": "stderr",
     "output_type": "stream",
     "text": [
      "training loop:  50% |##################                  | ETA:  2 days, 3:30:34\r"
     ]
    },
    {
     "name": "stdout",
     "output_type": "stream",
     "text": [
      "game:  25001 , mean loss: 5.85 , recent outcomes:  [1, 1, 1, 1, 1, 1, 1, 1, 1, 1]\n"
     ]
    },
    {
     "name": "stderr",
     "output_type": "stream",
     "text": [
      "training loop:  50% |##################                  | ETA:  2 days, 3:15:19\r"
     ]
    },
    {
     "name": "stdout",
     "output_type": "stream",
     "text": [
      "game:  25101 , mean loss: 1.04 , recent outcomes:  [1, 1, 1, 1, 1, 1, 1, 1, 1, 1]\n"
     ]
    },
    {
     "name": "stderr",
     "output_type": "stream",
     "text": [
      "training loop:  50% |##################                  | ETA:  2 days, 2:59:56\r"
     ]
    },
    {
     "name": "stdout",
     "output_type": "stream",
     "text": [
      "game:  25201 , mean loss: 0.51 , recent outcomes:  [1, 1, 1, 1, 1, 1, 1, 1, 1, 1]\n"
     ]
    },
    {
     "name": "stderr",
     "output_type": "stream",
     "text": [
      "training loop:  50% |##################                  | ETA:  2 days, 2:44:27\r"
     ]
    },
    {
     "name": "stdout",
     "output_type": "stream",
     "text": [
      "game:  25301 , mean loss: 0.40 , recent outcomes:  [1, 1, 1, 1, 1, 1, 1, 1, 1, 1]\n"
     ]
    },
    {
     "name": "stderr",
     "output_type": "stream",
     "text": [
      "training loop:  50% |##################                  | ETA:  2 days, 2:28:18\r"
     ]
    },
    {
     "name": "stdout",
     "output_type": "stream",
     "text": [
      "game:  25401 , mean loss: 0.83 , recent outcomes:  [1, 1, 1, 1, 1, 1, 1, 1, 1, 1]\n"
     ]
    },
    {
     "name": "stderr",
     "output_type": "stream",
     "text": [
      "training loop:  51% |##################                  | ETA:  2 days, 2:12:32\r"
     ]
    },
    {
     "name": "stdout",
     "output_type": "stream",
     "text": [
      "game:  25501 , mean loss: 1.41 , recent outcomes:  [1, 1, 1, 1, 1, 1, 1, 1, 1, 1]\n"
     ]
    },
    {
     "name": "stderr",
     "output_type": "stream",
     "text": [
      "training loop:  51% |##################                  | ETA:  2 days, 1:57:15\r"
     ]
    },
    {
     "name": "stdout",
     "output_type": "stream",
     "text": [
      "game:  25601 , mean loss: 0.39 , recent outcomes:  [1, 1, 1, 1, 1, 1, 1, 1, 1, 1]\n"
     ]
    },
    {
     "name": "stderr",
     "output_type": "stream",
     "text": [
      "training loop:  51% |##################                  | ETA:  2 days, 1:40:41\r"
     ]
    },
    {
     "name": "stdout",
     "output_type": "stream",
     "text": [
      "game:  25701 , mean loss: 0.38 , recent outcomes:  [1, 1, 1, 1, 1, 1, 1, 1, 1, 1]\n"
     ]
    },
    {
     "name": "stderr",
     "output_type": "stream",
     "text": [
      "training loop:  51% |##################                  | ETA:  2 days, 1:24:32\r"
     ]
    },
    {
     "name": "stdout",
     "output_type": "stream",
     "text": [
      "game:  25801 , mean loss: 0.34 , recent outcomes:  [1, 1, 1, 1, 1, 1, 1, 1, 1, 1]\n"
     ]
    },
    {
     "name": "stderr",
     "output_type": "stream",
     "text": [
      "training loop:  51% |##################                  | ETA:  2 days, 1:08:12\r"
     ]
    },
    {
     "name": "stdout",
     "output_type": "stream",
     "text": [
      "game:  25901 , mean loss: 0.47 , recent outcomes:  [1, 1, 1, 1, 1, 1, 1, 1, 1, 1]\n"
     ]
    },
    {
     "name": "stderr",
     "output_type": "stream",
     "text": [
      "training loop:  52% |##################                  | ETA:  2 days, 0:51:56\r"
     ]
    },
    {
     "name": "stdout",
     "output_type": "stream",
     "text": [
      "game:  26001 , mean loss: 0.31 , recent outcomes:  [1, 1, 1, 1, 1, 1, 1, 1, 1, 1]\n"
     ]
    },
    {
     "name": "stderr",
     "output_type": "stream",
     "text": [
      "training loop:  52% |##################                  | ETA:  2 days, 0:35:49\r"
     ]
    },
    {
     "name": "stdout",
     "output_type": "stream",
     "text": [
      "game:  26101 , mean loss: 0.36 , recent outcomes:  [1, 1, 1, 1, 1, 1, 1, 1, 1, 1]\n"
     ]
    },
    {
     "name": "stderr",
     "output_type": "stream",
     "text": [
      "training loop:  52% |##################                  | ETA:  2 days, 0:20:37\r"
     ]
    },
    {
     "name": "stdout",
     "output_type": "stream",
     "text": [
      "game:  26201 , mean loss: 4.98 , recent outcomes:  [1, -1, 1, 1, 1, 1, 1, 1, 1, 1]\n"
     ]
    },
    {
     "name": "stderr",
     "output_type": "stream",
     "text": [
      "training loop:  52% |##################                  | ETA:  2 days, 0:04:36\r"
     ]
    },
    {
     "name": "stdout",
     "output_type": "stream",
     "text": [
      "game:  26301 , mean loss: 0.38 , recent outcomes:  [1, 1, 1, 1, 1, 1, 1, 1, 1, 1]\n"
     ]
    },
    {
     "name": "stderr",
     "output_type": "stream",
     "text": [
      "training loop:  52% |###################                 | ETA:  1 day, 23:49:29\r"
     ]
    },
    {
     "name": "stdout",
     "output_type": "stream",
     "text": [
      "game:  26401 , mean loss: 5.34 , recent outcomes:  [1, 1, 1, -1, 1, 1, 1, 1, 0, 1]\n"
     ]
    },
    {
     "name": "stderr",
     "output_type": "stream",
     "text": [
      "training loop:  53% |###################                 | ETA:  1 day, 23:33:39\r"
     ]
    },
    {
     "name": "stdout",
     "output_type": "stream",
     "text": [
      "game:  26501 , mean loss: 0.43 , recent outcomes:  [1, 1, 1, 1, 1, 1, 1, 1, 1, 1]\n"
     ]
    },
    {
     "name": "stderr",
     "output_type": "stream",
     "text": [
      "training loop:  53% |###################                 | ETA:  1 day, 23:19:25\r"
     ]
    },
    {
     "name": "stdout",
     "output_type": "stream",
     "text": [
      "game:  26601 , mean loss: 4.51 , recent outcomes:  [1, 1, 1, 1, 1, 1, 1, 1, 1, 1]\n"
     ]
    },
    {
     "name": "stderr",
     "output_type": "stream",
     "text": [
      "training loop:  53% |###################                 | ETA:  1 day, 23:04:22\r"
     ]
    },
    {
     "name": "stdout",
     "output_type": "stream",
     "text": [
      "game:  26701 , mean loss: 0.32 , recent outcomes:  [1, 1, 1, 1, 1, 1, 1, 1, 1, 1]\n"
     ]
    },
    {
     "name": "stderr",
     "output_type": "stream",
     "text": [
      "training loop:  53% |###################                 | ETA:  1 day, 22:49:08\r"
     ]
    },
    {
     "name": "stdout",
     "output_type": "stream",
     "text": [
      "game:  26801 , mean loss: 0.63 , recent outcomes:  [1, 1, 1, 1, 1, 1, 1, 1, 1, 1]\n"
     ]
    },
    {
     "name": "stderr",
     "output_type": "stream",
     "text": [
      "training loop:  53% |###################                 | ETA:  1 day, 22:34:47\r"
     ]
    },
    {
     "name": "stdout",
     "output_type": "stream",
     "text": [
      "game:  26901 , mean loss: 0.24 , recent outcomes:  [1, 1, 1, 1, 1, 1, 1, 1, 1, 1]\n"
     ]
    },
    {
     "name": "stderr",
     "output_type": "stream",
     "text": [
      "training loop:  54% |###################                 | ETA:  1 day, 22:19:35\r"
     ]
    },
    {
     "name": "stdout",
     "output_type": "stream",
     "text": [
      "game:  27001 , mean loss: 0.25 , recent outcomes:  [1, 1, 1, 1, 1, 1, 1, 1, 1, 1]\n"
     ]
    },
    {
     "name": "stderr",
     "output_type": "stream",
     "text": [
      "/home/sagarnildass/python_notebooks/Udacity-Deep-Reinforcement-Learning/my_codes/AlphaZeroTicTacToe/MCTS.py:106: SyntaxWarning: \"is\" with a literal. Did you mean \"==\"?\n",
      "  self.U = 0 if self.game.score is 0 else self.V*float('inf')\n",
      "/home/sagarnildass/python_notebooks/Udacity-Deep-Reinforcement-Learning/my_codes/AlphaZeroTicTacToe/MCTS.py:106: SyntaxWarning: \"is\" with a literal. Did you mean \"==\"?\n",
      "  self.U = 0 if self.game.score is 0 else self.V*float('inf')\n",
      "/home/sagarnildass/python_notebooks/Udacity-Deep-Reinforcement-Learning/my_codes/AlphaZeroTicTacToe/MCTS.py:106: SyntaxWarning: \"is\" with a literal. Did you mean \"==\"?\n",
      "  self.U = 0 if self.game.score is 0 else self.V*float('inf')\n",
      "/home/sagarnildass/python_notebooks/Udacity-Deep-Reinforcement-Learning/my_codes/AlphaZeroTicTacToe/MCTS.py:106: SyntaxWarning: \"is\" with a literal. Did you mean \"==\"?\n",
      "  self.U = 0 if self.game.score is 0 else self.V*float('inf')\n"
     ]
    },
    {
     "ename": "KeyboardInterrupt",
     "evalue": "",
     "output_type": "error",
     "traceback": [
      "\u001b[0;31m---------------------------------------------------------------------------\u001b[0m",
      "\u001b[0;31mKeyboardInterrupt\u001b[0m                         Traceback (most recent call last)",
      "Cell \u001b[0;32mIn[8], line 27\u001b[0m\n\u001b[1;32m     25\u001b[0m \u001b[38;5;28;01mwhile\u001b[39;00m mytree\u001b[38;5;241m.\u001b[39moutcome \u001b[38;5;129;01mis\u001b[39;00m \u001b[38;5;28;01mNone\u001b[39;00m:\n\u001b[1;32m     26\u001b[0m     \u001b[38;5;28;01mfor\u001b[39;00m _ \u001b[38;5;129;01min\u001b[39;00m \u001b[38;5;28mrange\u001b[39m(Nmax):\n\u001b[0;32m---> 27\u001b[0m         \u001b[43mmytree\u001b[49m\u001b[38;5;241;43m.\u001b[39;49m\u001b[43mexplore\u001b[49m\u001b[43m(\u001b[49m\u001b[43mpolicy\u001b[49m\u001b[43m)\u001b[49m\n\u001b[1;32m     28\u001b[0m         \u001b[38;5;28;01mif\u001b[39;00m mytree\u001b[38;5;241m.\u001b[39mN \u001b[38;5;241m>\u001b[39m\u001b[38;5;241m=\u001b[39m Nmax:\n\u001b[1;32m     29\u001b[0m             \u001b[38;5;28;01mbreak\u001b[39;00m\n",
      "File \u001b[0;32m~/python_notebooks/Udacity-Deep-Reinforcement-Learning/my_codes/AlphaZeroTicTacToe/MCTS.py:160\u001b[0m, in \u001b[0;36mNode.explore\u001b[0;34m(self, policy)\u001b[0m\n\u001b[1;32m    158\u001b[0m     next_actions, probs, v \u001b[38;5;241m=\u001b[39m process_policy(policy, current\u001b[38;5;241m.\u001b[39mgame)\n\u001b[1;32m    159\u001b[0m     current\u001b[38;5;241m.\u001b[39mnn_v \u001b[38;5;241m=\u001b[39m \u001b[38;5;241m-\u001b[39mv\n\u001b[0;32m--> 160\u001b[0m     \u001b[43mcurrent\u001b[49m\u001b[38;5;241;43m.\u001b[39;49m\u001b[43mcreate_child\u001b[49m\u001b[43m(\u001b[49m\u001b[43mnext_actions\u001b[49m\u001b[43m,\u001b[49m\u001b[43m \u001b[49m\u001b[43mprobs\u001b[49m\u001b[43m)\u001b[49m\n\u001b[1;32m    161\u001b[0m     current\u001b[38;5;241m.\u001b[39mV \u001b[38;5;241m=\u001b[39m \u001b[38;5;241m-\u001b[39m\u001b[38;5;28mfloat\u001b[39m(v)\n\u001b[1;32m    163\u001b[0m current\u001b[38;5;241m.\u001b[39mN \u001b[38;5;241m+\u001b[39m\u001b[38;5;241m=\u001b[39m \u001b[38;5;241m1\u001b[39m\n",
      "File \u001b[0;32m~/python_notebooks/Udacity-Deep-Reinforcement-Learning/my_codes/AlphaZeroTicTacToe/MCTS.py:116\u001b[0m, in \u001b[0;36mNode.create_child\u001b[0;34m(self, actions, probs)\u001b[0m\n\u001b[1;32m    113\u001b[0m games \u001b[38;5;241m=\u001b[39m [ copy(\u001b[38;5;28mself\u001b[39m\u001b[38;5;241m.\u001b[39mgame) \u001b[38;5;28;01mfor\u001b[39;00m a \u001b[38;5;129;01min\u001b[39;00m actions ]\n\u001b[1;32m    115\u001b[0m \u001b[38;5;28;01mfor\u001b[39;00m action, game \u001b[38;5;129;01min\u001b[39;00m \u001b[38;5;28mzip\u001b[39m(actions, games):\n\u001b[0;32m--> 116\u001b[0m     \u001b[43mgame\u001b[49m\u001b[38;5;241;43m.\u001b[39;49m\u001b[43mmove\u001b[49m\u001b[43m(\u001b[49m\u001b[43maction\u001b[49m\u001b[43m)\u001b[49m\n\u001b[1;32m    118\u001b[0m child \u001b[38;5;241m=\u001b[39m { \u001b[38;5;28mtuple\u001b[39m(a):Node(g, \u001b[38;5;28mself\u001b[39m, p) \u001b[38;5;28;01mfor\u001b[39;00m a,g,p \u001b[38;5;129;01min\u001b[39;00m \u001b[38;5;28mzip\u001b[39m(actions, games, probs) }\n\u001b[1;32m    119\u001b[0m \u001b[38;5;28mself\u001b[39m\u001b[38;5;241m.\u001b[39mchild \u001b[38;5;241m=\u001b[39m child\n",
      "File \u001b[0;32m~/python_notebooks/Udacity-Deep-Reinforcement-Learning/my_codes/AlphaZeroTicTacToe/ConnectN.py:204\u001b[0m, in \u001b[0;36mConnectN.move\u001b[0;34m(self, loc)\u001b[0m\n\u001b[1;32m    202\u001b[0m \u001b[38;5;28mself\u001b[39m\u001b[38;5;241m.\u001b[39mn_moves \u001b[38;5;241m+\u001b[39m\u001b[38;5;241m=\u001b[39m \u001b[38;5;241m1\u001b[39m\n\u001b[1;32m    203\u001b[0m \u001b[38;5;28mself\u001b[39m\u001b[38;5;241m.\u001b[39mlast_move \u001b[38;5;241m=\u001b[39m \u001b[38;5;28mtuple\u001b[39m((i,j))\n\u001b[0;32m--> 204\u001b[0m \u001b[38;5;28mself\u001b[39m\u001b[38;5;241m.\u001b[39mscore \u001b[38;5;241m=\u001b[39m \u001b[38;5;28;43mself\u001b[39;49m\u001b[38;5;241;43m.\u001b[39;49m\u001b[43mget_score\u001b[49m\u001b[43m(\u001b[49m\u001b[43m)\u001b[49m\n\u001b[1;32m    206\u001b[0m \u001b[38;5;66;03m# if game is not over, switch player\u001b[39;00m\n\u001b[1;32m    207\u001b[0m \u001b[38;5;28;01mif\u001b[39;00m \u001b[38;5;28mself\u001b[39m\u001b[38;5;241m.\u001b[39mscore \u001b[38;5;129;01mis\u001b[39;00m \u001b[38;5;28;01mNone\u001b[39;00m:\n",
      "File \u001b[0;32m~/python_notebooks/Udacity-Deep-Reinforcement-Learning/my_codes/AlphaZeroTicTacToe/ConnectN.py:119\u001b[0m, in \u001b[0;36mConnectN.get_score\u001b[0;34m(self)\u001b[0m\n\u001b[1;32m    117\u001b[0m \u001b[38;5;66;03m# loop over each possibility\u001b[39;00m\n\u001b[1;32m    118\u001b[0m \u001b[38;5;28;01mfor\u001b[39;00m line \u001b[38;5;129;01min\u001b[39;00m [ver, hor, diag_right, diag_left]:\n\u001b[0;32m--> 119\u001b[0m      \u001b[38;5;28;01mif\u001b[39;00m \u001b[43min_a_row\u001b[49m\u001b[43m(\u001b[49m\u001b[43mline\u001b[49m\u001b[43m,\u001b[49m\u001b[43m \u001b[49m\u001b[38;5;28;43mself\u001b[39;49m\u001b[38;5;241;43m.\u001b[39;49m\u001b[43mN\u001b[49m\u001b[43m,\u001b[49m\u001b[43m \u001b[49m\u001b[38;5;28;43mself\u001b[39;49m\u001b[38;5;241;43m.\u001b[39;49m\u001b[43mplayer\u001b[49m\u001b[43m)\u001b[49m:\n\u001b[1;32m    120\u001b[0m           \u001b[38;5;28;01mreturn\u001b[39;00m \u001b[38;5;28mself\u001b[39m\u001b[38;5;241m.\u001b[39mplayer\n\u001b[1;32m    122\u001b[0m \u001b[38;5;66;03m# no more moves\u001b[39;00m\n",
      "File \u001b[0;32m~/python_notebooks/Udacity-Deep-Reinforcement-Learning/my_codes/AlphaZeroTicTacToe/ConnectN.py:25\u001b[0m, in \u001b[0;36min_a_row\u001b[0;34m(v, N, i)\u001b[0m\n\u001b[1;32m     23\u001b[0m \u001b[38;5;28;01melse\u001b[39;00m:\n\u001b[1;32m     24\u001b[0m      _, _, total \u001b[38;5;241m=\u001b[39m get_runs(v,i)\n\u001b[0;32m---> 25\u001b[0m      \u001b[38;5;28;01mreturn\u001b[39;00m \u001b[43mnp\u001b[49m\u001b[38;5;241;43m.\u001b[39;49m\u001b[43many\u001b[49m\u001b[43m(\u001b[49m\u001b[43mtotal\u001b[49m\u001b[43m \u001b[49m\u001b[38;5;241;43m>\u001b[39;49m\u001b[38;5;241;43m=\u001b[39;49m\u001b[43m \u001b[49m\u001b[43mN\u001b[49m\u001b[43m)\u001b[49m\n",
      "File \u001b[0;32m<__array_function__ internals>:5\u001b[0m, in \u001b[0;36many\u001b[0;34m(*args, **kwargs)\u001b[0m\n",
      "File \u001b[0;32m~/anaconda3/envs/mlagents_unity/lib/python3.9/site-packages/numpy/core/fromnumeric.py:2358\u001b[0m, in \u001b[0;36many\u001b[0;34m(a, axis, out, keepdims, where)\u001b[0m\n\u001b[1;32m   2268\u001b[0m \u001b[38;5;129m@array_function_dispatch\u001b[39m(_any_dispatcher)\n\u001b[1;32m   2269\u001b[0m \u001b[38;5;28;01mdef\u001b[39;00m \u001b[38;5;21many\u001b[39m(a, axis\u001b[38;5;241m=\u001b[39m\u001b[38;5;28;01mNone\u001b[39;00m, out\u001b[38;5;241m=\u001b[39m\u001b[38;5;28;01mNone\u001b[39;00m, keepdims\u001b[38;5;241m=\u001b[39mnp\u001b[38;5;241m.\u001b[39m_NoValue, \u001b[38;5;241m*\u001b[39m, where\u001b[38;5;241m=\u001b[39mnp\u001b[38;5;241m.\u001b[39m_NoValue):\n\u001b[1;32m   2270\u001b[0m     \u001b[38;5;124;03m\"\"\"\u001b[39;00m\n\u001b[1;32m   2271\u001b[0m \u001b[38;5;124;03m    Test whether any array element along a given axis evaluates to True.\u001b[39;00m\n\u001b[1;32m   2272\u001b[0m \n\u001b[0;32m   (...)\u001b[0m\n\u001b[1;32m   2356\u001b[0m \n\u001b[1;32m   2357\u001b[0m \u001b[38;5;124;03m    \"\"\"\u001b[39;00m\n\u001b[0;32m-> 2358\u001b[0m     \u001b[38;5;28;01mreturn\u001b[39;00m \u001b[43m_wrapreduction\u001b[49m\u001b[43m(\u001b[49m\u001b[43ma\u001b[49m\u001b[43m,\u001b[49m\u001b[43m \u001b[49m\u001b[43mnp\u001b[49m\u001b[38;5;241;43m.\u001b[39;49m\u001b[43mlogical_or\u001b[49m\u001b[43m,\u001b[49m\u001b[43m \u001b[49m\u001b[38;5;124;43m'\u001b[39;49m\u001b[38;5;124;43many\u001b[39;49m\u001b[38;5;124;43m'\u001b[39;49m\u001b[43m,\u001b[49m\u001b[43m \u001b[49m\u001b[43maxis\u001b[49m\u001b[43m,\u001b[49m\u001b[43m \u001b[49m\u001b[38;5;28;43;01mNone\u001b[39;49;00m\u001b[43m,\u001b[49m\u001b[43m \u001b[49m\u001b[43mout\u001b[49m\u001b[43m,\u001b[49m\n\u001b[1;32m   2359\u001b[0m \u001b[43m                          \u001b[49m\u001b[43mkeepdims\u001b[49m\u001b[38;5;241;43m=\u001b[39;49m\u001b[43mkeepdims\u001b[49m\u001b[43m,\u001b[49m\u001b[43m \u001b[49m\u001b[43mwhere\u001b[49m\u001b[38;5;241;43m=\u001b[39;49m\u001b[43mwhere\u001b[49m\u001b[43m)\u001b[49m\n",
      "File \u001b[0;32m~/anaconda3/envs/mlagents_unity/lib/python3.9/site-packages/numpy/core/fromnumeric.py:86\u001b[0m, in \u001b[0;36m_wrapreduction\u001b[0;34m(obj, ufunc, method, axis, dtype, out, **kwargs)\u001b[0m\n\u001b[1;32m     83\u001b[0m         \u001b[38;5;28;01melse\u001b[39;00m:\n\u001b[1;32m     84\u001b[0m             \u001b[38;5;28;01mreturn\u001b[39;00m reduction(axis\u001b[38;5;241m=\u001b[39maxis, out\u001b[38;5;241m=\u001b[39mout, \u001b[38;5;241m*\u001b[39m\u001b[38;5;241m*\u001b[39mpasskwargs)\n\u001b[0;32m---> 86\u001b[0m \u001b[38;5;28;01mreturn\u001b[39;00m \u001b[43mufunc\u001b[49m\u001b[38;5;241;43m.\u001b[39;49m\u001b[43mreduce\u001b[49m(obj, axis, dtype, out, \u001b[38;5;241m*\u001b[39m\u001b[38;5;241m*\u001b[39mpasskwargs)\n",
      "\u001b[0;31mKeyboardInterrupt\u001b[0m: "
     ]
    }
   ],
   "source": [
    "# train our agent\n",
    "\n",
    "from collections import deque\n",
    "import MCTS\n",
    "\n",
    "# try a higher number\n",
    "episodes = 50000\n",
    "\n",
    "import progressbar as pb\n",
    "widget = ['training loop: ', pb.Percentage(), ' ', \n",
    "          pb.Bar(), ' ', pb.ETA() ]\n",
    "timer = pb.ProgressBar(widgets=widget, maxval=episodes).start()\n",
    "\n",
    "outcomes = []\n",
    "policy_loss = []\n",
    "\n",
    "Nmax = 2000\n",
    "\n",
    "for e in range(1, episodes+1):\n",
    "\n",
    "    mytree = MCTS.Node(game)\n",
    "    logterm = []\n",
    "    vterm = []\n",
    "    \n",
    "    while mytree.outcome is None:\n",
    "        for _ in range(Nmax):\n",
    "            mytree.explore(policy)\n",
    "            if mytree.N >= Nmax:\n",
    "                break\n",
    "            \n",
    "        current_player = mytree.game.player\n",
    "        mytree, (v, nn_v, p, nn_p) = mytree.next()\n",
    "        mytree.detach_mother()\n",
    "        \n",
    "        loglist = torch.log(nn_p)*p\n",
    "        constant = torch.where(p>0, p*torch.log(p),torch.tensor(0.))\n",
    "        logterm.append(-torch.sum(loglist-constant))\n",
    "\n",
    "        vterm.append(nn_v*current_player)\n",
    "        \n",
    "    # we compute the \"policy_loss\" for computing gradient\n",
    "    outcome = mytree.outcome\n",
    "    outcomes.append(outcome)\n",
    "    \n",
    "    loss = torch.sum( (torch.stack(vterm)-outcome)**2 + torch.stack(logterm) )\n",
    "    optimizer.zero_grad()\n",
    "    loss.backward()\n",
    "    policy_loss.append(float(loss))\n",
    "\n",
    "    optimizer.step()\n",
    "    \n",
    "    if e%100==0:\n",
    "        print(\"game: \",e+1, \", mean loss: {:3.2f}\".format(np.mean(policy_loss[-20:])),\n",
    "              \", recent outcomes: \", outcomes[-10:])\n",
    "    \n",
    "    if e%500==0:\n",
    "        torch.save(policy,'6-6-4-pie-{:d}.policy'.format(e))\n",
    "    del loss\n",
    "    \n",
    "    timer.update(e+1)\n",
    "    \n",
    "timer.finish()"
   ]
  },
  {
   "cell_type": "markdown",
   "id": "829f3a9b",
   "metadata": {},
   "source": [
    "# setup environment to pit your AI against the challenge policy '6-6-4-pie.policy'"
   ]
  },
  {
   "cell_type": "code",
   "execution_count": null,
   "id": "3660ac12",
   "metadata": {},
   "outputs": [],
   "source": [
    "challenge_policy = torch.load('6-6-4-pie-4500.mypolicy')\n",
    "\n",
    "def Challenge_Player_MCTS(game):\n",
    "    mytree = MCTS.Node(copy(game))\n",
    "    for _ in range(1000):\n",
    "        mytree.explore(challenge_policy)\n",
    "       \n",
    "    mytreenext, (v, nn_v, p, nn_p) = mytree.next(temperature=0.1)\n",
    "    \n",
    "    return mytreenext.game.last_move\n",
    "\n"
   ]
  },
  {
   "cell_type": "markdown",
   "id": "f220b795",
   "metadata": {},
   "source": [
    "# Let the game begin!"
   ]
  },
  {
   "cell_type": "code",
   "execution_count": null,
   "id": "ca4b6a9c",
   "metadata": {},
   "outputs": [],
   "source": [
    "%matplotlib notebook\n",
    "gameplay=Play(ConnectN(**game_setting), \n",
    "              player2=None, \n",
    "              player1=Challenge_Player_MCTS)"
   ]
  },
  {
   "cell_type": "code",
   "execution_count": null,
   "id": "21c6cab9",
   "metadata": {},
   "outputs": [],
   "source": []
  }
 ],
 "metadata": {
  "kernelspec": {
   "display_name": "Python 3 (ipykernel)",
   "language": "python",
   "name": "python3"
  },
  "language_info": {
   "codemirror_mode": {
    "name": "ipython",
    "version": 3
   },
   "file_extension": ".py",
   "mimetype": "text/x-python",
   "name": "python",
   "nbconvert_exporter": "python",
   "pygments_lexer": "ipython3",
   "version": "3.9.15"
  }
 },
 "nbformat": 4,
 "nbformat_minor": 5
}
